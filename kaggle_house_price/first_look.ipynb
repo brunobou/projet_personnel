{
 "cells": [
  {
   "cell_type": "code",
   "execution_count": 1,
   "id": "96e47399",
   "metadata": {},
   "outputs": [],
   "source": [
    "import pandas as pd\n",
    "import numpy as np\n",
    "import matplotlib.pyplot as plt\n",
    "%matplotlib inline\n",
    "import seaborn as sns\n",
    "from sklearn.preprocessing import StandardScaler"
   ]
  },
  {
   "cell_type": "code",
   "execution_count": 2,
   "id": "89770199",
   "metadata": {},
   "outputs": [],
   "source": [
    "df_test = pd.read_csv(\"test.csv\",index_col=0)"
   ]
  },
  {
   "cell_type": "code",
   "execution_count": 3,
   "id": "44a46f17",
   "metadata": {},
   "outputs": [
    {
     "data": {
      "text/html": [
       "<div>\n",
       "<style scoped>\n",
       "    .dataframe tbody tr th:only-of-type {\n",
       "        vertical-align: middle;\n",
       "    }\n",
       "\n",
       "    .dataframe tbody tr th {\n",
       "        vertical-align: top;\n",
       "    }\n",
       "\n",
       "    .dataframe thead th {\n",
       "        text-align: right;\n",
       "    }\n",
       "</style>\n",
       "<table border=\"1\" class=\"dataframe\">\n",
       "  <thead>\n",
       "    <tr style=\"text-align: right;\">\n",
       "      <th></th>\n",
       "      <th>MSSubClass</th>\n",
       "      <th>MSZoning</th>\n",
       "      <th>LotFrontage</th>\n",
       "      <th>LotArea</th>\n",
       "      <th>Street</th>\n",
       "      <th>Alley</th>\n",
       "      <th>LotShape</th>\n",
       "      <th>LandContour</th>\n",
       "      <th>Utilities</th>\n",
       "      <th>LotConfig</th>\n",
       "      <th>...</th>\n",
       "      <th>ScreenPorch</th>\n",
       "      <th>PoolArea</th>\n",
       "      <th>PoolQC</th>\n",
       "      <th>Fence</th>\n",
       "      <th>MiscFeature</th>\n",
       "      <th>MiscVal</th>\n",
       "      <th>MoSold</th>\n",
       "      <th>YrSold</th>\n",
       "      <th>SaleType</th>\n",
       "      <th>SaleCondition</th>\n",
       "    </tr>\n",
       "    <tr>\n",
       "      <th>Id</th>\n",
       "      <th></th>\n",
       "      <th></th>\n",
       "      <th></th>\n",
       "      <th></th>\n",
       "      <th></th>\n",
       "      <th></th>\n",
       "      <th></th>\n",
       "      <th></th>\n",
       "      <th></th>\n",
       "      <th></th>\n",
       "      <th></th>\n",
       "      <th></th>\n",
       "      <th></th>\n",
       "      <th></th>\n",
       "      <th></th>\n",
       "      <th></th>\n",
       "      <th></th>\n",
       "      <th></th>\n",
       "      <th></th>\n",
       "      <th></th>\n",
       "      <th></th>\n",
       "    </tr>\n",
       "  </thead>\n",
       "  <tbody>\n",
       "    <tr>\n",
       "      <th>1461</th>\n",
       "      <td>20</td>\n",
       "      <td>RH</td>\n",
       "      <td>80.0</td>\n",
       "      <td>11622</td>\n",
       "      <td>Pave</td>\n",
       "      <td>NaN</td>\n",
       "      <td>Reg</td>\n",
       "      <td>Lvl</td>\n",
       "      <td>AllPub</td>\n",
       "      <td>Inside</td>\n",
       "      <td>...</td>\n",
       "      <td>120</td>\n",
       "      <td>0</td>\n",
       "      <td>NaN</td>\n",
       "      <td>MnPrv</td>\n",
       "      <td>NaN</td>\n",
       "      <td>0</td>\n",
       "      <td>6</td>\n",
       "      <td>2010</td>\n",
       "      <td>WD</td>\n",
       "      <td>Normal</td>\n",
       "    </tr>\n",
       "    <tr>\n",
       "      <th>1462</th>\n",
       "      <td>20</td>\n",
       "      <td>RL</td>\n",
       "      <td>81.0</td>\n",
       "      <td>14267</td>\n",
       "      <td>Pave</td>\n",
       "      <td>NaN</td>\n",
       "      <td>IR1</td>\n",
       "      <td>Lvl</td>\n",
       "      <td>AllPub</td>\n",
       "      <td>Corner</td>\n",
       "      <td>...</td>\n",
       "      <td>0</td>\n",
       "      <td>0</td>\n",
       "      <td>NaN</td>\n",
       "      <td>NaN</td>\n",
       "      <td>Gar2</td>\n",
       "      <td>12500</td>\n",
       "      <td>6</td>\n",
       "      <td>2010</td>\n",
       "      <td>WD</td>\n",
       "      <td>Normal</td>\n",
       "    </tr>\n",
       "    <tr>\n",
       "      <th>1463</th>\n",
       "      <td>60</td>\n",
       "      <td>RL</td>\n",
       "      <td>74.0</td>\n",
       "      <td>13830</td>\n",
       "      <td>Pave</td>\n",
       "      <td>NaN</td>\n",
       "      <td>IR1</td>\n",
       "      <td>Lvl</td>\n",
       "      <td>AllPub</td>\n",
       "      <td>Inside</td>\n",
       "      <td>...</td>\n",
       "      <td>0</td>\n",
       "      <td>0</td>\n",
       "      <td>NaN</td>\n",
       "      <td>MnPrv</td>\n",
       "      <td>NaN</td>\n",
       "      <td>0</td>\n",
       "      <td>3</td>\n",
       "      <td>2010</td>\n",
       "      <td>WD</td>\n",
       "      <td>Normal</td>\n",
       "    </tr>\n",
       "    <tr>\n",
       "      <th>1464</th>\n",
       "      <td>60</td>\n",
       "      <td>RL</td>\n",
       "      <td>78.0</td>\n",
       "      <td>9978</td>\n",
       "      <td>Pave</td>\n",
       "      <td>NaN</td>\n",
       "      <td>IR1</td>\n",
       "      <td>Lvl</td>\n",
       "      <td>AllPub</td>\n",
       "      <td>Inside</td>\n",
       "      <td>...</td>\n",
       "      <td>0</td>\n",
       "      <td>0</td>\n",
       "      <td>NaN</td>\n",
       "      <td>NaN</td>\n",
       "      <td>NaN</td>\n",
       "      <td>0</td>\n",
       "      <td>6</td>\n",
       "      <td>2010</td>\n",
       "      <td>WD</td>\n",
       "      <td>Normal</td>\n",
       "    </tr>\n",
       "    <tr>\n",
       "      <th>1465</th>\n",
       "      <td>120</td>\n",
       "      <td>RL</td>\n",
       "      <td>43.0</td>\n",
       "      <td>5005</td>\n",
       "      <td>Pave</td>\n",
       "      <td>NaN</td>\n",
       "      <td>IR1</td>\n",
       "      <td>HLS</td>\n",
       "      <td>AllPub</td>\n",
       "      <td>Inside</td>\n",
       "      <td>...</td>\n",
       "      <td>144</td>\n",
       "      <td>0</td>\n",
       "      <td>NaN</td>\n",
       "      <td>NaN</td>\n",
       "      <td>NaN</td>\n",
       "      <td>0</td>\n",
       "      <td>1</td>\n",
       "      <td>2010</td>\n",
       "      <td>WD</td>\n",
       "      <td>Normal</td>\n",
       "    </tr>\n",
       "  </tbody>\n",
       "</table>\n",
       "<p>5 rows × 79 columns</p>\n",
       "</div>"
      ],
      "text/plain": [
       "      MSSubClass MSZoning  LotFrontage  LotArea Street Alley LotShape  \\\n",
       "Id                                                                      \n",
       "1461          20       RH         80.0    11622   Pave   NaN      Reg   \n",
       "1462          20       RL         81.0    14267   Pave   NaN      IR1   \n",
       "1463          60       RL         74.0    13830   Pave   NaN      IR1   \n",
       "1464          60       RL         78.0     9978   Pave   NaN      IR1   \n",
       "1465         120       RL         43.0     5005   Pave   NaN      IR1   \n",
       "\n",
       "     LandContour Utilities LotConfig  ... ScreenPorch PoolArea PoolQC  Fence  \\\n",
       "Id                                    ...                                      \n",
       "1461         Lvl    AllPub    Inside  ...         120        0    NaN  MnPrv   \n",
       "1462         Lvl    AllPub    Corner  ...           0        0    NaN    NaN   \n",
       "1463         Lvl    AllPub    Inside  ...           0        0    NaN  MnPrv   \n",
       "1464         Lvl    AllPub    Inside  ...           0        0    NaN    NaN   \n",
       "1465         HLS    AllPub    Inside  ...         144        0    NaN    NaN   \n",
       "\n",
       "     MiscFeature MiscVal  MoSold  YrSold  SaleType  SaleCondition  \n",
       "Id                                                                 \n",
       "1461         NaN       0       6    2010        WD         Normal  \n",
       "1462        Gar2   12500       6    2010        WD         Normal  \n",
       "1463         NaN       0       3    2010        WD         Normal  \n",
       "1464         NaN       0       6    2010        WD         Normal  \n",
       "1465         NaN       0       1    2010        WD         Normal  \n",
       "\n",
       "[5 rows x 79 columns]"
      ]
     },
     "execution_count": 3,
     "metadata": {},
     "output_type": "execute_result"
    }
   ],
   "source": [
    "df_test.head()"
   ]
  },
  {
   "cell_type": "code",
   "execution_count": 4,
   "id": "3930d459",
   "metadata": {
    "scrolled": true
   },
   "outputs": [
    {
     "name": "stdout",
     "output_type": "stream",
     "text": [
      "<class 'pandas.core.frame.DataFrame'>\n",
      "Int64Index: 1459 entries, 1461 to 2919\n",
      "Data columns (total 79 columns):\n",
      " #   Column         Non-Null Count  Dtype  \n",
      "---  ------         --------------  -----  \n",
      " 0   MSSubClass     1459 non-null   int64  \n",
      " 1   MSZoning       1455 non-null   object \n",
      " 2   LotFrontage    1232 non-null   float64\n",
      " 3   LotArea        1459 non-null   int64  \n",
      " 4   Street         1459 non-null   object \n",
      " 5   Alley          107 non-null    object \n",
      " 6   LotShape       1459 non-null   object \n",
      " 7   LandContour    1459 non-null   object \n",
      " 8   Utilities      1457 non-null   object \n",
      " 9   LotConfig      1459 non-null   object \n",
      " 10  LandSlope      1459 non-null   object \n",
      " 11  Neighborhood   1459 non-null   object \n",
      " 12  Condition1     1459 non-null   object \n",
      " 13  Condition2     1459 non-null   object \n",
      " 14  BldgType       1459 non-null   object \n",
      " 15  HouseStyle     1459 non-null   object \n",
      " 16  OverallQual    1459 non-null   int64  \n",
      " 17  OverallCond    1459 non-null   int64  \n",
      " 18  YearBuilt      1459 non-null   int64  \n",
      " 19  YearRemodAdd   1459 non-null   int64  \n",
      " 20  RoofStyle      1459 non-null   object \n",
      " 21  RoofMatl       1459 non-null   object \n",
      " 22  Exterior1st    1458 non-null   object \n",
      " 23  Exterior2nd    1458 non-null   object \n",
      " 24  MasVnrType     1443 non-null   object \n",
      " 25  MasVnrArea     1444 non-null   float64\n",
      " 26  ExterQual      1459 non-null   object \n",
      " 27  ExterCond      1459 non-null   object \n",
      " 28  Foundation     1459 non-null   object \n",
      " 29  BsmtQual       1415 non-null   object \n",
      " 30  BsmtCond       1414 non-null   object \n",
      " 31  BsmtExposure   1415 non-null   object \n",
      " 32  BsmtFinType1   1417 non-null   object \n",
      " 33  BsmtFinSF1     1458 non-null   float64\n",
      " 34  BsmtFinType2   1417 non-null   object \n",
      " 35  BsmtFinSF2     1458 non-null   float64\n",
      " 36  BsmtUnfSF      1458 non-null   float64\n",
      " 37  TotalBsmtSF    1458 non-null   float64\n",
      " 38  Heating        1459 non-null   object \n",
      " 39  HeatingQC      1459 non-null   object \n",
      " 40  CentralAir     1459 non-null   object \n",
      " 41  Electrical     1459 non-null   object \n",
      " 42  1stFlrSF       1459 non-null   int64  \n",
      " 43  2ndFlrSF       1459 non-null   int64  \n",
      " 44  LowQualFinSF   1459 non-null   int64  \n",
      " 45  GrLivArea      1459 non-null   int64  \n",
      " 46  BsmtFullBath   1457 non-null   float64\n",
      " 47  BsmtHalfBath   1457 non-null   float64\n",
      " 48  FullBath       1459 non-null   int64  \n",
      " 49  HalfBath       1459 non-null   int64  \n",
      " 50  BedroomAbvGr   1459 non-null   int64  \n",
      " 51  KitchenAbvGr   1459 non-null   int64  \n",
      " 52  KitchenQual    1458 non-null   object \n",
      " 53  TotRmsAbvGrd   1459 non-null   int64  \n",
      " 54  Functional     1457 non-null   object \n",
      " 55  Fireplaces     1459 non-null   int64  \n",
      " 56  FireplaceQu    729 non-null    object \n",
      " 57  GarageType     1383 non-null   object \n",
      " 58  GarageYrBlt    1381 non-null   float64\n",
      " 59  GarageFinish   1381 non-null   object \n",
      " 60  GarageCars     1458 non-null   float64\n",
      " 61  GarageArea     1458 non-null   float64\n",
      " 62  GarageQual     1381 non-null   object \n",
      " 63  GarageCond     1381 non-null   object \n",
      " 64  PavedDrive     1459 non-null   object \n",
      " 65  WoodDeckSF     1459 non-null   int64  \n",
      " 66  OpenPorchSF    1459 non-null   int64  \n",
      " 67  EnclosedPorch  1459 non-null   int64  \n",
      " 68  3SsnPorch      1459 non-null   int64  \n",
      " 69  ScreenPorch    1459 non-null   int64  \n",
      " 70  PoolArea       1459 non-null   int64  \n",
      " 71  PoolQC         3 non-null      object \n",
      " 72  Fence          290 non-null    object \n",
      " 73  MiscFeature    51 non-null     object \n",
      " 74  MiscVal        1459 non-null   int64  \n",
      " 75  MoSold         1459 non-null   int64  \n",
      " 76  YrSold         1459 non-null   int64  \n",
      " 77  SaleType       1458 non-null   object \n",
      " 78  SaleCondition  1459 non-null   object \n",
      "dtypes: float64(11), int64(25), object(43)\n",
      "memory usage: 911.9+ KB\n"
     ]
    }
   ],
   "source": [
    "df_test.info()"
   ]
  },
  {
   "cell_type": "code",
   "execution_count": 5,
   "id": "e70f6067",
   "metadata": {},
   "outputs": [],
   "source": [
    "df_train = pd.read_csv(\"train.csv\",index_col=0)"
   ]
  },
  {
   "cell_type": "code",
   "execution_count": 6,
   "id": "7fdfa956",
   "metadata": {
    "scrolled": true
   },
   "outputs": [
    {
     "name": "stdout",
     "output_type": "stream",
     "text": [
      "<class 'pandas.core.frame.DataFrame'>\n",
      "Int64Index: 1460 entries, 1 to 1460\n",
      "Data columns (total 80 columns):\n",
      " #   Column         Non-Null Count  Dtype  \n",
      "---  ------         --------------  -----  \n",
      " 0   MSSubClass     1460 non-null   int64  \n",
      " 1   MSZoning       1460 non-null   object \n",
      " 2   LotFrontage    1201 non-null   float64\n",
      " 3   LotArea        1460 non-null   int64  \n",
      " 4   Street         1460 non-null   object \n",
      " 5   Alley          91 non-null     object \n",
      " 6   LotShape       1460 non-null   object \n",
      " 7   LandContour    1460 non-null   object \n",
      " 8   Utilities      1460 non-null   object \n",
      " 9   LotConfig      1460 non-null   object \n",
      " 10  LandSlope      1460 non-null   object \n",
      " 11  Neighborhood   1460 non-null   object \n",
      " 12  Condition1     1460 non-null   object \n",
      " 13  Condition2     1460 non-null   object \n",
      " 14  BldgType       1460 non-null   object \n",
      " 15  HouseStyle     1460 non-null   object \n",
      " 16  OverallQual    1460 non-null   int64  \n",
      " 17  OverallCond    1460 non-null   int64  \n",
      " 18  YearBuilt      1460 non-null   int64  \n",
      " 19  YearRemodAdd   1460 non-null   int64  \n",
      " 20  RoofStyle      1460 non-null   object \n",
      " 21  RoofMatl       1460 non-null   object \n",
      " 22  Exterior1st    1460 non-null   object \n",
      " 23  Exterior2nd    1460 non-null   object \n",
      " 24  MasVnrType     1452 non-null   object \n",
      " 25  MasVnrArea     1452 non-null   float64\n",
      " 26  ExterQual      1460 non-null   object \n",
      " 27  ExterCond      1460 non-null   object \n",
      " 28  Foundation     1460 non-null   object \n",
      " 29  BsmtQual       1423 non-null   object \n",
      " 30  BsmtCond       1423 non-null   object \n",
      " 31  BsmtExposure   1422 non-null   object \n",
      " 32  BsmtFinType1   1423 non-null   object \n",
      " 33  BsmtFinSF1     1460 non-null   int64  \n",
      " 34  BsmtFinType2   1422 non-null   object \n",
      " 35  BsmtFinSF2     1460 non-null   int64  \n",
      " 36  BsmtUnfSF      1460 non-null   int64  \n",
      " 37  TotalBsmtSF    1460 non-null   int64  \n",
      " 38  Heating        1460 non-null   object \n",
      " 39  HeatingQC      1460 non-null   object \n",
      " 40  CentralAir     1460 non-null   object \n",
      " 41  Electrical     1459 non-null   object \n",
      " 42  1stFlrSF       1460 non-null   int64  \n",
      " 43  2ndFlrSF       1460 non-null   int64  \n",
      " 44  LowQualFinSF   1460 non-null   int64  \n",
      " 45  GrLivArea      1460 non-null   int64  \n",
      " 46  BsmtFullBath   1460 non-null   int64  \n",
      " 47  BsmtHalfBath   1460 non-null   int64  \n",
      " 48  FullBath       1460 non-null   int64  \n",
      " 49  HalfBath       1460 non-null   int64  \n",
      " 50  BedroomAbvGr   1460 non-null   int64  \n",
      " 51  KitchenAbvGr   1460 non-null   int64  \n",
      " 52  KitchenQual    1460 non-null   object \n",
      " 53  TotRmsAbvGrd   1460 non-null   int64  \n",
      " 54  Functional     1460 non-null   object \n",
      " 55  Fireplaces     1460 non-null   int64  \n",
      " 56  FireplaceQu    770 non-null    object \n",
      " 57  GarageType     1379 non-null   object \n",
      " 58  GarageYrBlt    1379 non-null   float64\n",
      " 59  GarageFinish   1379 non-null   object \n",
      " 60  GarageCars     1460 non-null   int64  \n",
      " 61  GarageArea     1460 non-null   int64  \n",
      " 62  GarageQual     1379 non-null   object \n",
      " 63  GarageCond     1379 non-null   object \n",
      " 64  PavedDrive     1460 non-null   object \n",
      " 65  WoodDeckSF     1460 non-null   int64  \n",
      " 66  OpenPorchSF    1460 non-null   int64  \n",
      " 67  EnclosedPorch  1460 non-null   int64  \n",
      " 68  3SsnPorch      1460 non-null   int64  \n",
      " 69  ScreenPorch    1460 non-null   int64  \n",
      " 70  PoolArea       1460 non-null   int64  \n",
      " 71  PoolQC         7 non-null      object \n",
      " 72  Fence          281 non-null    object \n",
      " 73  MiscFeature    54 non-null     object \n",
      " 74  MiscVal        1460 non-null   int64  \n",
      " 75  MoSold         1460 non-null   int64  \n",
      " 76  YrSold         1460 non-null   int64  \n",
      " 77  SaleType       1460 non-null   object \n",
      " 78  SaleCondition  1460 non-null   object \n",
      " 79  SalePrice      1460 non-null   int64  \n",
      "dtypes: float64(3), int64(34), object(43)\n",
      "memory usage: 923.9+ KB\n"
     ]
    }
   ],
   "source": [
    "df_train.info()"
   ]
  },
  {
   "cell_type": "code",
   "execution_count": 7,
   "id": "32700b7a",
   "metadata": {},
   "outputs": [
    {
     "data": {
      "text/html": [
       "<div>\n",
       "<style scoped>\n",
       "    .dataframe tbody tr th:only-of-type {\n",
       "        vertical-align: middle;\n",
       "    }\n",
       "\n",
       "    .dataframe tbody tr th {\n",
       "        vertical-align: top;\n",
       "    }\n",
       "\n",
       "    .dataframe thead th {\n",
       "        text-align: right;\n",
       "    }\n",
       "</style>\n",
       "<table border=\"1\" class=\"dataframe\">\n",
       "  <thead>\n",
       "    <tr style=\"text-align: right;\">\n",
       "      <th></th>\n",
       "      <th>MSSubClass</th>\n",
       "      <th>MSZoning</th>\n",
       "      <th>LotFrontage</th>\n",
       "      <th>LotArea</th>\n",
       "      <th>Street</th>\n",
       "      <th>Alley</th>\n",
       "      <th>LotShape</th>\n",
       "      <th>LandContour</th>\n",
       "      <th>Utilities</th>\n",
       "      <th>LotConfig</th>\n",
       "      <th>...</th>\n",
       "      <th>PoolArea</th>\n",
       "      <th>PoolQC</th>\n",
       "      <th>Fence</th>\n",
       "      <th>MiscFeature</th>\n",
       "      <th>MiscVal</th>\n",
       "      <th>MoSold</th>\n",
       "      <th>YrSold</th>\n",
       "      <th>SaleType</th>\n",
       "      <th>SaleCondition</th>\n",
       "      <th>SalePrice</th>\n",
       "    </tr>\n",
       "    <tr>\n",
       "      <th>Id</th>\n",
       "      <th></th>\n",
       "      <th></th>\n",
       "      <th></th>\n",
       "      <th></th>\n",
       "      <th></th>\n",
       "      <th></th>\n",
       "      <th></th>\n",
       "      <th></th>\n",
       "      <th></th>\n",
       "      <th></th>\n",
       "      <th></th>\n",
       "      <th></th>\n",
       "      <th></th>\n",
       "      <th></th>\n",
       "      <th></th>\n",
       "      <th></th>\n",
       "      <th></th>\n",
       "      <th></th>\n",
       "      <th></th>\n",
       "      <th></th>\n",
       "      <th></th>\n",
       "    </tr>\n",
       "  </thead>\n",
       "  <tbody>\n",
       "    <tr>\n",
       "      <th>1</th>\n",
       "      <td>60</td>\n",
       "      <td>RL</td>\n",
       "      <td>65.0</td>\n",
       "      <td>8450</td>\n",
       "      <td>Pave</td>\n",
       "      <td>NaN</td>\n",
       "      <td>Reg</td>\n",
       "      <td>Lvl</td>\n",
       "      <td>AllPub</td>\n",
       "      <td>Inside</td>\n",
       "      <td>...</td>\n",
       "      <td>0</td>\n",
       "      <td>NaN</td>\n",
       "      <td>NaN</td>\n",
       "      <td>NaN</td>\n",
       "      <td>0</td>\n",
       "      <td>2</td>\n",
       "      <td>2008</td>\n",
       "      <td>WD</td>\n",
       "      <td>Normal</td>\n",
       "      <td>208500</td>\n",
       "    </tr>\n",
       "    <tr>\n",
       "      <th>2</th>\n",
       "      <td>20</td>\n",
       "      <td>RL</td>\n",
       "      <td>80.0</td>\n",
       "      <td>9600</td>\n",
       "      <td>Pave</td>\n",
       "      <td>NaN</td>\n",
       "      <td>Reg</td>\n",
       "      <td>Lvl</td>\n",
       "      <td>AllPub</td>\n",
       "      <td>FR2</td>\n",
       "      <td>...</td>\n",
       "      <td>0</td>\n",
       "      <td>NaN</td>\n",
       "      <td>NaN</td>\n",
       "      <td>NaN</td>\n",
       "      <td>0</td>\n",
       "      <td>5</td>\n",
       "      <td>2007</td>\n",
       "      <td>WD</td>\n",
       "      <td>Normal</td>\n",
       "      <td>181500</td>\n",
       "    </tr>\n",
       "    <tr>\n",
       "      <th>3</th>\n",
       "      <td>60</td>\n",
       "      <td>RL</td>\n",
       "      <td>68.0</td>\n",
       "      <td>11250</td>\n",
       "      <td>Pave</td>\n",
       "      <td>NaN</td>\n",
       "      <td>IR1</td>\n",
       "      <td>Lvl</td>\n",
       "      <td>AllPub</td>\n",
       "      <td>Inside</td>\n",
       "      <td>...</td>\n",
       "      <td>0</td>\n",
       "      <td>NaN</td>\n",
       "      <td>NaN</td>\n",
       "      <td>NaN</td>\n",
       "      <td>0</td>\n",
       "      <td>9</td>\n",
       "      <td>2008</td>\n",
       "      <td>WD</td>\n",
       "      <td>Normal</td>\n",
       "      <td>223500</td>\n",
       "    </tr>\n",
       "    <tr>\n",
       "      <th>4</th>\n",
       "      <td>70</td>\n",
       "      <td>RL</td>\n",
       "      <td>60.0</td>\n",
       "      <td>9550</td>\n",
       "      <td>Pave</td>\n",
       "      <td>NaN</td>\n",
       "      <td>IR1</td>\n",
       "      <td>Lvl</td>\n",
       "      <td>AllPub</td>\n",
       "      <td>Corner</td>\n",
       "      <td>...</td>\n",
       "      <td>0</td>\n",
       "      <td>NaN</td>\n",
       "      <td>NaN</td>\n",
       "      <td>NaN</td>\n",
       "      <td>0</td>\n",
       "      <td>2</td>\n",
       "      <td>2006</td>\n",
       "      <td>WD</td>\n",
       "      <td>Abnorml</td>\n",
       "      <td>140000</td>\n",
       "    </tr>\n",
       "    <tr>\n",
       "      <th>5</th>\n",
       "      <td>60</td>\n",
       "      <td>RL</td>\n",
       "      <td>84.0</td>\n",
       "      <td>14260</td>\n",
       "      <td>Pave</td>\n",
       "      <td>NaN</td>\n",
       "      <td>IR1</td>\n",
       "      <td>Lvl</td>\n",
       "      <td>AllPub</td>\n",
       "      <td>FR2</td>\n",
       "      <td>...</td>\n",
       "      <td>0</td>\n",
       "      <td>NaN</td>\n",
       "      <td>NaN</td>\n",
       "      <td>NaN</td>\n",
       "      <td>0</td>\n",
       "      <td>12</td>\n",
       "      <td>2008</td>\n",
       "      <td>WD</td>\n",
       "      <td>Normal</td>\n",
       "      <td>250000</td>\n",
       "    </tr>\n",
       "  </tbody>\n",
       "</table>\n",
       "<p>5 rows × 80 columns</p>\n",
       "</div>"
      ],
      "text/plain": [
       "    MSSubClass MSZoning  LotFrontage  LotArea Street Alley LotShape  \\\n",
       "Id                                                                    \n",
       "1           60       RL         65.0     8450   Pave   NaN      Reg   \n",
       "2           20       RL         80.0     9600   Pave   NaN      Reg   \n",
       "3           60       RL         68.0    11250   Pave   NaN      IR1   \n",
       "4           70       RL         60.0     9550   Pave   NaN      IR1   \n",
       "5           60       RL         84.0    14260   Pave   NaN      IR1   \n",
       "\n",
       "   LandContour Utilities LotConfig  ... PoolArea PoolQC Fence MiscFeature  \\\n",
       "Id                                  ...                                     \n",
       "1          Lvl    AllPub    Inside  ...        0    NaN   NaN         NaN   \n",
       "2          Lvl    AllPub       FR2  ...        0    NaN   NaN         NaN   \n",
       "3          Lvl    AllPub    Inside  ...        0    NaN   NaN         NaN   \n",
       "4          Lvl    AllPub    Corner  ...        0    NaN   NaN         NaN   \n",
       "5          Lvl    AllPub       FR2  ...        0    NaN   NaN         NaN   \n",
       "\n",
       "   MiscVal MoSold  YrSold  SaleType  SaleCondition  SalePrice  \n",
       "Id                                                             \n",
       "1        0      2    2008        WD         Normal     208500  \n",
       "2        0      5    2007        WD         Normal     181500  \n",
       "3        0      9    2008        WD         Normal     223500  \n",
       "4        0      2    2006        WD        Abnorml     140000  \n",
       "5        0     12    2008        WD         Normal     250000  \n",
       "\n",
       "[5 rows x 80 columns]"
      ]
     },
     "execution_count": 7,
     "metadata": {},
     "output_type": "execute_result"
    }
   ],
   "source": [
    "df_train.head()"
   ]
  },
  {
   "cell_type": "code",
   "execution_count": 8,
   "id": "271926de",
   "metadata": {},
   "outputs": [
    {
     "data": {
      "text/plain": [
       "MSSubClass         0\n",
       "MSZoning           0\n",
       "LotFrontage      259\n",
       "LotArea            0\n",
       "Street             0\n",
       "                ... \n",
       "MoSold             0\n",
       "YrSold             0\n",
       "SaleType           0\n",
       "SaleCondition      0\n",
       "SalePrice          0\n",
       "Length: 80, dtype: int64"
      ]
     },
     "execution_count": 8,
     "metadata": {},
     "output_type": "execute_result"
    }
   ],
   "source": [
    "df_train.isna().sum()"
   ]
  },
  {
   "cell_type": "code",
   "execution_count": 9,
   "id": "f73fd6b7",
   "metadata": {},
   "outputs": [],
   "source": [
    "#gestion des nan"
   ]
  },
  {
   "cell_type": "code",
   "execution_count": 10,
   "id": "50bb1aa3",
   "metadata": {},
   "outputs": [
    {
     "data": {
      "text/plain": [
       "NaN      259\n",
       "60.0     143\n",
       "70.0      70\n",
       "80.0      69\n",
       "50.0      57\n",
       "        ... \n",
       "137.0      1\n",
       "38.0       1\n",
       "33.0       1\n",
       "150.0      1\n",
       "46.0       1\n",
       "Name: LotFrontage, Length: 111, dtype: int64"
      ]
     },
     "execution_count": 10,
     "metadata": {},
     "output_type": "execute_result"
    }
   ],
   "source": [
    "df_train[\"LotFrontage\"].value_counts(dropna=False)"
   ]
  },
  {
   "cell_type": "code",
   "execution_count": 11,
   "id": "3ea01bf4",
   "metadata": {},
   "outputs": [
    {
     "data": {
      "text/plain": [
       "array([ 65.,  80.,  68.,  60.,  84.,  85.,  75.,  nan,  51.,  50.,  70.,\n",
       "        91.,  72.,  66., 101.,  57.,  44., 110.,  98.,  47., 108., 112.,\n",
       "        74., 115.,  61.,  48.,  33.,  52., 100.,  24.,  89.,  63.,  76.,\n",
       "        81.,  95.,  69.,  21.,  32.,  78., 121., 122.,  40., 105.,  73.,\n",
       "        77.,  64.,  94.,  34.,  90.,  55.,  88.,  82.,  71., 120., 107.,\n",
       "        92., 134.,  62.,  86., 141.,  97.,  54.,  41.,  79., 174.,  99.,\n",
       "        67.,  83.,  43., 103.,  93.,  30., 129., 140.,  35.,  37., 118.,\n",
       "        87., 116., 150., 111.,  49.,  96.,  59.,  36.,  56., 102.,  58.,\n",
       "        38., 109., 130.,  53., 137.,  45., 106., 104.,  42.,  39., 144.,\n",
       "       114., 128., 149., 313., 168., 182., 138., 160., 152., 124., 153.,\n",
       "        46.])"
      ]
     },
     "execution_count": 11,
     "metadata": {},
     "output_type": "execute_result"
    }
   ],
   "source": [
    "df_train[\"LotFrontage\"].unique()"
   ]
  },
  {
   "cell_type": "code",
   "execution_count": 12,
   "id": "8b908884",
   "metadata": {},
   "outputs": [],
   "source": [
    "#Au vue de la définition de cette variable les nan doivent être changé en 0 (pas de rue connectée)\n",
    "df_train[\"LotFrontage\"] = df_train[\"LotFrontage\"].fillna(0.)"
   ]
  },
  {
   "cell_type": "code",
   "execution_count": 13,
   "id": "e701377a",
   "metadata": {},
   "outputs": [
    {
     "data": {
      "text/plain": [
       "array([nan, 'Grvl', 'Pave'], dtype=object)"
      ]
     },
     "execution_count": 13,
     "metadata": {},
     "output_type": "execute_result"
    }
   ],
   "source": [
    "df_train[\"Alley\"].unique()"
   ]
  },
  {
   "cell_type": "code",
   "execution_count": 14,
   "id": "68e1ed6d",
   "metadata": {},
   "outputs": [],
   "source": [
    "#au vue de la définition les nan devrait être des \"sans\" \n",
    "df_train[\"Alley\"] = df_train[\"Alley\"].fillna(\"NoAl\")"
   ]
  },
  {
   "cell_type": "code",
   "execution_count": null,
   "id": "b9716857",
   "metadata": {},
   "outputs": [],
   "source": []
  },
  {
   "cell_type": "code",
   "execution_count": 15,
   "id": "2be9931d",
   "metadata": {},
   "outputs": [
    {
     "data": {
      "text/plain": [
       "array(['BrkFace', 'None', 'Stone', 'BrkCmn', nan], dtype=object)"
      ]
     },
     "execution_count": 15,
     "metadata": {},
     "output_type": "execute_result"
    }
   ],
   "source": [
    "df_train[\"MasVnrType\"].unique()"
   ]
  },
  {
   "cell_type": "code",
   "execution_count": 16,
   "id": "50e312fa",
   "metadata": {
    "scrolled": true
   },
   "outputs": [
    {
     "data": {
      "text/plain": [
       "array([1.960e+02, 0.000e+00, 1.620e+02, 3.500e+02, 1.860e+02, 2.400e+02,\n",
       "       2.860e+02, 3.060e+02, 2.120e+02, 1.800e+02, 3.800e+02, 2.810e+02,\n",
       "       6.400e+02, 2.000e+02, 2.460e+02, 1.320e+02, 6.500e+02, 1.010e+02,\n",
       "       4.120e+02, 2.720e+02, 4.560e+02, 1.031e+03, 1.780e+02, 5.730e+02,\n",
       "       3.440e+02, 2.870e+02, 1.670e+02, 1.115e+03, 4.000e+01, 1.040e+02,\n",
       "       5.760e+02, 4.430e+02, 4.680e+02, 6.600e+01, 2.200e+01, 2.840e+02,\n",
       "       7.600e+01, 2.030e+02, 6.800e+01, 1.830e+02, 4.800e+01, 2.800e+01,\n",
       "       3.360e+02, 6.000e+02, 7.680e+02, 4.800e+02, 2.200e+02, 1.840e+02,\n",
       "       1.129e+03, 1.160e+02, 1.350e+02, 2.660e+02, 8.500e+01, 3.090e+02,\n",
       "       1.360e+02, 2.880e+02, 7.000e+01, 3.200e+02, 5.000e+01, 1.200e+02,\n",
       "       4.360e+02, 2.520e+02, 8.400e+01, 6.640e+02, 2.260e+02, 3.000e+02,\n",
       "       6.530e+02, 1.120e+02, 4.910e+02, 2.680e+02, 7.480e+02, 9.800e+01,\n",
       "       2.750e+02, 1.380e+02, 2.050e+02, 2.620e+02, 1.280e+02, 2.600e+02,\n",
       "       1.530e+02, 6.400e+01, 3.120e+02, 1.600e+01, 9.220e+02, 1.420e+02,\n",
       "       2.900e+02, 1.270e+02, 5.060e+02, 2.970e+02,       nan, 6.040e+02,\n",
       "       2.540e+02, 3.600e+01, 1.020e+02, 4.720e+02, 4.810e+02, 1.080e+02,\n",
       "       3.020e+02, 1.720e+02, 3.990e+02, 2.700e+02, 4.600e+01, 2.100e+02,\n",
       "       1.740e+02, 3.480e+02, 3.150e+02, 2.990e+02, 3.400e+02, 1.660e+02,\n",
       "       7.200e+01, 3.100e+01, 3.400e+01, 2.380e+02, 1.600e+03, 3.650e+02,\n",
       "       5.600e+01, 1.500e+02, 2.780e+02, 2.560e+02, 2.250e+02, 3.700e+02,\n",
       "       3.880e+02, 1.750e+02, 2.960e+02, 1.460e+02, 1.130e+02, 1.760e+02,\n",
       "       6.160e+02, 3.000e+01, 1.060e+02, 8.700e+02, 3.620e+02, 5.300e+02,\n",
       "       5.000e+02, 5.100e+02, 2.470e+02, 3.050e+02, 2.550e+02, 1.250e+02,\n",
       "       1.000e+02, 4.320e+02, 1.260e+02, 4.730e+02, 7.400e+01, 1.450e+02,\n",
       "       2.320e+02, 3.760e+02, 4.200e+01, 1.610e+02, 1.100e+02, 1.800e+01,\n",
       "       2.240e+02, 2.480e+02, 8.000e+01, 3.040e+02, 2.150e+02, 7.720e+02,\n",
       "       4.350e+02, 3.780e+02, 5.620e+02, 1.680e+02, 8.900e+01, 2.850e+02,\n",
       "       3.600e+02, 9.400e+01, 3.330e+02, 9.210e+02, 7.620e+02, 5.940e+02,\n",
       "       2.190e+02, 1.880e+02, 4.790e+02, 5.840e+02, 1.820e+02, 2.500e+02,\n",
       "       2.920e+02, 2.450e+02, 2.070e+02, 8.200e+01, 9.700e+01, 3.350e+02,\n",
       "       2.080e+02, 4.200e+02, 1.700e+02, 4.590e+02, 2.800e+02, 9.900e+01,\n",
       "       1.920e+02, 2.040e+02, 2.330e+02, 1.560e+02, 4.520e+02, 5.130e+02,\n",
       "       2.610e+02, 1.640e+02, 2.590e+02, 2.090e+02, 2.630e+02, 2.160e+02,\n",
       "       3.510e+02, 6.600e+02, 3.810e+02, 5.400e+01, 5.280e+02, 2.580e+02,\n",
       "       4.640e+02, 5.700e+01, 1.470e+02, 1.170e+03, 2.930e+02, 6.300e+02,\n",
       "       4.660e+02, 1.090e+02, 4.100e+01, 1.600e+02, 2.890e+02, 6.510e+02,\n",
       "       1.690e+02, 9.500e+01, 4.420e+02, 2.020e+02, 3.380e+02, 8.940e+02,\n",
       "       3.280e+02, 6.730e+02, 6.030e+02, 1.000e+00, 3.750e+02, 9.000e+01,\n",
       "       3.800e+01, 1.570e+02, 1.100e+01, 1.400e+02, 1.300e+02, 1.480e+02,\n",
       "       8.600e+02, 4.240e+02, 1.047e+03, 2.430e+02, 8.160e+02, 3.870e+02,\n",
       "       2.230e+02, 1.580e+02, 1.370e+02, 1.150e+02, 1.890e+02, 2.740e+02,\n",
       "       1.170e+02, 6.000e+01, 1.220e+02, 9.200e+01, 4.150e+02, 7.600e+02,\n",
       "       2.700e+01, 7.500e+01, 3.610e+02, 1.050e+02, 3.420e+02, 2.980e+02,\n",
       "       5.410e+02, 2.360e+02, 1.440e+02, 4.230e+02, 4.400e+01, 1.510e+02,\n",
       "       9.750e+02, 4.500e+02, 2.300e+02, 5.710e+02, 2.400e+01, 5.300e+01,\n",
       "       2.060e+02, 1.400e+01, 3.240e+02, 2.950e+02, 3.960e+02, 6.700e+01,\n",
       "       1.540e+02, 4.250e+02, 4.500e+01, 1.378e+03, 3.370e+02, 1.490e+02,\n",
       "       1.430e+02, 5.100e+01, 1.710e+02, 2.340e+02, 6.300e+01, 7.660e+02,\n",
       "       3.200e+01, 8.100e+01, 1.630e+02, 5.540e+02, 2.180e+02, 6.320e+02,\n",
       "       1.140e+02, 5.670e+02, 3.590e+02, 4.510e+02, 6.210e+02, 7.880e+02,\n",
       "       8.600e+01, 7.960e+02, 3.910e+02, 2.280e+02, 8.800e+01, 1.650e+02,\n",
       "       4.280e+02, 4.100e+02, 5.640e+02, 3.680e+02, 3.180e+02, 5.790e+02,\n",
       "       6.500e+01, 7.050e+02, 4.080e+02, 2.440e+02, 1.230e+02, 3.660e+02,\n",
       "       7.310e+02, 4.480e+02, 2.940e+02, 3.100e+02, 2.370e+02, 4.260e+02,\n",
       "       9.600e+01, 4.380e+02, 1.940e+02, 1.190e+02])"
      ]
     },
     "execution_count": 16,
     "metadata": {},
     "output_type": "execute_result"
    }
   ],
   "source": [
    "df_train[\"MasVnrArea\"].unique()"
   ]
  },
  {
   "cell_type": "code",
   "execution_count": 17,
   "id": "36e68dbf",
   "metadata": {},
   "outputs": [
    {
     "data": {
      "text/plain": [
       "Id\n",
       "235    NaN\n",
       "530    NaN\n",
       "651    NaN\n",
       "937    NaN\n",
       "974    NaN\n",
       "978    NaN\n",
       "1244   NaN\n",
       "1279   NaN\n",
       "Name: MasVnrArea, dtype: float64"
      ]
     },
     "execution_count": 17,
     "metadata": {},
     "output_type": "execute_result"
    }
   ],
   "source": [
    "records = df_train[df_train[\"MasVnrType\"].isna()==True]\n",
    "records[\"MasVnrArea\"]"
   ]
  },
  {
   "cell_type": "code",
   "execution_count": 18,
   "id": "e3d59b87",
   "metadata": {},
   "outputs": [],
   "source": [
    "#Donc avec les definitions, on choisi nan -> \"None\" et NaN ->0.000e00\n",
    "df_train[\"MasVnrType\"] = df_train[\"MasVnrType\"].fillna(\"None\")\n",
    "df_train[\"MasVnrArea\"] = df_train[\"MasVnrArea\"].fillna(0.0e+00)"
   ]
  },
  {
   "cell_type": "code",
   "execution_count": 19,
   "id": "4ef87f39",
   "metadata": {},
   "outputs": [
    {
     "data": {
      "text/plain": [
       "array(['BrkFace', 'None', 'Stone', 'BrkCmn'], dtype=object)"
      ]
     },
     "execution_count": 19,
     "metadata": {},
     "output_type": "execute_result"
    }
   ],
   "source": [
    "df_train[\"MasVnrType\"].unique()"
   ]
  },
  {
   "cell_type": "code",
   "execution_count": 20,
   "id": "c995de1d",
   "metadata": {},
   "outputs": [
    {
     "data": {
      "text/plain": [
       "0.0      869\n",
       "180.0      8\n",
       "72.0       8\n",
       "108.0      8\n",
       "120.0      7\n",
       "        ... \n",
       "562.0      1\n",
       "89.0       1\n",
       "921.0      1\n",
       "762.0      1\n",
       "119.0      1\n",
       "Name: MasVnrArea, Length: 327, dtype: int64"
      ]
     },
     "execution_count": 20,
     "metadata": {},
     "output_type": "execute_result"
    }
   ],
   "source": [
    "df_train[\"MasVnrArea\"].value_counts(dropna=False)"
   ]
  },
  {
   "cell_type": "code",
   "execution_count": 21,
   "id": "6cfb6cf6",
   "metadata": {},
   "outputs": [],
   "source": [
    " #BsmtQual       1423 non-null   object \n",
    " #30  BsmtCond       1423 non-null   object \n",
    " #31  BsmtExposure   1422 non-null   object \n",
    " #32  BsmtFinType1   1423 non-null   object \n",
    " #33  BsmtFinSF1     1460 non-null   int64  \n",
    " #34  BsmtFinType2   1422 non-null   object"
   ]
  },
  {
   "cell_type": "code",
   "execution_count": 22,
   "id": "2528d9a6",
   "metadata": {},
   "outputs": [
    {
     "data": {
      "text/plain": [
       "array(['Gd', 'TA', 'Ex', nan, 'Fa'], dtype=object)"
      ]
     },
     "execution_count": 22,
     "metadata": {},
     "output_type": "execute_result"
    }
   ],
   "source": [
    "df_train[\"BsmtQual\"].unique()"
   ]
  },
  {
   "cell_type": "code",
   "execution_count": 23,
   "id": "43d4d891",
   "metadata": {},
   "outputs": [
    {
     "data": {
      "text/plain": [
       "array(['TA', 'Gd', nan, 'Fa', 'Po'], dtype=object)"
      ]
     },
     "execution_count": 23,
     "metadata": {},
     "output_type": "execute_result"
    }
   ],
   "source": [
    "df_train[\"BsmtCond\"].unique()"
   ]
  },
  {
   "cell_type": "code",
   "execution_count": 24,
   "id": "b1825796",
   "metadata": {},
   "outputs": [
    {
     "data": {
      "text/plain": [
       "array(['No', 'Gd', 'Mn', 'Av', nan], dtype=object)"
      ]
     },
     "execution_count": 24,
     "metadata": {},
     "output_type": "execute_result"
    }
   ],
   "source": [
    "df_train[\"BsmtExposure\"].unique()"
   ]
  },
  {
   "cell_type": "code",
   "execution_count": 25,
   "id": "662af8c8",
   "metadata": {},
   "outputs": [
    {
     "data": {
      "text/plain": [
       "array(['GLQ', 'ALQ', 'Unf', 'Rec', 'BLQ', nan, 'LwQ'], dtype=object)"
      ]
     },
     "execution_count": 25,
     "metadata": {},
     "output_type": "execute_result"
    }
   ],
   "source": [
    "df_train[\"BsmtFinType1\"].unique()"
   ]
  },
  {
   "cell_type": "code",
   "execution_count": 26,
   "id": "679a7e57",
   "metadata": {},
   "outputs": [
    {
     "data": {
      "text/plain": [
       "array(['Unf', 'BLQ', nan, 'ALQ', 'Rec', 'LwQ', 'GLQ'], dtype=object)"
      ]
     },
     "execution_count": 26,
     "metadata": {},
     "output_type": "execute_result"
    }
   ],
   "source": [
    "df_train[\"BsmtFinType2\"].unique()"
   ]
  },
  {
   "cell_type": "code",
   "execution_count": 27,
   "id": "3b5e69e7",
   "metadata": {
    "scrolled": true
   },
   "outputs": [
    {
     "data": {
      "text/html": [
       "<div>\n",
       "<style scoped>\n",
       "    .dataframe tbody tr th:only-of-type {\n",
       "        vertical-align: middle;\n",
       "    }\n",
       "\n",
       "    .dataframe tbody tr th {\n",
       "        vertical-align: top;\n",
       "    }\n",
       "\n",
       "    .dataframe thead th {\n",
       "        text-align: right;\n",
       "    }\n",
       "</style>\n",
       "<table border=\"1\" class=\"dataframe\">\n",
       "  <thead>\n",
       "    <tr style=\"text-align: right;\">\n",
       "      <th></th>\n",
       "      <th>BsmtQual</th>\n",
       "      <th>BsmtCond</th>\n",
       "      <th>BsmtExposure</th>\n",
       "      <th>BsmtFinType1</th>\n",
       "      <th>BsmtFinType2</th>\n",
       "    </tr>\n",
       "    <tr>\n",
       "      <th>Id</th>\n",
       "      <th></th>\n",
       "      <th></th>\n",
       "      <th></th>\n",
       "      <th></th>\n",
       "      <th></th>\n",
       "    </tr>\n",
       "  </thead>\n",
       "  <tbody>\n",
       "    <tr>\n",
       "      <th>18</th>\n",
       "      <td>NaN</td>\n",
       "      <td>NaN</td>\n",
       "      <td>NaN</td>\n",
       "      <td>NaN</td>\n",
       "      <td>NaN</td>\n",
       "    </tr>\n",
       "    <tr>\n",
       "      <th>40</th>\n",
       "      <td>NaN</td>\n",
       "      <td>NaN</td>\n",
       "      <td>NaN</td>\n",
       "      <td>NaN</td>\n",
       "      <td>NaN</td>\n",
       "    </tr>\n",
       "    <tr>\n",
       "      <th>91</th>\n",
       "      <td>NaN</td>\n",
       "      <td>NaN</td>\n",
       "      <td>NaN</td>\n",
       "      <td>NaN</td>\n",
       "      <td>NaN</td>\n",
       "    </tr>\n",
       "    <tr>\n",
       "      <th>103</th>\n",
       "      <td>NaN</td>\n",
       "      <td>NaN</td>\n",
       "      <td>NaN</td>\n",
       "      <td>NaN</td>\n",
       "      <td>NaN</td>\n",
       "    </tr>\n",
       "    <tr>\n",
       "      <th>157</th>\n",
       "      <td>NaN</td>\n",
       "      <td>NaN</td>\n",
       "      <td>NaN</td>\n",
       "      <td>NaN</td>\n",
       "      <td>NaN</td>\n",
       "    </tr>\n",
       "    <tr>\n",
       "      <th>183</th>\n",
       "      <td>NaN</td>\n",
       "      <td>NaN</td>\n",
       "      <td>NaN</td>\n",
       "      <td>NaN</td>\n",
       "      <td>NaN</td>\n",
       "    </tr>\n",
       "    <tr>\n",
       "      <th>260</th>\n",
       "      <td>NaN</td>\n",
       "      <td>NaN</td>\n",
       "      <td>NaN</td>\n",
       "      <td>NaN</td>\n",
       "      <td>NaN</td>\n",
       "    </tr>\n",
       "    <tr>\n",
       "      <th>343</th>\n",
       "      <td>NaN</td>\n",
       "      <td>NaN</td>\n",
       "      <td>NaN</td>\n",
       "      <td>NaN</td>\n",
       "      <td>NaN</td>\n",
       "    </tr>\n",
       "    <tr>\n",
       "      <th>363</th>\n",
       "      <td>NaN</td>\n",
       "      <td>NaN</td>\n",
       "      <td>NaN</td>\n",
       "      <td>NaN</td>\n",
       "      <td>NaN</td>\n",
       "    </tr>\n",
       "    <tr>\n",
       "      <th>372</th>\n",
       "      <td>NaN</td>\n",
       "      <td>NaN</td>\n",
       "      <td>NaN</td>\n",
       "      <td>NaN</td>\n",
       "      <td>NaN</td>\n",
       "    </tr>\n",
       "    <tr>\n",
       "      <th>393</th>\n",
       "      <td>NaN</td>\n",
       "      <td>NaN</td>\n",
       "      <td>NaN</td>\n",
       "      <td>NaN</td>\n",
       "      <td>NaN</td>\n",
       "    </tr>\n",
       "    <tr>\n",
       "      <th>521</th>\n",
       "      <td>NaN</td>\n",
       "      <td>NaN</td>\n",
       "      <td>NaN</td>\n",
       "      <td>NaN</td>\n",
       "      <td>NaN</td>\n",
       "    </tr>\n",
       "    <tr>\n",
       "      <th>533</th>\n",
       "      <td>NaN</td>\n",
       "      <td>NaN</td>\n",
       "      <td>NaN</td>\n",
       "      <td>NaN</td>\n",
       "      <td>NaN</td>\n",
       "    </tr>\n",
       "    <tr>\n",
       "      <th>534</th>\n",
       "      <td>NaN</td>\n",
       "      <td>NaN</td>\n",
       "      <td>NaN</td>\n",
       "      <td>NaN</td>\n",
       "      <td>NaN</td>\n",
       "    </tr>\n",
       "    <tr>\n",
       "      <th>554</th>\n",
       "      <td>NaN</td>\n",
       "      <td>NaN</td>\n",
       "      <td>NaN</td>\n",
       "      <td>NaN</td>\n",
       "      <td>NaN</td>\n",
       "    </tr>\n",
       "    <tr>\n",
       "      <th>647</th>\n",
       "      <td>NaN</td>\n",
       "      <td>NaN</td>\n",
       "      <td>NaN</td>\n",
       "      <td>NaN</td>\n",
       "      <td>NaN</td>\n",
       "    </tr>\n",
       "    <tr>\n",
       "      <th>706</th>\n",
       "      <td>NaN</td>\n",
       "      <td>NaN</td>\n",
       "      <td>NaN</td>\n",
       "      <td>NaN</td>\n",
       "      <td>NaN</td>\n",
       "    </tr>\n",
       "    <tr>\n",
       "      <th>737</th>\n",
       "      <td>NaN</td>\n",
       "      <td>NaN</td>\n",
       "      <td>NaN</td>\n",
       "      <td>NaN</td>\n",
       "      <td>NaN</td>\n",
       "    </tr>\n",
       "    <tr>\n",
       "      <th>750</th>\n",
       "      <td>NaN</td>\n",
       "      <td>NaN</td>\n",
       "      <td>NaN</td>\n",
       "      <td>NaN</td>\n",
       "      <td>NaN</td>\n",
       "    </tr>\n",
       "    <tr>\n",
       "      <th>779</th>\n",
       "      <td>NaN</td>\n",
       "      <td>NaN</td>\n",
       "      <td>NaN</td>\n",
       "      <td>NaN</td>\n",
       "      <td>NaN</td>\n",
       "    </tr>\n",
       "    <tr>\n",
       "      <th>869</th>\n",
       "      <td>NaN</td>\n",
       "      <td>NaN</td>\n",
       "      <td>NaN</td>\n",
       "      <td>NaN</td>\n",
       "      <td>NaN</td>\n",
       "    </tr>\n",
       "    <tr>\n",
       "      <th>895</th>\n",
       "      <td>NaN</td>\n",
       "      <td>NaN</td>\n",
       "      <td>NaN</td>\n",
       "      <td>NaN</td>\n",
       "      <td>NaN</td>\n",
       "    </tr>\n",
       "    <tr>\n",
       "      <th>898</th>\n",
       "      <td>NaN</td>\n",
       "      <td>NaN</td>\n",
       "      <td>NaN</td>\n",
       "      <td>NaN</td>\n",
       "      <td>NaN</td>\n",
       "    </tr>\n",
       "    <tr>\n",
       "      <th>949</th>\n",
       "      <td>Gd</td>\n",
       "      <td>TA</td>\n",
       "      <td>NaN</td>\n",
       "      <td>Unf</td>\n",
       "      <td>Unf</td>\n",
       "    </tr>\n",
       "    <tr>\n",
       "      <th>985</th>\n",
       "      <td>NaN</td>\n",
       "      <td>NaN</td>\n",
       "      <td>NaN</td>\n",
       "      <td>NaN</td>\n",
       "      <td>NaN</td>\n",
       "    </tr>\n",
       "    <tr>\n",
       "      <th>1001</th>\n",
       "      <td>NaN</td>\n",
       "      <td>NaN</td>\n",
       "      <td>NaN</td>\n",
       "      <td>NaN</td>\n",
       "      <td>NaN</td>\n",
       "    </tr>\n",
       "    <tr>\n",
       "      <th>1012</th>\n",
       "      <td>NaN</td>\n",
       "      <td>NaN</td>\n",
       "      <td>NaN</td>\n",
       "      <td>NaN</td>\n",
       "      <td>NaN</td>\n",
       "    </tr>\n",
       "    <tr>\n",
       "      <th>1036</th>\n",
       "      <td>NaN</td>\n",
       "      <td>NaN</td>\n",
       "      <td>NaN</td>\n",
       "      <td>NaN</td>\n",
       "      <td>NaN</td>\n",
       "    </tr>\n",
       "    <tr>\n",
       "      <th>1046</th>\n",
       "      <td>NaN</td>\n",
       "      <td>NaN</td>\n",
       "      <td>NaN</td>\n",
       "      <td>NaN</td>\n",
       "      <td>NaN</td>\n",
       "    </tr>\n",
       "    <tr>\n",
       "      <th>1049</th>\n",
       "      <td>NaN</td>\n",
       "      <td>NaN</td>\n",
       "      <td>NaN</td>\n",
       "      <td>NaN</td>\n",
       "      <td>NaN</td>\n",
       "    </tr>\n",
       "    <tr>\n",
       "      <th>1050</th>\n",
       "      <td>NaN</td>\n",
       "      <td>NaN</td>\n",
       "      <td>NaN</td>\n",
       "      <td>NaN</td>\n",
       "      <td>NaN</td>\n",
       "    </tr>\n",
       "    <tr>\n",
       "      <th>1091</th>\n",
       "      <td>NaN</td>\n",
       "      <td>NaN</td>\n",
       "      <td>NaN</td>\n",
       "      <td>NaN</td>\n",
       "      <td>NaN</td>\n",
       "    </tr>\n",
       "    <tr>\n",
       "      <th>1180</th>\n",
       "      <td>NaN</td>\n",
       "      <td>NaN</td>\n",
       "      <td>NaN</td>\n",
       "      <td>NaN</td>\n",
       "      <td>NaN</td>\n",
       "    </tr>\n",
       "    <tr>\n",
       "      <th>1217</th>\n",
       "      <td>NaN</td>\n",
       "      <td>NaN</td>\n",
       "      <td>NaN</td>\n",
       "      <td>NaN</td>\n",
       "      <td>NaN</td>\n",
       "    </tr>\n",
       "    <tr>\n",
       "      <th>1219</th>\n",
       "      <td>NaN</td>\n",
       "      <td>NaN</td>\n",
       "      <td>NaN</td>\n",
       "      <td>NaN</td>\n",
       "      <td>NaN</td>\n",
       "    </tr>\n",
       "    <tr>\n",
       "      <th>1233</th>\n",
       "      <td>NaN</td>\n",
       "      <td>NaN</td>\n",
       "      <td>NaN</td>\n",
       "      <td>NaN</td>\n",
       "      <td>NaN</td>\n",
       "    </tr>\n",
       "    <tr>\n",
       "      <th>1322</th>\n",
       "      <td>NaN</td>\n",
       "      <td>NaN</td>\n",
       "      <td>NaN</td>\n",
       "      <td>NaN</td>\n",
       "      <td>NaN</td>\n",
       "    </tr>\n",
       "    <tr>\n",
       "      <th>1413</th>\n",
       "      <td>NaN</td>\n",
       "      <td>NaN</td>\n",
       "      <td>NaN</td>\n",
       "      <td>NaN</td>\n",
       "      <td>NaN</td>\n",
       "    </tr>\n",
       "  </tbody>\n",
       "</table>\n",
       "</div>"
      ],
      "text/plain": [
       "     BsmtQual BsmtCond BsmtExposure BsmtFinType1 BsmtFinType2\n",
       "Id                                                           \n",
       "18        NaN      NaN          NaN          NaN          NaN\n",
       "40        NaN      NaN          NaN          NaN          NaN\n",
       "91        NaN      NaN          NaN          NaN          NaN\n",
       "103       NaN      NaN          NaN          NaN          NaN\n",
       "157       NaN      NaN          NaN          NaN          NaN\n",
       "183       NaN      NaN          NaN          NaN          NaN\n",
       "260       NaN      NaN          NaN          NaN          NaN\n",
       "343       NaN      NaN          NaN          NaN          NaN\n",
       "363       NaN      NaN          NaN          NaN          NaN\n",
       "372       NaN      NaN          NaN          NaN          NaN\n",
       "393       NaN      NaN          NaN          NaN          NaN\n",
       "521       NaN      NaN          NaN          NaN          NaN\n",
       "533       NaN      NaN          NaN          NaN          NaN\n",
       "534       NaN      NaN          NaN          NaN          NaN\n",
       "554       NaN      NaN          NaN          NaN          NaN\n",
       "647       NaN      NaN          NaN          NaN          NaN\n",
       "706       NaN      NaN          NaN          NaN          NaN\n",
       "737       NaN      NaN          NaN          NaN          NaN\n",
       "750       NaN      NaN          NaN          NaN          NaN\n",
       "779       NaN      NaN          NaN          NaN          NaN\n",
       "869       NaN      NaN          NaN          NaN          NaN\n",
       "895       NaN      NaN          NaN          NaN          NaN\n",
       "898       NaN      NaN          NaN          NaN          NaN\n",
       "949        Gd       TA          NaN          Unf          Unf\n",
       "985       NaN      NaN          NaN          NaN          NaN\n",
       "1001      NaN      NaN          NaN          NaN          NaN\n",
       "1012      NaN      NaN          NaN          NaN          NaN\n",
       "1036      NaN      NaN          NaN          NaN          NaN\n",
       "1046      NaN      NaN          NaN          NaN          NaN\n",
       "1049      NaN      NaN          NaN          NaN          NaN\n",
       "1050      NaN      NaN          NaN          NaN          NaN\n",
       "1091      NaN      NaN          NaN          NaN          NaN\n",
       "1180      NaN      NaN          NaN          NaN          NaN\n",
       "1217      NaN      NaN          NaN          NaN          NaN\n",
       "1219      NaN      NaN          NaN          NaN          NaN\n",
       "1233      NaN      NaN          NaN          NaN          NaN\n",
       "1322      NaN      NaN          NaN          NaN          NaN\n",
       "1413      NaN      NaN          NaN          NaN          NaN"
      ]
     },
     "execution_count": 27,
     "metadata": {},
     "output_type": "execute_result"
    }
   ],
   "source": [
    "df_train[df_train[\"BsmtExposure\"].isna() == True][[\"BsmtQual\",\"BsmtCond\",\"BsmtExposure\",\"BsmtFinType1\",\"BsmtFinType2\"]]"
   ]
  },
  {
   "cell_type": "code",
   "execution_count": 28,
   "id": "befcb487",
   "metadata": {},
   "outputs": [],
   "source": [
    "#par rapport au définition tous ces NaN ne sont des non définis mais une absence de l'objet considéré\n",
    "#donc création d'une variable \"No\""
   ]
  },
  {
   "cell_type": "code",
   "execution_count": 29,
   "id": "1cba591d",
   "metadata": {},
   "outputs": [],
   "source": [
    "df_train[\"BsmtQual\"]=df_train[\"BsmtQual\"].fillna(\"No\")\n",
    "df_train[\"BsmtCond\"]=df_train[\"BsmtCond\"].fillna(\"No\")\n",
    "df_train[\"BsmtExposure\"]=df_train[\"BsmtExposure\"].fillna(\"No\")\n",
    "df_train[\"BsmtFinType1\"]=df_train[\"BsmtFinType1\"].fillna(\"No\")\n",
    "df_train[\"BsmtFinType2\"]=df_train[\"BsmtFinType2\"].fillna(\"No\")"
   ]
  },
  {
   "cell_type": "code",
   "execution_count": 30,
   "id": "ead6b961",
   "metadata": {},
   "outputs": [
    {
     "data": {
      "text/plain": [
       "array(['No', 'Gd', 'Mn', 'Av'], dtype=object)"
      ]
     },
     "execution_count": 30,
     "metadata": {},
     "output_type": "execute_result"
    }
   ],
   "source": [
    "df_train[\"BsmtExposure\"].unique()"
   ]
  },
  {
   "cell_type": "code",
   "execution_count": 31,
   "id": "8043f185",
   "metadata": {},
   "outputs": [
    {
     "data": {
      "text/plain": [
       "array(['Gd', 'TA', 'Ex', 'No', 'Fa'], dtype=object)"
      ]
     },
     "execution_count": 31,
     "metadata": {},
     "output_type": "execute_result"
    }
   ],
   "source": [
    "df_train[\"BsmtQual\"].unique()"
   ]
  },
  {
   "cell_type": "code",
   "execution_count": 32,
   "id": "eeafb265",
   "metadata": {},
   "outputs": [],
   "source": [
    "# 41  Electrical     1459 non-null   object "
   ]
  },
  {
   "cell_type": "code",
   "execution_count": 33,
   "id": "a4366990",
   "metadata": {},
   "outputs": [
    {
     "data": {
      "text/plain": [
       "array(['SBrkr', 'FuseF', 'FuseA', 'FuseP', 'Mix', nan], dtype=object)"
      ]
     },
     "execution_count": 33,
     "metadata": {},
     "output_type": "execute_result"
    }
   ],
   "source": [
    "df_train[\"Electrical\"].unique()\n",
    "# La définition n'aide pas pour ce NaN"
   ]
  },
  {
   "cell_type": "code",
   "execution_count": 34,
   "id": "8d815d72",
   "metadata": {},
   "outputs": [
    {
     "data": {
      "text/html": [
       "<div>\n",
       "<style scoped>\n",
       "    .dataframe tbody tr th:only-of-type {\n",
       "        vertical-align: middle;\n",
       "    }\n",
       "\n",
       "    .dataframe tbody tr th {\n",
       "        vertical-align: top;\n",
       "    }\n",
       "\n",
       "    .dataframe thead th {\n",
       "        text-align: right;\n",
       "    }\n",
       "</style>\n",
       "<table border=\"1\" class=\"dataframe\">\n",
       "  <thead>\n",
       "    <tr style=\"text-align: right;\">\n",
       "      <th></th>\n",
       "      <th>MSSubClass</th>\n",
       "      <th>MSZoning</th>\n",
       "      <th>LotFrontage</th>\n",
       "      <th>LotArea</th>\n",
       "      <th>Street</th>\n",
       "      <th>Alley</th>\n",
       "      <th>LotShape</th>\n",
       "      <th>LandContour</th>\n",
       "      <th>Utilities</th>\n",
       "      <th>LotConfig</th>\n",
       "      <th>...</th>\n",
       "      <th>PoolArea</th>\n",
       "      <th>PoolQC</th>\n",
       "      <th>Fence</th>\n",
       "      <th>MiscFeature</th>\n",
       "      <th>MiscVal</th>\n",
       "      <th>MoSold</th>\n",
       "      <th>YrSold</th>\n",
       "      <th>SaleType</th>\n",
       "      <th>SaleCondition</th>\n",
       "      <th>SalePrice</th>\n",
       "    </tr>\n",
       "    <tr>\n",
       "      <th>Id</th>\n",
       "      <th></th>\n",
       "      <th></th>\n",
       "      <th></th>\n",
       "      <th></th>\n",
       "      <th></th>\n",
       "      <th></th>\n",
       "      <th></th>\n",
       "      <th></th>\n",
       "      <th></th>\n",
       "      <th></th>\n",
       "      <th></th>\n",
       "      <th></th>\n",
       "      <th></th>\n",
       "      <th></th>\n",
       "      <th></th>\n",
       "      <th></th>\n",
       "      <th></th>\n",
       "      <th></th>\n",
       "      <th></th>\n",
       "      <th></th>\n",
       "      <th></th>\n",
       "    </tr>\n",
       "  </thead>\n",
       "  <tbody>\n",
       "    <tr>\n",
       "      <th>1380</th>\n",
       "      <td>80</td>\n",
       "      <td>RL</td>\n",
       "      <td>73.0</td>\n",
       "      <td>9735</td>\n",
       "      <td>Pave</td>\n",
       "      <td>NoAl</td>\n",
       "      <td>Reg</td>\n",
       "      <td>Lvl</td>\n",
       "      <td>AllPub</td>\n",
       "      <td>Inside</td>\n",
       "      <td>...</td>\n",
       "      <td>0</td>\n",
       "      <td>NaN</td>\n",
       "      <td>NaN</td>\n",
       "      <td>NaN</td>\n",
       "      <td>0</td>\n",
       "      <td>5</td>\n",
       "      <td>2008</td>\n",
       "      <td>WD</td>\n",
       "      <td>Normal</td>\n",
       "      <td>167500</td>\n",
       "    </tr>\n",
       "  </tbody>\n",
       "</table>\n",
       "<p>1 rows × 80 columns</p>\n",
       "</div>"
      ],
      "text/plain": [
       "      MSSubClass MSZoning  LotFrontage  LotArea Street Alley LotShape  \\\n",
       "Id                                                                      \n",
       "1380          80       RL         73.0     9735   Pave  NoAl      Reg   \n",
       "\n",
       "     LandContour Utilities LotConfig  ... PoolArea PoolQC Fence MiscFeature  \\\n",
       "Id                                    ...                                     \n",
       "1380         Lvl    AllPub    Inside  ...        0    NaN   NaN         NaN   \n",
       "\n",
       "     MiscVal MoSold  YrSold  SaleType  SaleCondition  SalePrice  \n",
       "Id                                                               \n",
       "1380       0      5    2008        WD         Normal     167500  \n",
       "\n",
       "[1 rows x 80 columns]"
      ]
     },
     "execution_count": 34,
     "metadata": {},
     "output_type": "execute_result"
    }
   ],
   "source": [
    "df_train[df_train[\"Electrical\"].isna()==True]"
   ]
  },
  {
   "cell_type": "code",
   "execution_count": 35,
   "id": "6160c304",
   "metadata": {},
   "outputs": [
    {
     "data": {
      "text/plain": [
       "SBrkr    1334\n",
       "FuseA      94\n",
       "FuseF      27\n",
       "FuseP       3\n",
       "Mix         1\n",
       "NaN         1\n",
       "Name: Electrical, dtype: int64"
      ]
     },
     "execution_count": 35,
     "metadata": {},
     "output_type": "execute_result"
    }
   ],
   "source": [
    "df_train[\"Electrical\"].value_counts(dropna=False)"
   ]
  },
  {
   "cell_type": "code",
   "execution_count": 36,
   "id": "941434f8",
   "metadata": {},
   "outputs": [],
   "source": [
    "#Considérons une erreur de saisie. remplacement par la valeur la plus présente vus le déséquilibre des valeurs\n",
    "df_train[\"Electrical\"]=df_train[\"Electrical\"].fillna(\"SBrkr\")"
   ]
  },
  {
   "cell_type": "code",
   "execution_count": 37,
   "id": "a914031a",
   "metadata": {},
   "outputs": [
    {
     "data": {
      "text/plain": [
       "SBrkr    1335\n",
       "FuseA      94\n",
       "FuseF      27\n",
       "FuseP       3\n",
       "Mix         1\n",
       "Name: Electrical, dtype: int64"
      ]
     },
     "execution_count": 37,
     "metadata": {},
     "output_type": "execute_result"
    }
   ],
   "source": [
    "df_train[\"Electrical\"].value_counts(dropna=False)"
   ]
  },
  {
   "cell_type": "code",
   "execution_count": 38,
   "id": "608a8fee",
   "metadata": {},
   "outputs": [
    {
     "data": {
      "text/plain": [
       "NaN    690\n",
       "Gd     380\n",
       "TA     313\n",
       "Fa      33\n",
       "Ex      24\n",
       "Po      20\n",
       "Name: FireplaceQu, dtype: int64"
      ]
     },
     "execution_count": 38,
     "metadata": {},
     "output_type": "execute_result"
    }
   ],
   "source": [
    " #55  Fireplaces     1460 non-null   int64  \n",
    " #56  FireplaceQu    770 non-null    object \n",
    "df_train[\"FireplaceQu\"].value_counts(dropna=False)"
   ]
  },
  {
   "cell_type": "code",
   "execution_count": 39,
   "id": "b8c8e3e6",
   "metadata": {},
   "outputs": [],
   "source": [
    "#par la définition on a Nan-> No\n",
    "df_train[\"FireplaceQu\"]= df_train[\"FireplaceQu\"].fillna(\"No\")"
   ]
  },
  {
   "cell_type": "code",
   "execution_count": 40,
   "id": "a9b63094",
   "metadata": {},
   "outputs": [],
   "source": [
    " #57  GarageType     1379 non-null   object \n",
    " #58  GarageYrBlt    1379 non-null   float64\n",
    " #59  GarageFinish   1379 non-null   object \n",
    " #60  GarageCars     1460 non-null   int64  \n",
    " #61  GarageArea     1460 non-null   int64  \n",
    " #62  GarageQual     1379 non-null   object \n",
    " #63  GarageCond     1379 non-null   object \n",
    "#Usage de la définition Nan-> No et YrBlt ->0.0?"
   ]
  },
  {
   "cell_type": "code",
   "execution_count": 41,
   "id": "564f1ed7",
   "metadata": {},
   "outputs": [],
   "source": [
    "df_train[\"GarageType\"]= df_train[\"GarageType\"].fillna(\"No\")\n",
    "df_train[\"GarageYrBlt\"]= df_train[\"GarageYrBlt\"].fillna(0.0e0)\n",
    "df_train[\"GarageFinish\"]= df_train[\"GarageFinish\"].fillna(\"No\")\n",
    "df_train[\"GarageQual\"]= df_train[\"GarageQual\"].fillna(\"No\")\n",
    "df_train[\"GarageCond\"]= df_train[\"GarageCond\"].fillna(\"No\")"
   ]
  },
  {
   "cell_type": "code",
   "execution_count": 42,
   "id": "ac3a5364",
   "metadata": {},
   "outputs": [],
   "source": [
    "# 70  PoolArea       1460 non-null   int64  \n",
    "# 71  PoolQC         7 non-null      object \n",
    "# 72  Fence          281 non-null    object \n",
    "# 73  MiscFeature    54 non-null     object \n",
    "# 74  MiscVal        1460 non-null   int64  \n",
    "# Par définition nan -> No"
   ]
  },
  {
   "cell_type": "code",
   "execution_count": 43,
   "id": "03cf2efa",
   "metadata": {},
   "outputs": [],
   "source": [
    "df_train[\"PoolQC\"]= df_train[\"PoolQC\"].fillna(\"No\")\n",
    "df_train[\"Fence\"]= df_train[\"Fence\"].fillna(\"No\")\n",
    "df_train[\"MiscFeature\"]= df_train[\"MiscFeature\"].fillna(\"No\")"
   ]
  },
  {
   "cell_type": "code",
   "execution_count": 44,
   "id": "15b3d2b7",
   "metadata": {
    "scrolled": true
   },
   "outputs": [
    {
     "name": "stdout",
     "output_type": "stream",
     "text": [
      "<class 'pandas.core.frame.DataFrame'>\n",
      "Int64Index: 1460 entries, 1 to 1460\n",
      "Data columns (total 80 columns):\n",
      " #   Column         Non-Null Count  Dtype  \n",
      "---  ------         --------------  -----  \n",
      " 0   MSSubClass     1460 non-null   int64  \n",
      " 1   MSZoning       1460 non-null   object \n",
      " 2   LotFrontage    1460 non-null   float64\n",
      " 3   LotArea        1460 non-null   int64  \n",
      " 4   Street         1460 non-null   object \n",
      " 5   Alley          1460 non-null   object \n",
      " 6   LotShape       1460 non-null   object \n",
      " 7   LandContour    1460 non-null   object \n",
      " 8   Utilities      1460 non-null   object \n",
      " 9   LotConfig      1460 non-null   object \n",
      " 10  LandSlope      1460 non-null   object \n",
      " 11  Neighborhood   1460 non-null   object \n",
      " 12  Condition1     1460 non-null   object \n",
      " 13  Condition2     1460 non-null   object \n",
      " 14  BldgType       1460 non-null   object \n",
      " 15  HouseStyle     1460 non-null   object \n",
      " 16  OverallQual    1460 non-null   int64  \n",
      " 17  OverallCond    1460 non-null   int64  \n",
      " 18  YearBuilt      1460 non-null   int64  \n",
      " 19  YearRemodAdd   1460 non-null   int64  \n",
      " 20  RoofStyle      1460 non-null   object \n",
      " 21  RoofMatl       1460 non-null   object \n",
      " 22  Exterior1st    1460 non-null   object \n",
      " 23  Exterior2nd    1460 non-null   object \n",
      " 24  MasVnrType     1460 non-null   object \n",
      " 25  MasVnrArea     1460 non-null   float64\n",
      " 26  ExterQual      1460 non-null   object \n",
      " 27  ExterCond      1460 non-null   object \n",
      " 28  Foundation     1460 non-null   object \n",
      " 29  BsmtQual       1460 non-null   object \n",
      " 30  BsmtCond       1460 non-null   object \n",
      " 31  BsmtExposure   1460 non-null   object \n",
      " 32  BsmtFinType1   1460 non-null   object \n",
      " 33  BsmtFinSF1     1460 non-null   int64  \n",
      " 34  BsmtFinType2   1460 non-null   object \n",
      " 35  BsmtFinSF2     1460 non-null   int64  \n",
      " 36  BsmtUnfSF      1460 non-null   int64  \n",
      " 37  TotalBsmtSF    1460 non-null   int64  \n",
      " 38  Heating        1460 non-null   object \n",
      " 39  HeatingQC      1460 non-null   object \n",
      " 40  CentralAir     1460 non-null   object \n",
      " 41  Electrical     1460 non-null   object \n",
      " 42  1stFlrSF       1460 non-null   int64  \n",
      " 43  2ndFlrSF       1460 non-null   int64  \n",
      " 44  LowQualFinSF   1460 non-null   int64  \n",
      " 45  GrLivArea      1460 non-null   int64  \n",
      " 46  BsmtFullBath   1460 non-null   int64  \n",
      " 47  BsmtHalfBath   1460 non-null   int64  \n",
      " 48  FullBath       1460 non-null   int64  \n",
      " 49  HalfBath       1460 non-null   int64  \n",
      " 50  BedroomAbvGr   1460 non-null   int64  \n",
      " 51  KitchenAbvGr   1460 non-null   int64  \n",
      " 52  KitchenQual    1460 non-null   object \n",
      " 53  TotRmsAbvGrd   1460 non-null   int64  \n",
      " 54  Functional     1460 non-null   object \n",
      " 55  Fireplaces     1460 non-null   int64  \n",
      " 56  FireplaceQu    1460 non-null   object \n",
      " 57  GarageType     1460 non-null   object \n",
      " 58  GarageYrBlt    1460 non-null   float64\n",
      " 59  GarageFinish   1460 non-null   object \n",
      " 60  GarageCars     1460 non-null   int64  \n",
      " 61  GarageArea     1460 non-null   int64  \n",
      " 62  GarageQual     1460 non-null   object \n",
      " 63  GarageCond     1460 non-null   object \n",
      " 64  PavedDrive     1460 non-null   object \n",
      " 65  WoodDeckSF     1460 non-null   int64  \n",
      " 66  OpenPorchSF    1460 non-null   int64  \n",
      " 67  EnclosedPorch  1460 non-null   int64  \n",
      " 68  3SsnPorch      1460 non-null   int64  \n",
      " 69  ScreenPorch    1460 non-null   int64  \n",
      " 70  PoolArea       1460 non-null   int64  \n",
      " 71  PoolQC         1460 non-null   object \n",
      " 72  Fence          1460 non-null   object \n",
      " 73  MiscFeature    1460 non-null   object \n",
      " 74  MiscVal        1460 non-null   int64  \n",
      " 75  MoSold         1460 non-null   int64  \n",
      " 76  YrSold         1460 non-null   int64  \n",
      " 77  SaleType       1460 non-null   object \n",
      " 78  SaleCondition  1460 non-null   object \n",
      " 79  SalePrice      1460 non-null   int64  \n",
      "dtypes: float64(3), int64(34), object(43)\n",
      "memory usage: 923.9+ KB\n"
     ]
    }
   ],
   "source": [
    "df_train.info()"
   ]
  },
  {
   "cell_type": "code",
   "execution_count": 45,
   "id": "fbb4c8e0",
   "metadata": {},
   "outputs": [],
   "source": [
    "# Nan pour le profil test basé sur la gestion de train\n",
    "\n",
    "df_test[\"LotFrontage\"] = df_test[\"LotFrontage\"].fillna(0.)\n",
    "df_test[\"Alley\"] = df_test[\"Alley\"].fillna(\"NoAl\")\n",
    "df_test[\"MasVnrType\"] = df_test[\"MasVnrType\"].fillna(\"None\")\n",
    "df_test[\"MasVnrArea\"] = df_test[\"MasVnrArea\"].fillna(0.0e+00)\n",
    "df_test[\"BsmtQual\"]=df_test[\"BsmtQual\"].fillna(\"No\")\n",
    "df_test[\"BsmtCond\"]=df_test[\"BsmtCond\"].fillna(\"No\")\n",
    "df_test[\"BsmtExposure\"]=df_test[\"BsmtExposure\"].fillna(\"No\")\n",
    "df_test[\"BsmtFinType1\"]=df_test[\"BsmtFinType1\"].fillna(\"No\")\n",
    "df_test[\"BsmtFinType2\"]=df_test[\"BsmtFinType2\"].fillna(\"No\")\n",
    "df_test[\"Electrical\"]=df_test[\"Electrical\"].fillna(\"SBrkr\")\n",
    "df_test[\"FireplaceQu\"]= df_test[\"FireplaceQu\"].fillna(\"No\")\n",
    "df_test[\"GarageType\"]= df_test[\"GarageType\"].fillna(\"No\")\n",
    "df_test[\"GarageYrBlt\"]= df_test[\"GarageYrBlt\"].fillna(0.0e0)\n",
    "df_test[\"GarageFinish\"]= df_test[\"GarageFinish\"].fillna(\"No\")\n",
    "df_test[\"GarageQual\"]= df_test[\"GarageQual\"].fillna(\"No\")\n",
    "df_test[\"GarageCond\"]= df_test[\"GarageCond\"].fillna(\"No\")\n",
    "df_test[\"PoolQC\"]= df_test[\"PoolQC\"].fillna(\"No\")\n",
    "df_test[\"Fence\"]= df_test[\"Fence\"].fillna(\"No\")\n",
    "df_test[\"MiscFeature\"]= df_test[\"MiscFeature\"].fillna(\"No\")"
   ]
  },
  {
   "cell_type": "code",
   "execution_count": 46,
   "id": "353eec09",
   "metadata": {
    "scrolled": true
   },
   "outputs": [
    {
     "name": "stdout",
     "output_type": "stream",
     "text": [
      "<class 'pandas.core.frame.DataFrame'>\n",
      "Int64Index: 1459 entries, 1461 to 2919\n",
      "Data columns (total 79 columns):\n",
      " #   Column         Non-Null Count  Dtype  \n",
      "---  ------         --------------  -----  \n",
      " 0   MSSubClass     1459 non-null   int64  \n",
      " 1   MSZoning       1455 non-null   object \n",
      " 2   LotFrontage    1459 non-null   float64\n",
      " 3   LotArea        1459 non-null   int64  \n",
      " 4   Street         1459 non-null   object \n",
      " 5   Alley          1459 non-null   object \n",
      " 6   LotShape       1459 non-null   object \n",
      " 7   LandContour    1459 non-null   object \n",
      " 8   Utilities      1457 non-null   object \n",
      " 9   LotConfig      1459 non-null   object \n",
      " 10  LandSlope      1459 non-null   object \n",
      " 11  Neighborhood   1459 non-null   object \n",
      " 12  Condition1     1459 non-null   object \n",
      " 13  Condition2     1459 non-null   object \n",
      " 14  BldgType       1459 non-null   object \n",
      " 15  HouseStyle     1459 non-null   object \n",
      " 16  OverallQual    1459 non-null   int64  \n",
      " 17  OverallCond    1459 non-null   int64  \n",
      " 18  YearBuilt      1459 non-null   int64  \n",
      " 19  YearRemodAdd   1459 non-null   int64  \n",
      " 20  RoofStyle      1459 non-null   object \n",
      " 21  RoofMatl       1459 non-null   object \n",
      " 22  Exterior1st    1458 non-null   object \n",
      " 23  Exterior2nd    1458 non-null   object \n",
      " 24  MasVnrType     1459 non-null   object \n",
      " 25  MasVnrArea     1459 non-null   float64\n",
      " 26  ExterQual      1459 non-null   object \n",
      " 27  ExterCond      1459 non-null   object \n",
      " 28  Foundation     1459 non-null   object \n",
      " 29  BsmtQual       1459 non-null   object \n",
      " 30  BsmtCond       1459 non-null   object \n",
      " 31  BsmtExposure   1459 non-null   object \n",
      " 32  BsmtFinType1   1459 non-null   object \n",
      " 33  BsmtFinSF1     1458 non-null   float64\n",
      " 34  BsmtFinType2   1459 non-null   object \n",
      " 35  BsmtFinSF2     1458 non-null   float64\n",
      " 36  BsmtUnfSF      1458 non-null   float64\n",
      " 37  TotalBsmtSF    1458 non-null   float64\n",
      " 38  Heating        1459 non-null   object \n",
      " 39  HeatingQC      1459 non-null   object \n",
      " 40  CentralAir     1459 non-null   object \n",
      " 41  Electrical     1459 non-null   object \n",
      " 42  1stFlrSF       1459 non-null   int64  \n",
      " 43  2ndFlrSF       1459 non-null   int64  \n",
      " 44  LowQualFinSF   1459 non-null   int64  \n",
      " 45  GrLivArea      1459 non-null   int64  \n",
      " 46  BsmtFullBath   1457 non-null   float64\n",
      " 47  BsmtHalfBath   1457 non-null   float64\n",
      " 48  FullBath       1459 non-null   int64  \n",
      " 49  HalfBath       1459 non-null   int64  \n",
      " 50  BedroomAbvGr   1459 non-null   int64  \n",
      " 51  KitchenAbvGr   1459 non-null   int64  \n",
      " 52  KitchenQual    1458 non-null   object \n",
      " 53  TotRmsAbvGrd   1459 non-null   int64  \n",
      " 54  Functional     1457 non-null   object \n",
      " 55  Fireplaces     1459 non-null   int64  \n",
      " 56  FireplaceQu    1459 non-null   object \n",
      " 57  GarageType     1459 non-null   object \n",
      " 58  GarageYrBlt    1459 non-null   float64\n",
      " 59  GarageFinish   1459 non-null   object \n",
      " 60  GarageCars     1458 non-null   float64\n",
      " 61  GarageArea     1458 non-null   float64\n",
      " 62  GarageQual     1459 non-null   object \n",
      " 63  GarageCond     1459 non-null   object \n",
      " 64  PavedDrive     1459 non-null   object \n",
      " 65  WoodDeckSF     1459 non-null   int64  \n",
      " 66  OpenPorchSF    1459 non-null   int64  \n",
      " 67  EnclosedPorch  1459 non-null   int64  \n",
      " 68  3SsnPorch      1459 non-null   int64  \n",
      " 69  ScreenPorch    1459 non-null   int64  \n",
      " 70  PoolArea       1459 non-null   int64  \n",
      " 71  PoolQC         1459 non-null   object \n",
      " 72  Fence          1459 non-null   object \n",
      " 73  MiscFeature    1459 non-null   object \n",
      " 74  MiscVal        1459 non-null   int64  \n",
      " 75  MoSold         1459 non-null   int64  \n",
      " 76  YrSold         1459 non-null   int64  \n",
      " 77  SaleType       1458 non-null   object \n",
      " 78  SaleCondition  1459 non-null   object \n",
      "dtypes: float64(11), int64(25), object(43)\n",
      "memory usage: 911.9+ KB\n"
     ]
    }
   ],
   "source": [
    "#Vérification de présence de Nan dans test\n",
    "df_test.info()"
   ]
  },
  {
   "cell_type": "code",
   "execution_count": 47,
   "id": "e09dd277",
   "metadata": {},
   "outputs": [],
   "source": [
    "# Il manque des valeurs en plus dans le test (non géré par mes choix pour train)\n",
    "# A faire MSZoning - Utilities - Exterior1st - Exterior2nd - BsmtFinSF1 - BsmtFinSF2 - BsmtUnfSF -TotalBsmtSF\n",
    "# BsmtFullBath - BsmtHalfBath - KitchenQual - Functional - GarageCars - GarageArea - SaleType"
   ]
  },
  {
   "cell_type": "code",
   "execution_count": 48,
   "id": "6003fc2c",
   "metadata": {},
   "outputs": [
    {
     "data": {
      "text/plain": [
       "RL         1114\n",
       "RM          242\n",
       "FV           74\n",
       "C (all)      15\n",
       "RH           10\n",
       "NaN           4\n",
       "Name: MSZoning, dtype: int64"
      ]
     },
     "execution_count": 48,
     "metadata": {},
     "output_type": "execute_result"
    }
   ],
   "source": [
    "df_test[\"MSZoning\"].value_counts(dropna=False)"
   ]
  },
  {
   "cell_type": "code",
   "execution_count": 49,
   "id": "d4dba8b8",
   "metadata": {},
   "outputs": [
    {
     "data": {
      "text/plain": [
       "RL         1151\n",
       "RM          218\n",
       "FV           65\n",
       "RH           16\n",
       "C (all)      10\n",
       "Name: MSZoning, dtype: int64"
      ]
     },
     "execution_count": 49,
     "metadata": {},
     "output_type": "execute_result"
    }
   ],
   "source": [
    "df_train[\"MSZoning\"].value_counts(dropna=False)"
   ]
  },
  {
   "cell_type": "code",
   "execution_count": 50,
   "id": "a92d2be5",
   "metadata": {},
   "outputs": [],
   "source": [
    "# Au vue du déséquilibre de la variable nan-> RL\n",
    "df_test[\"MSZoning\"] =df_test[\"MSZoning\"].fillna(\"RL\")"
   ]
  },
  {
   "cell_type": "code",
   "execution_count": 51,
   "id": "ef06a809",
   "metadata": {},
   "outputs": [
    {
     "data": {
      "text/plain": [
       "AllPub    1457\n",
       "NaN          2\n",
       "Name: Utilities, dtype: int64"
      ]
     },
     "execution_count": 51,
     "metadata": {},
     "output_type": "execute_result"
    }
   ],
   "source": [
    "df_test[\"Utilities\"].value_counts(dropna=False)"
   ]
  },
  {
   "cell_type": "code",
   "execution_count": 52,
   "id": "fcddab29",
   "metadata": {},
   "outputs": [
    {
     "data": {
      "text/plain": [
       "AllPub    1459\n",
       "NoSeWa       1\n",
       "Name: Utilities, dtype: int64"
      ]
     },
     "execution_count": 52,
     "metadata": {},
     "output_type": "execute_result"
    }
   ],
   "source": [
    "df_train[\"Utilities\"].value_counts(dropna=False)"
   ]
  },
  {
   "cell_type": "code",
   "execution_count": 53,
   "id": "d00a5e7c",
   "metadata": {},
   "outputs": [],
   "source": [
    "#Au vue du déséquilibre de la variable nan-> AllPub\n",
    "df_test[\"Utilities\"] =df_test[\"Utilities\"].fillna(\"AllPub\")"
   ]
  },
  {
   "cell_type": "code",
   "execution_count": 54,
   "id": "e0028c93",
   "metadata": {},
   "outputs": [
    {
     "data": {
      "text/plain": [
       "VinylSd    510\n",
       "MetalSd    230\n",
       "HdBoard    220\n",
       "Wd Sdng    205\n",
       "Plywood    113\n",
       "CemntBd     65\n",
       "BrkFace     37\n",
       "WdShing     30\n",
       "AsbShng     24\n",
       "Stucco      18\n",
       "BrkComm      4\n",
       "AsphShn      1\n",
       "NaN          1\n",
       "CBlock       1\n",
       "Name: Exterior1st, dtype: int64"
      ]
     },
     "execution_count": 54,
     "metadata": {},
     "output_type": "execute_result"
    }
   ],
   "source": [
    "df_test[\"Exterior1st\"].value_counts(dropna=False)"
   ]
  },
  {
   "cell_type": "code",
   "execution_count": 55,
   "id": "6f155793",
   "metadata": {},
   "outputs": [],
   "source": [
    "#Au vue du déséquilibre nan->VinylSd\n",
    "df_test[\"Exterior1st\"]=df_test[\"Exterior1st\"].fillna(\"VinylSd\")"
   ]
  },
  {
   "cell_type": "code",
   "execution_count": 56,
   "id": "f1fdf861",
   "metadata": {},
   "outputs": [
    {
     "data": {
      "text/plain": [
       "VinylSd    510\n",
       "MetalSd    233\n",
       "HdBoard    199\n",
       "Wd Sdng    194\n",
       "Plywood    128\n",
       "CmentBd     66\n",
       "Wd Shng     43\n",
       "BrkFace     22\n",
       "Stucco      21\n",
       "AsbShng     18\n",
       "Brk Cmn     15\n",
       "ImStucc      5\n",
       "CBlock       2\n",
       "AsphShn      1\n",
       "NaN          1\n",
       "Stone        1\n",
       "Name: Exterior2nd, dtype: int64"
      ]
     },
     "execution_count": 56,
     "metadata": {},
     "output_type": "execute_result"
    }
   ],
   "source": [
    "df_test[\"Exterior2nd\"].value_counts(dropna=False)"
   ]
  },
  {
   "cell_type": "code",
   "execution_count": 57,
   "id": "d530fa25",
   "metadata": {},
   "outputs": [],
   "source": [
    "df_test[\"Exterior2nd\"]=df_test[\"Exterior2nd\"].fillna(\"VinylSd\")"
   ]
  },
  {
   "cell_type": "code",
   "execution_count": 58,
   "id": "3d2c91d8",
   "metadata": {},
   "outputs": [
    {
     "data": {
      "text/html": [
       "<div>\n",
       "<style scoped>\n",
       "    .dataframe tbody tr th:only-of-type {\n",
       "        vertical-align: middle;\n",
       "    }\n",
       "\n",
       "    .dataframe tbody tr th {\n",
       "        vertical-align: top;\n",
       "    }\n",
       "\n",
       "    .dataframe thead th {\n",
       "        text-align: right;\n",
       "    }\n",
       "</style>\n",
       "<table border=\"1\" class=\"dataframe\">\n",
       "  <thead>\n",
       "    <tr style=\"text-align: right;\">\n",
       "      <th></th>\n",
       "      <th>BsmtFinSF1</th>\n",
       "      <th>BsmtFinType2</th>\n",
       "      <th>BsmtFinSF2</th>\n",
       "      <th>BsmtUnfSF</th>\n",
       "      <th>TotalBsmtSF</th>\n",
       "    </tr>\n",
       "    <tr>\n",
       "      <th>Id</th>\n",
       "      <th></th>\n",
       "      <th></th>\n",
       "      <th></th>\n",
       "      <th></th>\n",
       "      <th></th>\n",
       "    </tr>\n",
       "  </thead>\n",
       "  <tbody>\n",
       "    <tr>\n",
       "      <th>2121</th>\n",
       "      <td>NaN</td>\n",
       "      <td>No</td>\n",
       "      <td>NaN</td>\n",
       "      <td>NaN</td>\n",
       "      <td>NaN</td>\n",
       "    </tr>\n",
       "  </tbody>\n",
       "</table>\n",
       "</div>"
      ],
      "text/plain": [
       "      BsmtFinSF1 BsmtFinType2  BsmtFinSF2  BsmtUnfSF  TotalBsmtSF\n",
       "Id                                                               \n",
       "2121         NaN           No         NaN        NaN          NaN"
      ]
     },
     "execution_count": 58,
     "metadata": {},
     "output_type": "execute_result"
    }
   ],
   "source": [
    "#liste des Bsmt\n",
    "records = df_test[df_test[\"BsmtFinSF1\"].isna() == True]\n",
    "records[[\"BsmtFinSF1\",\"BsmtFinType2\",\"BsmtFinSF2\",\"BsmtUnfSF\",\"TotalBsmtSF\"]]"
   ]
  },
  {
   "cell_type": "code",
   "execution_count": 59,
   "id": "3c7e84e4",
   "metadata": {},
   "outputs": [],
   "source": [
    "# Bon au vu des définitions, on prend Nan->0\n",
    "df_test[\"BsmtFinSF1\"] = df_test[\"BsmtFinSF1\"].fillna(0.)\n",
    "df_test[\"BsmtFinSF2\"] = df_test[\"BsmtFinSF2\"].fillna(0.)\n",
    "df_test[\"BsmtUnfSF\"] = df_test[\"BsmtUnfSF\"].fillna(0.)\n",
    "df_test[\"TotalBsmtSF\"] = df_test[\"TotalBsmtSF\"].fillna(0.)"
   ]
  },
  {
   "cell_type": "code",
   "execution_count": 60,
   "id": "024a07fb",
   "metadata": {},
   "outputs": [
    {
     "data": {
      "text/plain": [
       "0.0    849\n",
       "1.0    584\n",
       "2.0     23\n",
       "NaN      2\n",
       "3.0      1\n",
       "Name: BsmtFullBath, dtype: int64"
      ]
     },
     "execution_count": 60,
     "metadata": {},
     "output_type": "execute_result"
    }
   ],
   "source": [
    "df_test[\"BsmtFullBath\"].value_counts(dropna=False)"
   ]
  },
  {
   "cell_type": "code",
   "execution_count": 61,
   "id": "857dbee4",
   "metadata": {},
   "outputs": [
    {
     "data": {
      "text/plain": [
       "0.0    1364\n",
       "1.0      91\n",
       "NaN       2\n",
       "2.0       2\n",
       "Name: BsmtHalfBath, dtype: int64"
      ]
     },
     "execution_count": 61,
     "metadata": {},
     "output_type": "execute_result"
    }
   ],
   "source": [
    "df_test[\"BsmtHalfBath\"].value_counts(dropna=False)"
   ]
  },
  {
   "cell_type": "code",
   "execution_count": 62,
   "id": "b9b982bc",
   "metadata": {},
   "outputs": [],
   "source": [
    "#Déséquilibre et logique Nan-> 0\n",
    "df_test[\"BsmtFullBath\"] = df_test[\"BsmtFullBath\"].fillna(0.)\n",
    "df_test[\"BsmtHalfBath\"] = df_test[\"BsmtHalfBath\"].fillna(0.)"
   ]
  },
  {
   "cell_type": "code",
   "execution_count": 63,
   "id": "cc53170a",
   "metadata": {},
   "outputs": [
    {
     "data": {
      "text/plain": [
       "TA     757\n",
       "Gd     565\n",
       "Ex     105\n",
       "Fa      31\n",
       "NaN      1\n",
       "Name: KitchenQual, dtype: int64"
      ]
     },
     "execution_count": 63,
     "metadata": {},
     "output_type": "execute_result"
    }
   ],
   "source": [
    "df_test[\"KitchenQual\"].value_counts(dropna=False)"
   ]
  },
  {
   "cell_type": "code",
   "execution_count": 64,
   "id": "64e2aaaa",
   "metadata": {},
   "outputs": [],
   "source": [
    "# Bon on va prendre la modalitée médiane TA\n",
    "df_test[\"KitchenQual\"]=df_test[\"KitchenQual\"].fillna(\"TA\")"
   ]
  },
  {
   "cell_type": "code",
   "execution_count": 65,
   "id": "e186f268",
   "metadata": {},
   "outputs": [
    {
     "data": {
      "text/plain": [
       "Typ     1357\n",
       "Min2      36\n",
       "Min1      34\n",
       "Mod       20\n",
       "Maj1       5\n",
       "Maj2       4\n",
       "NaN        2\n",
       "Sev        1\n",
       "Name: Functional, dtype: int64"
      ]
     },
     "execution_count": 65,
     "metadata": {},
     "output_type": "execute_result"
    }
   ],
   "source": [
    "df_test[\"Functional\"].value_counts(dropna=False)"
   ]
  },
  {
   "cell_type": "code",
   "execution_count": 66,
   "id": "53d68ef1",
   "metadata": {},
   "outputs": [],
   "source": [
    "#très déséquilibré Nan-> Typ\n",
    "df_test[\"Functional\"] = df_test[\"Functional\"].fillna(\"Typ\")"
   ]
  },
  {
   "cell_type": "code",
   "execution_count": 67,
   "id": "3991caf1",
   "metadata": {},
   "outputs": [
    {
     "data": {
      "text/plain": [
       "2.0    770\n",
       "1.0    407\n",
       "3.0    193\n",
       "0.0     76\n",
       "4.0     11\n",
       "5.0      1\n",
       "NaN      1\n",
       "Name: GarageCars, dtype: int64"
      ]
     },
     "execution_count": 67,
     "metadata": {},
     "output_type": "execute_result"
    }
   ],
   "source": [
    "df_test[\"GarageCars\"].value_counts(dropna=False)"
   ]
  },
  {
   "cell_type": "code",
   "execution_count": 68,
   "id": "d63c579c",
   "metadata": {
    "scrolled": true
   },
   "outputs": [
    {
     "data": {
      "text/plain": [
       "array([ 730.,  312.,  482.,  470.,  506.,  440.,  420.,  393.,  525.,\n",
       "        511.,  264.,  320.,  308.,  751.,  868.,  678.,  958.,  756.,\n",
       "        484.,  430.,  437.,  400.,  433.,  962.,  880.,  676.,  528.,\n",
       "        429.,  461.,  762.,  713.,  588.,  480.,  496.,  852.,  592.,\n",
       "        596.,  535.,  660.,  441.,  490.,  504.,  517.,    0.,  315.,\n",
       "        576.,  620.,  263.,  318.,  305.,  280.,  240.,  551.,  780.,\n",
       "        288.,  624.,  363.,  200.,  572.,  180.,  365.,  231.,  450.,\n",
       "        416.,  591.,  690.,  522.,  467.,  209.,  366., 1017.,  615.,\n",
       "        580.,  513.,  850.,  621.,  319.,  336.,  352.,  260.,  399.,\n",
       "        473.,  598.,  531.,  625.,  330.,  741.,  776.,  520.,  686.,\n",
       "        253.,  286.,  495.,  616.,  275.,  502.,  632.,  390.,  564.,\n",
       "        396.,  409.,  567.,  529.,  479.,  581.,  565.,  478.,  477.,\n",
       "        345.,  656.,  754.,  864.,  896.,  834.,  932.,  640.,  927.,\n",
       "        700.,  583.,  886.,  871.,  949.,  685.,  649.,  539.,  701.,\n",
       "        392.,  397.,  436.,  434.,  644.,  394.,  658.,  410.,  810.,\n",
       "        815.,  647.,  623.,  972.,  726.,  844.,  492.,  795.,  984.,\n",
       "        692.,  782.,  711.,  628.,  845.,  788.,  559.,  542.,  465.,\n",
       "        612.,  732.,  300.,  252.,  524.,  704.,  561.,  641.,  642.,\n",
       "        540.,  527.,  784.,  515.,  498.,  768.,  610.,  549.,  368.,\n",
       "        550.,  530.,  297.,  304.,  350.,  294.,  230.,  246.,  720.,\n",
       "        281.,  907.,  364.,  384.,  900.,  483.,  162.,  324.,  472.,\n",
       "        287.,  357.,  207.,  216.,  250., 1184.,  316.,  379.,  220.,\n",
       "        226.,  668.,  340.,  266.,  462.,  672.,  820., 1138.,  846.,\n",
       "        904.,  662.,  577.,  608.,  343.,  444., 1231.,  570.,  521.,\n",
       "        523.,  544.,  195.,  313.,  256.,  215.,  307.,  463.,  295.,\n",
       "        452.,  501.,  351.,  541.,  885.,  578.,  486.,  920.,  698.,\n",
       "        898.,  386.,  404.,  460.,  683.,  670.,  557.,  738.,  489.,\n",
       "       1314.,  787.,  905.,  650.,  706., 1150., 1003.,  789.,  746.,\n",
       "        870.,  944.,  474.,  428.,  431.,  403.,  516.,  687.,  938.,\n",
       "        783.,  851.,  627.,  276.,  636.,  545.,  546.,  469.,  512.,\n",
       "        464.,  267.,  451.,  292.,  301., 1488.,  372.,  401.,  311.,\n",
       "        299.,  225.,  828.,  869.,  342.,  370.,  160.,  355.,  164.,\n",
       "        360.,  228.,  270.,  626.,  912.,  249.,  322.,  614.,  534.,\n",
       "        453., 1348.,  874.,  811.,  438.,  558.,  600.,  532.,  725.,\n",
       "        715.,  560.,  721.,  814.,  205.,  369.,  599.,  344.,  786.,\n",
       "        356.,  487.,  185.,  816.,  432.,  666.,  435.,  892.,  499.,\n",
       "        257.,  398.,  729., 1110.,  556.,  724.,  663.,  481.,  585.,\n",
       "        488.,  856., 1040.,  878., 1174.,  728.,  843.,  916.,  818.,\n",
       "        774.,  554.,  876.,  631.,  454.,  388.,  630.,  442.,  925.,\n",
       "        806.,  758.,  933.,  605., 1092.,  574.,  859.,  575.,  590.,\n",
       "        594.,  744.,  566.,  283.,  476.,  466.,  552., 1105.,  412.,\n",
       "        510.,  792.,  310.,  293.,  371., 1200.,  338.,  184.,  374.,\n",
       "        468.,  331.,  224.,  217.,  408.,  456.,  323.,  638.,  494.,\n",
       "        303.,  332.,  894.,  796.,  674.,  619.,  747.,  497.,  242.,\n",
       "        597.,  748.,  622.,  579., 1154.,  509.,  691.,   nan,  100.,\n",
       "        471.,  571., 1041.,  963.,  423.,  443.,  773.,  618.,  402.,\n",
       "        675.,  736.,  722.,  582.,  485.,  543.,  831., 1085.,  899.,\n",
       "        427.,  617.,  959.,  803.,  760.,  928.,  584.,  449.,  688.,\n",
       "        888.,  326.,  568.,  273.,  234.,  353.,  684.,  791., 1008.,\n",
       "        648.,  418.,  378.,  258.,  210.,  586.,  836.,  569.,  848.,\n",
       "        317.,  646.,  555.,  380.,  265.,  609.,  272.,  518.,  714.,\n",
       "        682.])"
      ]
     },
     "execution_count": 68,
     "metadata": {},
     "output_type": "execute_result"
    }
   ],
   "source": [
    "df_test[\"GarageArea\"].unique()"
   ]
  },
  {
   "cell_type": "code",
   "execution_count": 69,
   "id": "9e56c358",
   "metadata": {},
   "outputs": [
    {
     "data": {
      "text/html": [
       "<div>\n",
       "<style scoped>\n",
       "    .dataframe tbody tr th:only-of-type {\n",
       "        vertical-align: middle;\n",
       "    }\n",
       "\n",
       "    .dataframe tbody tr th {\n",
       "        vertical-align: top;\n",
       "    }\n",
       "\n",
       "    .dataframe thead th {\n",
       "        text-align: right;\n",
       "    }\n",
       "</style>\n",
       "<table border=\"1\" class=\"dataframe\">\n",
       "  <thead>\n",
       "    <tr style=\"text-align: right;\">\n",
       "      <th></th>\n",
       "      <th>GarageType</th>\n",
       "      <th>GarageYrBlt</th>\n",
       "      <th>GarageFinish</th>\n",
       "      <th>GarageCars</th>\n",
       "      <th>GarageArea</th>\n",
       "    </tr>\n",
       "    <tr>\n",
       "      <th>Id</th>\n",
       "      <th></th>\n",
       "      <th></th>\n",
       "      <th></th>\n",
       "      <th></th>\n",
       "      <th></th>\n",
       "    </tr>\n",
       "  </thead>\n",
       "  <tbody>\n",
       "    <tr>\n",
       "      <th>2577</th>\n",
       "      <td>Detchd</td>\n",
       "      <td>0.0</td>\n",
       "      <td>No</td>\n",
       "      <td>NaN</td>\n",
       "      <td>NaN</td>\n",
       "    </tr>\n",
       "  </tbody>\n",
       "</table>\n",
       "</div>"
      ],
      "text/plain": [
       "     GarageType  GarageYrBlt GarageFinish  GarageCars  GarageArea\n",
       "Id                                                               \n",
       "2577     Detchd          0.0           No         NaN         NaN"
      ]
     },
     "execution_count": 69,
     "metadata": {},
     "output_type": "execute_result"
    }
   ],
   "source": [
    "df_test[df_test[\"GarageCars\"].isna()==True][[\"GarageType\",\"GarageYrBlt\",\"GarageFinish\",\"GarageCars\",\"GarageArea\"]]"
   ]
  },
  {
   "cell_type": "code",
   "execution_count": 70,
   "id": "3d155338",
   "metadata": {},
   "outputs": [],
   "source": [
    "#Par coherence on va vers nan-> 0.0\n",
    "df_test[\"GarageCars\"] = df_test[\"GarageCars\"].fillna(0.0)\n",
    "df_test[\"GarageArea\"] = df_test[\"GarageArea\"].fillna(0.)"
   ]
  },
  {
   "cell_type": "code",
   "execution_count": 71,
   "id": "01875664",
   "metadata": {},
   "outputs": [
    {
     "data": {
      "text/plain": [
       "WD       1258\n",
       "New       117\n",
       "COD        44\n",
       "ConLD      17\n",
       "CWD         8\n",
       "Oth         4\n",
       "ConLI       4\n",
       "Con         3\n",
       "ConLw       3\n",
       "NaN         1\n",
       "Name: SaleType, dtype: int64"
      ]
     },
     "execution_count": 71,
     "metadata": {},
     "output_type": "execute_result"
    }
   ],
   "source": [
    "df_test[\"SaleType\"].value_counts(dropna=False)"
   ]
  },
  {
   "cell_type": "code",
   "execution_count": 72,
   "id": "6a50c86d",
   "metadata": {},
   "outputs": [],
   "source": [
    "#bon vus le déséquilbre nan->WD\n",
    "df_test[\"SaleType\"] = df_test[\"SaleType\"].fillna(\"WD\")"
   ]
  },
  {
   "cell_type": "code",
   "execution_count": 73,
   "id": "13d649e8",
   "metadata": {
    "scrolled": true
   },
   "outputs": [
    {
     "name": "stdout",
     "output_type": "stream",
     "text": [
      "<class 'pandas.core.frame.DataFrame'>\n",
      "Int64Index: 1459 entries, 1461 to 2919\n",
      "Data columns (total 79 columns):\n",
      " #   Column         Non-Null Count  Dtype  \n",
      "---  ------         --------------  -----  \n",
      " 0   MSSubClass     1459 non-null   int64  \n",
      " 1   MSZoning       1459 non-null   object \n",
      " 2   LotFrontage    1459 non-null   float64\n",
      " 3   LotArea        1459 non-null   int64  \n",
      " 4   Street         1459 non-null   object \n",
      " 5   Alley          1459 non-null   object \n",
      " 6   LotShape       1459 non-null   object \n",
      " 7   LandContour    1459 non-null   object \n",
      " 8   Utilities      1459 non-null   object \n",
      " 9   LotConfig      1459 non-null   object \n",
      " 10  LandSlope      1459 non-null   object \n",
      " 11  Neighborhood   1459 non-null   object \n",
      " 12  Condition1     1459 non-null   object \n",
      " 13  Condition2     1459 non-null   object \n",
      " 14  BldgType       1459 non-null   object \n",
      " 15  HouseStyle     1459 non-null   object \n",
      " 16  OverallQual    1459 non-null   int64  \n",
      " 17  OverallCond    1459 non-null   int64  \n",
      " 18  YearBuilt      1459 non-null   int64  \n",
      " 19  YearRemodAdd   1459 non-null   int64  \n",
      " 20  RoofStyle      1459 non-null   object \n",
      " 21  RoofMatl       1459 non-null   object \n",
      " 22  Exterior1st    1459 non-null   object \n",
      " 23  Exterior2nd    1459 non-null   object \n",
      " 24  MasVnrType     1459 non-null   object \n",
      " 25  MasVnrArea     1459 non-null   float64\n",
      " 26  ExterQual      1459 non-null   object \n",
      " 27  ExterCond      1459 non-null   object \n",
      " 28  Foundation     1459 non-null   object \n",
      " 29  BsmtQual       1459 non-null   object \n",
      " 30  BsmtCond       1459 non-null   object \n",
      " 31  BsmtExposure   1459 non-null   object \n",
      " 32  BsmtFinType1   1459 non-null   object \n",
      " 33  BsmtFinSF1     1459 non-null   float64\n",
      " 34  BsmtFinType2   1459 non-null   object \n",
      " 35  BsmtFinSF2     1459 non-null   float64\n",
      " 36  BsmtUnfSF      1459 non-null   float64\n",
      " 37  TotalBsmtSF    1459 non-null   float64\n",
      " 38  Heating        1459 non-null   object \n",
      " 39  HeatingQC      1459 non-null   object \n",
      " 40  CentralAir     1459 non-null   object \n",
      " 41  Electrical     1459 non-null   object \n",
      " 42  1stFlrSF       1459 non-null   int64  \n",
      " 43  2ndFlrSF       1459 non-null   int64  \n",
      " 44  LowQualFinSF   1459 non-null   int64  \n",
      " 45  GrLivArea      1459 non-null   int64  \n",
      " 46  BsmtFullBath   1459 non-null   float64\n",
      " 47  BsmtHalfBath   1459 non-null   float64\n",
      " 48  FullBath       1459 non-null   int64  \n",
      " 49  HalfBath       1459 non-null   int64  \n",
      " 50  BedroomAbvGr   1459 non-null   int64  \n",
      " 51  KitchenAbvGr   1459 non-null   int64  \n",
      " 52  KitchenQual    1459 non-null   object \n",
      " 53  TotRmsAbvGrd   1459 non-null   int64  \n",
      " 54  Functional     1459 non-null   object \n",
      " 55  Fireplaces     1459 non-null   int64  \n",
      " 56  FireplaceQu    1459 non-null   object \n",
      " 57  GarageType     1459 non-null   object \n",
      " 58  GarageYrBlt    1459 non-null   float64\n",
      " 59  GarageFinish   1459 non-null   object \n",
      " 60  GarageCars     1459 non-null   float64\n",
      " 61  GarageArea     1459 non-null   float64\n",
      " 62  GarageQual     1459 non-null   object \n",
      " 63  GarageCond     1459 non-null   object \n",
      " 64  PavedDrive     1459 non-null   object \n",
      " 65  WoodDeckSF     1459 non-null   int64  \n",
      " 66  OpenPorchSF    1459 non-null   int64  \n",
      " 67  EnclosedPorch  1459 non-null   int64  \n",
      " 68  3SsnPorch      1459 non-null   int64  \n",
      " 69  ScreenPorch    1459 non-null   int64  \n",
      " 70  PoolArea       1459 non-null   int64  \n",
      " 71  PoolQC         1459 non-null   object \n",
      " 72  Fence          1459 non-null   object \n",
      " 73  MiscFeature    1459 non-null   object \n",
      " 74  MiscVal        1459 non-null   int64  \n",
      " 75  MoSold         1459 non-null   int64  \n",
      " 76  YrSold         1459 non-null   int64  \n",
      " 77  SaleType       1459 non-null   object \n",
      " 78  SaleCondition  1459 non-null   object \n",
      "dtypes: float64(11), int64(25), object(43)\n",
      "memory usage: 911.9+ KB\n"
     ]
    }
   ],
   "source": [
    "df_test.info()"
   ]
  },
  {
   "cell_type": "code",
   "execution_count": null,
   "id": "9b3f79d7",
   "metadata": {},
   "outputs": [],
   "source": []
  },
  {
   "cell_type": "code",
   "execution_count": 74,
   "id": "4bfb398e",
   "metadata": {},
   "outputs": [],
   "source": [
    "# chosir les variables / discretisation\n"
   ]
  },
  {
   "cell_type": "code",
   "execution_count": 75,
   "id": "f4c21131",
   "metadata": {},
   "outputs": [
    {
     "data": {
      "text/plain": [
       "20     536\n",
       "60     299\n",
       "50     144\n",
       "120     87\n",
       "30      69\n",
       "160     63\n",
       "70      60\n",
       "80      58\n",
       "90      52\n",
       "190     30\n",
       "85      20\n",
       "75      16\n",
       "45      12\n",
       "180     10\n",
       "40       4\n",
       "Name: MSSubClass, dtype: int64"
      ]
     },
     "execution_count": 75,
     "metadata": {},
     "output_type": "execute_result"
    }
   ],
   "source": [
    "#0   MSSubClass        int64  \n",
    "df_train[\"MSSubClass\"].value_counts()\n",
    "#besoin d'une standardisation"
   ]
  },
  {
   "cell_type": "code",
   "execution_count": 76,
   "id": "ff19f93f",
   "metadata": {},
   "outputs": [
    {
     "data": {
      "text/plain": [
       "RL         1151\n",
       "RM          218\n",
       "FV           65\n",
       "RH           16\n",
       "C (all)      10\n",
       "Name: MSZoning, dtype: int64"
      ]
     },
     "execution_count": 76,
     "metadata": {},
     "output_type": "execute_result"
    }
   ],
   "source": [
    "# 1   MSZoning        object \n",
    "df_train[\"MSZoning\"].value_counts()\n"
   ]
  },
  {
   "cell_type": "code",
   "execution_count": 77,
   "id": "eefd9981",
   "metadata": {},
   "outputs": [
    {
     "data": {
      "text/plain": [
       "5    1151\n",
       "7     218\n",
       "2      65\n",
       "4      16\n",
       "1      10\n",
       "Name: MSZoning, dtype: int64"
      ]
     },
     "execution_count": 77,
     "metadata": {},
     "output_type": "execute_result"
    }
   ],
   "source": [
    "df_train[\"MSZoning\"] = df_train[\"MSZoning\"].replace([\"A\",\"C (all)\",\"FV\",\"I\",\"RH\",\"RL\",\"RP\",\"RM\"],[0,1,2,3,4,5,6,7])\n",
    "df_train[\"MSZoning\"].value_counts()"
   ]
  },
  {
   "cell_type": "code",
   "execution_count": 78,
   "id": "6193b52c",
   "metadata": {},
   "outputs": [
    {
     "data": {
      "text/plain": [
       "5    1118\n",
       "7     242\n",
       "2      74\n",
       "1      15\n",
       "4      10\n",
       "Name: MSZoning, dtype: int64"
      ]
     },
     "execution_count": 78,
     "metadata": {},
     "output_type": "execute_result"
    }
   ],
   "source": [
    "df_test[\"MSZoning\"] = df_test[\"MSZoning\"].replace([\"A\",\"C (all)\",\"FV\",\"I\",\"RH\",\"RL\",\"RP\",\"RM\"],[0,1,2,3,4,5,6,7])\n",
    "df_test[\"MSZoning\"].value_counts()"
   ]
  },
  {
   "cell_type": "code",
   "execution_count": 79,
   "id": "e8f97d1f",
   "metadata": {},
   "outputs": [
    {
     "data": {
      "text/plain": [
       "0.0      259\n",
       "60.0     143\n",
       "70.0      70\n",
       "80.0      69\n",
       "50.0      57\n",
       "        ... \n",
       "137.0      1\n",
       "38.0       1\n",
       "33.0       1\n",
       "150.0      1\n",
       "46.0       1\n",
       "Name: LotFrontage, Length: 111, dtype: int64"
      ]
     },
     "execution_count": 79,
     "metadata": {},
     "output_type": "execute_result"
    }
   ],
   "source": [
    "# 2   LotFrontage    float64\n",
    "df_train[\"LotFrontage\"].value_counts()\n",
    "#df_train[\"LotFrontage\"].unique()"
   ]
  },
  {
   "cell_type": "code",
   "execution_count": 80,
   "id": "5efb5d40",
   "metadata": {},
   "outputs": [],
   "source": [
    "df_train[\"LotFrontage\"]=pd.cut(x=df_train[\"LotFrontage\"],bins=[-1.0,0.0,50.0,100.0,150.0,500.],labels=[0,1,2,3,4])"
   ]
  },
  {
   "cell_type": "code",
   "execution_count": 81,
   "id": "56fd0c66",
   "metadata": {},
   "outputs": [
    {
     "data": {
      "text/plain": [
       "2    912\n",
       "0    259\n",
       "1    205\n",
       "3     75\n",
       "4      9\n",
       "Name: LotFrontage, dtype: int64"
      ]
     },
     "execution_count": 81,
     "metadata": {},
     "output_type": "execute_result"
    }
   ],
   "source": [
    "df_train[\"LotFrontage\"].value_counts()"
   ]
  },
  {
   "cell_type": "code",
   "execution_count": 82,
   "id": "372c28e2",
   "metadata": {},
   "outputs": [
    {
     "data": {
      "text/plain": [
       "2    919\n",
       "0    227\n",
       "1    226\n",
       "3     82\n",
       "4      5\n",
       "Name: LotFrontage, dtype: int64"
      ]
     },
     "execution_count": 82,
     "metadata": {},
     "output_type": "execute_result"
    }
   ],
   "source": [
    "df_test[\"LotFrontage\"]=pd.cut(x=df_test[\"LotFrontage\"],bins=[-1.0,0.0,50.0,100.0,150.0,500.],labels=[0,1,2,3,4])\n",
    "df_test[\"LotFrontage\"].value_counts()"
   ]
  },
  {
   "cell_type": "code",
   "execution_count": 83,
   "id": "36bdcc1f",
   "metadata": {},
   "outputs": [
    {
     "data": {
      "text/plain": [
       "9600     20\n",
       "7200     18\n",
       "6000     17\n",
       "9000     15\n",
       "7500     12\n",
       "         ..\n",
       "12304     1\n",
       "8232      1\n",
       "2448      1\n",
       "9024      1\n",
       "10441     1\n",
       "Name: LotArea, Length: 1106, dtype: int64"
      ]
     },
     "execution_count": 83,
     "metadata": {},
     "output_type": "execute_result"
    }
   ],
   "source": [
    "# 3   LotArea        int64  \n",
    "df_train[\"LotArea\"].value_counts()\n",
    "df_test[\"LotArea\"].value_counts()"
   ]
  },
  {
   "cell_type": "code",
   "execution_count": 84,
   "id": "14be1701",
   "metadata": {},
   "outputs": [
    {
     "data": {
      "text/plain": [
       "(1086.054, 44089.0]     1447\n",
       "(44089.0, 86878.0]         9\n",
       "(129667.0, 172456.0]       2\n",
       "(86878.0, 129667.0]        1\n",
       "(172456.0, 215245.0]       1\n",
       "Name: LotArea, dtype: int64"
      ]
     },
     "execution_count": 84,
     "metadata": {},
     "output_type": "execute_result"
    }
   ],
   "source": [
    "df_train[\"LotArea\"].value_counts(bins=5)"
   ]
  },
  {
   "cell_type": "code",
   "execution_count": 85,
   "id": "e2e793f3",
   "metadata": {},
   "outputs": [
    {
     "data": {
      "text/plain": [
       "(1414.869, 12496.0]    1198\n",
       "(12496.0, 23522.0]      240\n",
       "(23522.0, 34548.0]       12\n",
       "(45574.0, 56600.0]        5\n",
       "(34548.0, 45574.0]        4\n",
       "Name: LotArea, dtype: int64"
      ]
     },
     "execution_count": 85,
     "metadata": {},
     "output_type": "execute_result"
    }
   ],
   "source": [
    "df_test[\"LotArea\"].value_counts(bins=5)"
   ]
  },
  {
   "cell_type": "code",
   "execution_count": 86,
   "id": "d9031635",
   "metadata": {},
   "outputs": [],
   "source": [
    "df_train[\"LotArea\"]=pd.cut(x=df_train[\"LotArea\"],bins=[0.0,10000.0,20000.0,30000.0,50000.0,1000000.0],labels=[0,1,2,3,4])"
   ]
  },
  {
   "cell_type": "code",
   "execution_count": 87,
   "id": "ce02fd75",
   "metadata": {},
   "outputs": [
    {
     "data": {
      "text/plain": [
       "0    842\n",
       "1    565\n",
       "2     31\n",
       "3     11\n",
       "4     11\n",
       "Name: LotArea, dtype: int64"
      ]
     },
     "execution_count": 87,
     "metadata": {},
     "output_type": "execute_result"
    }
   ],
   "source": [
    "df_train[\"LotArea\"].value_counts()"
   ]
  },
  {
   "cell_type": "code",
   "execution_count": 88,
   "id": "1bb9b18f",
   "metadata": {},
   "outputs": [
    {
     "data": {
      "text/plain": [
       "0    859\n",
       "1    563\n",
       "2     24\n",
       "3     10\n",
       "4      3\n",
       "Name: LotArea, dtype: int64"
      ]
     },
     "execution_count": 88,
     "metadata": {},
     "output_type": "execute_result"
    }
   ],
   "source": [
    "df_test[\"LotArea\"]=pd.cut(x=df_test[\"LotArea\"],bins=[0.0,10000.0,20000.0,30000.0,50000.0,1000000.0],labels=[0,1,2,3,4])\n",
    "df_test[\"LotArea\"].value_counts()"
   ]
  },
  {
   "cell_type": "code",
   "execution_count": 89,
   "id": "308af1f9",
   "metadata": {},
   "outputs": [
    {
     "data": {
      "text/plain": [
       "Pave    1453\n",
       "Grvl       6\n",
       "Name: Street, dtype: int64"
      ]
     },
     "execution_count": 89,
     "metadata": {},
     "output_type": "execute_result"
    }
   ],
   "source": [
    "# 4   Street         object \n",
    "df_train[\"Street\"].value_counts()\n",
    "df_test[\"Street\"].value_counts()"
   ]
  },
  {
   "cell_type": "code",
   "execution_count": 90,
   "id": "7dd17f4d",
   "metadata": {},
   "outputs": [],
   "source": [
    "df_train[\"Street\"]=df_train[\"Street\"].replace([\"Pave\",\"Grvl\"],[0,1])"
   ]
  },
  {
   "cell_type": "code",
   "execution_count": 91,
   "id": "0aed4794",
   "metadata": {},
   "outputs": [
    {
     "data": {
      "text/plain": [
       "0    1454\n",
       "1       6\n",
       "Name: Street, dtype: int64"
      ]
     },
     "execution_count": 91,
     "metadata": {},
     "output_type": "execute_result"
    }
   ],
   "source": [
    "df_train[\"Street\"].value_counts()"
   ]
  },
  {
   "cell_type": "code",
   "execution_count": 92,
   "id": "0450526c",
   "metadata": {},
   "outputs": [
    {
     "data": {
      "text/plain": [
       "0    1453\n",
       "1       6\n",
       "Name: Street, dtype: int64"
      ]
     },
     "execution_count": 92,
     "metadata": {},
     "output_type": "execute_result"
    }
   ],
   "source": [
    "df_test[\"Street\"]=df_test[\"Street\"].replace([\"Pave\",\"Grvl\"],[0,1])\n",
    "df_test[\"Street\"].value_counts()"
   ]
  },
  {
   "cell_type": "code",
   "execution_count": 93,
   "id": "997f561b",
   "metadata": {},
   "outputs": [
    {
     "data": {
      "text/plain": [
       "NoAl    1369\n",
       "Grvl      50\n",
       "Pave      41\n",
       "Name: Alley, dtype: int64"
      ]
     },
     "execution_count": 93,
     "metadata": {},
     "output_type": "execute_result"
    }
   ],
   "source": [
    "# 5   Alley          object \n",
    "df_train[\"Alley\"].value_counts()"
   ]
  },
  {
   "cell_type": "code",
   "execution_count": 94,
   "id": "4cfc708e",
   "metadata": {},
   "outputs": [
    {
     "data": {
      "text/plain": [
       "0    1369\n",
       "1      50\n",
       "2      41\n",
       "Name: Alley, dtype: int64"
      ]
     },
     "execution_count": 94,
     "metadata": {},
     "output_type": "execute_result"
    }
   ],
   "source": [
    "df_train[\"Alley\"]=df_train[\"Alley\"].replace([\"NoAl\",\"Grvl\",\"Pave\"],[0,1,2])\n",
    "df_train[\"Alley\"].value_counts()"
   ]
  },
  {
   "cell_type": "code",
   "execution_count": 95,
   "id": "0a66cdc7",
   "metadata": {},
   "outputs": [
    {
     "data": {
      "text/plain": [
       "0    1352\n",
       "1      70\n",
       "2      37\n",
       "Name: Alley, dtype: int64"
      ]
     },
     "execution_count": 95,
     "metadata": {},
     "output_type": "execute_result"
    }
   ],
   "source": [
    "df_test[\"Alley\"]=df_test[\"Alley\"].replace([\"NoAl\",\"Grvl\",\"Pave\"],[0,1,2])\n",
    "df_test[\"Alley\"].value_counts()"
   ]
  },
  {
   "cell_type": "code",
   "execution_count": 96,
   "id": "9d7f6ba6",
   "metadata": {},
   "outputs": [
    {
     "data": {
      "text/plain": [
       "Reg    925\n",
       "IR1    484\n",
       "IR2     41\n",
       "IR3     10\n",
       "Name: LotShape, dtype: int64"
      ]
     },
     "execution_count": 96,
     "metadata": {},
     "output_type": "execute_result"
    }
   ],
   "source": [
    "# 6   LotShape       object \n",
    "df_train[\"LotShape\"].value_counts()"
   ]
  },
  {
   "cell_type": "code",
   "execution_count": 97,
   "id": "2ea6d24d",
   "metadata": {},
   "outputs": [
    {
     "data": {
      "text/plain": [
       "0    925\n",
       "1    484\n",
       "2     41\n",
       "3     10\n",
       "Name: LotShape, dtype: int64"
      ]
     },
     "execution_count": 97,
     "metadata": {},
     "output_type": "execute_result"
    }
   ],
   "source": [
    "df_train[\"LotShape\"]=df_train[\"LotShape\"].replace([\"Reg\",\"IR1\",\"IR2\",\"IR3\"],[0,1,2,3])\n",
    "df_train[\"LotShape\"].value_counts()"
   ]
  },
  {
   "cell_type": "code",
   "execution_count": 98,
   "id": "cfcfbb34",
   "metadata": {},
   "outputs": [
    {
     "data": {
      "text/plain": [
       "0    934\n",
       "1    484\n",
       "2     35\n",
       "3      6\n",
       "Name: LotShape, dtype: int64"
      ]
     },
     "execution_count": 98,
     "metadata": {},
     "output_type": "execute_result"
    }
   ],
   "source": [
    "df_test[\"LotShape\"]=df_test[\"LotShape\"].replace([\"Reg\",\"IR1\",\"IR2\",\"IR3\"],[0,1,2,3])\n",
    "df_test[\"LotShape\"].value_counts()"
   ]
  },
  {
   "cell_type": "code",
   "execution_count": 99,
   "id": "ef4f1443",
   "metadata": {},
   "outputs": [
    {
     "data": {
      "text/plain": [
       "Lvl    1311\n",
       "Bnk      63\n",
       "HLS      50\n",
       "Low      36\n",
       "Name: LandContour, dtype: int64"
      ]
     },
     "execution_count": 99,
     "metadata": {},
     "output_type": "execute_result"
    }
   ],
   "source": [
    "# 7   LandContour     object \n",
    "df_train[\"LandContour\"].value_counts()"
   ]
  },
  {
   "cell_type": "code",
   "execution_count": 100,
   "id": "77141d5b",
   "metadata": {},
   "outputs": [
    {
     "data": {
      "text/plain": [
       "0    1311\n",
       "1      63\n",
       "2      50\n",
       "3      36\n",
       "Name: LandContour, dtype: int64"
      ]
     },
     "execution_count": 100,
     "metadata": {},
     "output_type": "execute_result"
    }
   ],
   "source": [
    "df_train[\"LandContour\"]=df_train[\"LandContour\"].replace([\"Lvl\",\"Bnk\",\"HLS\",\"Low\"],[0,1,2,3])\n",
    "df_train[\"LandContour\"].value_counts()"
   ]
  },
  {
   "cell_type": "code",
   "execution_count": 101,
   "id": "fe4d0c07",
   "metadata": {},
   "outputs": [
    {
     "data": {
      "text/plain": [
       "0    1311\n",
       "2      70\n",
       "1      54\n",
       "3      24\n",
       "Name: LandContour, dtype: int64"
      ]
     },
     "execution_count": 101,
     "metadata": {},
     "output_type": "execute_result"
    }
   ],
   "source": [
    "df_test[\"LandContour\"]=df_test[\"LandContour\"].replace([\"Lvl\",\"Bnk\",\"HLS\",\"Low\"],[0,1,2,3])\n",
    "df_test[\"LandContour\"].value_counts()"
   ]
  },
  {
   "cell_type": "code",
   "execution_count": 102,
   "id": "76b2cd17",
   "metadata": {},
   "outputs": [
    {
     "data": {
      "text/plain": [
       "AllPub    1459\n",
       "NoSeWa       1\n",
       "Name: Utilities, dtype: int64"
      ]
     },
     "execution_count": 102,
     "metadata": {},
     "output_type": "execute_result"
    }
   ],
   "source": [
    "# 8   Utilities    object \n",
    "df_train[\"Utilities\"].value_counts()"
   ]
  },
  {
   "cell_type": "code",
   "execution_count": 103,
   "id": "dc295fcd",
   "metadata": {},
   "outputs": [
    {
     "data": {
      "text/plain": [
       "0    1459\n",
       "2       1\n",
       "Name: Utilities, dtype: int64"
      ]
     },
     "execution_count": 103,
     "metadata": {},
     "output_type": "execute_result"
    }
   ],
   "source": [
    "df_train[\"Utilities\"]=df_train[\"Utilities\"].replace([\"AllPub\",\"NoSeWr\",\"NoSeWa\",\"ELO\"],[0,1,2,3])\n",
    "df_train[\"Utilities\"].value_counts()"
   ]
  },
  {
   "cell_type": "code",
   "execution_count": 104,
   "id": "77b278c8",
   "metadata": {},
   "outputs": [
    {
     "data": {
      "text/plain": [
       "0    1459\n",
       "Name: Utilities, dtype: int64"
      ]
     },
     "execution_count": 104,
     "metadata": {},
     "output_type": "execute_result"
    }
   ],
   "source": [
    "df_test[\"Utilities\"]=df_test[\"Utilities\"].replace([\"AllPub\",\"NoSeWr\",\"NoSeWa\",\"ELO\"],[0,1,2,3])\n",
    "df_test[\"Utilities\"].value_counts()"
   ]
  },
  {
   "cell_type": "code",
   "execution_count": 105,
   "id": "ed6c332e",
   "metadata": {},
   "outputs": [
    {
     "data": {
      "text/plain": [
       "Inside     1052\n",
       "Corner      263\n",
       "CulDSac      94\n",
       "FR2          47\n",
       "FR3           4\n",
       "Name: LotConfig, dtype: int64"
      ]
     },
     "execution_count": 105,
     "metadata": {},
     "output_type": "execute_result"
    }
   ],
   "source": [
    "# 9   LotConfig      object \n",
    "df_train[\"LotConfig\"].value_counts()"
   ]
  },
  {
   "cell_type": "code",
   "execution_count": 106,
   "id": "9cd1f881",
   "metadata": {},
   "outputs": [
    {
     "data": {
      "text/plain": [
       "0    1052\n",
       "1     263\n",
       "2      94\n",
       "3      47\n",
       "4       4\n",
       "Name: LotConfig, dtype: int64"
      ]
     },
     "execution_count": 106,
     "metadata": {},
     "output_type": "execute_result"
    }
   ],
   "source": [
    "df_train[\"LotConfig\"]=df_train[\"LotConfig\"].replace([\"Inside\",\"Corner\",\"CulDSac\",\"FR2\",\"FR3\"],[0,1,2,3,4])\n",
    "df_train[\"LotConfig\"].value_counts()"
   ]
  },
  {
   "cell_type": "code",
   "execution_count": 107,
   "id": "58981b09",
   "metadata": {},
   "outputs": [
    {
     "data": {
      "text/plain": [
       "0    1081\n",
       "1     248\n",
       "2      82\n",
       "3      38\n",
       "4      10\n",
       "Name: LotConfig, dtype: int64"
      ]
     },
     "execution_count": 107,
     "metadata": {},
     "output_type": "execute_result"
    }
   ],
   "source": [
    "df_test[\"LotConfig\"]=df_test[\"LotConfig\"].replace([\"Inside\",\"Corner\",\"CulDSac\",\"FR2\",\"FR3\"],[0,1,2,3,4])\n",
    "df_test[\"LotConfig\"].value_counts()"
   ]
  },
  {
   "cell_type": "code",
   "execution_count": 108,
   "id": "9d156a65",
   "metadata": {},
   "outputs": [
    {
     "data": {
      "text/plain": [
       "Gtl    1382\n",
       "Mod      65\n",
       "Sev      13\n",
       "Name: LandSlope, dtype: int64"
      ]
     },
     "execution_count": 108,
     "metadata": {},
     "output_type": "execute_result"
    }
   ],
   "source": [
    "# 10  LandSlope      object \n",
    "df_train[\"LandSlope\"].value_counts()"
   ]
  },
  {
   "cell_type": "code",
   "execution_count": 109,
   "id": "64b6e383",
   "metadata": {},
   "outputs": [
    {
     "data": {
      "text/plain": [
       "0    1382\n",
       "1      65\n",
       "2      13\n",
       "Name: LandSlope, dtype: int64"
      ]
     },
     "execution_count": 109,
     "metadata": {},
     "output_type": "execute_result"
    }
   ],
   "source": [
    "df_train[\"LandSlope\"]=df_train[\"LandSlope\"].replace([\"Gtl\",\"Mod\",\"Sev\"],[0,1,2])\n",
    "df_train[\"LandSlope\"].value_counts()"
   ]
  },
  {
   "cell_type": "code",
   "execution_count": 110,
   "id": "6d7952fe",
   "metadata": {},
   "outputs": [
    {
     "data": {
      "text/plain": [
       "0    1396\n",
       "1      60\n",
       "2       3\n",
       "Name: LandSlope, dtype: int64"
      ]
     },
     "execution_count": 110,
     "metadata": {},
     "output_type": "execute_result"
    }
   ],
   "source": [
    "df_test[\"LandSlope\"]=df_test[\"LandSlope\"].replace([\"Gtl\",\"Mod\",\"Sev\"],[0,1,2])\n",
    "df_test[\"LandSlope\"].value_counts()"
   ]
  },
  {
   "cell_type": "code",
   "execution_count": 111,
   "id": "36fd0fcd",
   "metadata": {},
   "outputs": [
    {
     "data": {
      "text/plain": [
       "NAmes      225\n",
       "CollgCr    150\n",
       "OldTown    113\n",
       "Edwards    100\n",
       "Somerst     86\n",
       "Gilbert     79\n",
       "NridgHt     77\n",
       "Sawyer      74\n",
       "NWAmes      73\n",
       "SawyerW     59\n",
       "BrkSide     58\n",
       "Crawfor     51\n",
       "Mitchel     49\n",
       "NoRidge     41\n",
       "Timber      38\n",
       "IDOTRR      37\n",
       "ClearCr     28\n",
       "StoneBr     25\n",
       "SWISU       25\n",
       "MeadowV     17\n",
       "Blmngtn     17\n",
       "BrDale      16\n",
       "Veenker     11\n",
       "NPkVill      9\n",
       "Blueste      2\n",
       "Name: Neighborhood, dtype: int64"
      ]
     },
     "execution_count": 111,
     "metadata": {},
     "output_type": "execute_result"
    }
   ],
   "source": [
    "# 11  Neighborhood    object \n",
    "df_train[\"Neighborhood\"].value_counts()"
   ]
  },
  {
   "cell_type": "code",
   "execution_count": 112,
   "id": "ac2295c2",
   "metadata": {},
   "outputs": [
    {
     "data": {
      "text/plain": [
       "12    225\n",
       "5     150\n",
       "17    113\n",
       "7     100\n",
       "21     86\n",
       "8      79\n",
       "15     77\n",
       "19     74\n",
       "16     73\n",
       "20     59\n",
       "3      58\n",
       "6      51\n",
       "11     49\n",
       "13     41\n",
       "23     38\n",
       "9      37\n",
       "4      28\n",
       "22     25\n",
       "18     25\n",
       "10     17\n",
       "0      17\n",
       "2      16\n",
       "24     11\n",
       "14      9\n",
       "1       2\n",
       "Name: Neighborhood, dtype: int64"
      ]
     },
     "execution_count": 112,
     "metadata": {},
     "output_type": "execute_result"
    }
   ],
   "source": [
    "df_train[\"Neighborhood\"]=df_train[\"Neighborhood\"].replace([\"Blmngtn\",\"Blueste\",\"BrDale\",\"BrkSide\",\"ClearCr\",\"CollgCr\",\n",
    "                                                           \"Crawfor\",\"Edwards\",\"Gilbert\",\"IDOTRR\",\"MeadowV\",\"Mitchel\",\n",
    "                                                           \"NAmes\",\"NoRidge\",\"NPkVill\",\"NridgHt\",\"NWAmes\",\"OldTown\",\n",
    "                                                          \"SWISU\",\"Sawyer\",\"SawyerW\",\"Somerst\",\"StoneBr\",\"Timber\",\"Veenker\"]\n",
    "                                                          ,[0,1,2,3,4,5,6,7,8,9,10,11,12,13,14,15,16,17,18,19,20,21,22,23,24])\n",
    "df_train[\"Neighborhood\"].value_counts()"
   ]
  },
  {
   "cell_type": "code",
   "execution_count": 113,
   "id": "b5cb7f16",
   "metadata": {},
   "outputs": [
    {
     "data": {
      "text/plain": [
       "12    218\n",
       "17    126\n",
       "5     117\n",
       "21     96\n",
       "7      94\n",
       "15     89\n",
       "8      86\n",
       "19     77\n",
       "20     66\n",
       "11     65\n",
       "16     58\n",
       "9      56\n",
       "6      52\n",
       "3      50\n",
       "23     34\n",
       "13     30\n",
       "22     26\n",
       "18     23\n",
       "10     20\n",
       "4      16\n",
       "2      14\n",
       "14     14\n",
       "24     13\n",
       "0      11\n",
       "1       8\n",
       "Name: Neighborhood, dtype: int64"
      ]
     },
     "execution_count": 113,
     "metadata": {},
     "output_type": "execute_result"
    }
   ],
   "source": [
    "df_test[\"Neighborhood\"]=df_test[\"Neighborhood\"].replace([\"Blmngtn\",\"Blueste\",\"BrDale\",\"BrkSide\",\"ClearCr\",\"CollgCr\",\n",
    "                                                           \"Crawfor\",\"Edwards\",\"Gilbert\",\"IDOTRR\",\"MeadowV\",\"Mitchel\",\n",
    "                                                           \"NAmes\",\"NoRidge\",\"NPkVill\",\"NridgHt\",\"NWAmes\",\"OldTown\",\n",
    "                                                          \"SWISU\",\"Sawyer\",\"SawyerW\",\"Somerst\",\"StoneBr\",\"Timber\",\"Veenker\"]\n",
    "                                                          ,[0,1,2,3,4,5,6,7,8,9,10,11,12,13,14,15,16,17,18,19,20,21,22,23,24])\n",
    "df_test[\"Neighborhood\"].value_counts()"
   ]
  },
  {
   "cell_type": "code",
   "execution_count": 114,
   "id": "f4dc180f",
   "metadata": {},
   "outputs": [
    {
     "data": {
      "text/plain": [
       "Norm      1260\n",
       "Feedr       81\n",
       "Artery      48\n",
       "RRAn        26\n",
       "PosN        19\n",
       "RRAe        11\n",
       "PosA         8\n",
       "RRNn         5\n",
       "RRNe         2\n",
       "Name: Condition1, dtype: int64"
      ]
     },
     "execution_count": 114,
     "metadata": {},
     "output_type": "execute_result"
    }
   ],
   "source": [
    "# 12  Condition1     object \n",
    "df_train[\"Condition1\"].value_counts()"
   ]
  },
  {
   "cell_type": "code",
   "execution_count": 115,
   "id": "986b76cc",
   "metadata": {},
   "outputs": [
    {
     "data": {
      "text/plain": [
       "0    1260\n",
       "1      81\n",
       "2      48\n",
       "3      26\n",
       "4      19\n",
       "5      11\n",
       "6       8\n",
       "7       5\n",
       "8       2\n",
       "Name: Condition1, dtype: int64"
      ]
     },
     "execution_count": 115,
     "metadata": {},
     "output_type": "execute_result"
    }
   ],
   "source": [
    "df_train[\"Condition1\"]=df_train[\"Condition1\"].replace([\"Norm\",\"Feedr\",\"Artery\",\"RRAn\",\"PosN\",\"RRAe\",\"PosA\",\"RRNn\",\"RRNe\"],\n",
    "                                                      [0,1,2,3,4,5,6,7,8])\n",
    "df_train[\"Condition1\"].value_counts()"
   ]
  },
  {
   "cell_type": "code",
   "execution_count": 116,
   "id": "2af2342e",
   "metadata": {},
   "outputs": [
    {
     "data": {
      "text/plain": [
       "0    1251\n",
       "1      83\n",
       "2      44\n",
       "3      24\n",
       "4      20\n",
       "5      17\n",
       "6      12\n",
       "8       4\n",
       "7       4\n",
       "Name: Condition1, dtype: int64"
      ]
     },
     "execution_count": 116,
     "metadata": {},
     "output_type": "execute_result"
    }
   ],
   "source": [
    "df_test[\"Condition1\"]=df_test[\"Condition1\"].replace([\"Norm\",\"Feedr\",\"Artery\",\"RRAn\",\"PosN\",\"RRAe\",\"PosA\",\"RRNn\",\"RRNe\"],\n",
    "                                                      [0,1,2,3,4,5,6,7,8])\n",
    "df_test[\"Condition1\"].value_counts()"
   ]
  },
  {
   "cell_type": "code",
   "execution_count": 117,
   "id": "8c637b9d",
   "metadata": {},
   "outputs": [
    {
     "data": {
      "text/plain": [
       "Norm      1445\n",
       "Feedr        6\n",
       "Artery       2\n",
       "RRNn         2\n",
       "PosN         2\n",
       "PosA         1\n",
       "RRAn         1\n",
       "RRAe         1\n",
       "Name: Condition2, dtype: int64"
      ]
     },
     "execution_count": 117,
     "metadata": {},
     "output_type": "execute_result"
    }
   ],
   "source": [
    "# 13  Condition2     object \n",
    "df_train[\"Condition2\"].value_counts()"
   ]
  },
  {
   "cell_type": "code",
   "execution_count": 118,
   "id": "2e5b3ad8",
   "metadata": {},
   "outputs": [
    {
     "data": {
      "text/plain": [
       "0    1445\n",
       "1       6\n",
       "2       2\n",
       "7       2\n",
       "4       2\n",
       "6       1\n",
       "3       1\n",
       "5       1\n",
       "Name: Condition2, dtype: int64"
      ]
     },
     "execution_count": 118,
     "metadata": {},
     "output_type": "execute_result"
    }
   ],
   "source": [
    "df_train[\"Condition2\"]=df_train[\"Condition2\"].replace([\"Norm\",\"Feedr\",\"Artery\",\"RRAn\",\"PosN\",\"RRAe\",\"PosA\",\"RRNn\",\"RRNe\"],\n",
    "                                                      [0,1,2,3,4,5,6,7,8])\n",
    "df_train[\"Condition2\"].value_counts()"
   ]
  },
  {
   "cell_type": "code",
   "execution_count": 119,
   "id": "9310ddf7",
   "metadata": {},
   "outputs": [
    {
     "data": {
      "text/plain": [
       "0    1444\n",
       "1       7\n",
       "6       3\n",
       "2       3\n",
       "4       2\n",
       "Name: Condition2, dtype: int64"
      ]
     },
     "execution_count": 119,
     "metadata": {},
     "output_type": "execute_result"
    }
   ],
   "source": [
    "df_test[\"Condition2\"]=df_test[\"Condition2\"].replace([\"Norm\",\"Feedr\",\"Artery\",\"RRAn\",\"PosN\",\"RRAe\",\"PosA\",\"RRNn\",\"RRNe\"],\n",
    "                                                      [0,1,2,3,4,5,6,7,8])\n",
    "df_test[\"Condition2\"].value_counts()"
   ]
  },
  {
   "cell_type": "code",
   "execution_count": 120,
   "id": "919a348d",
   "metadata": {},
   "outputs": [
    {
     "data": {
      "text/plain": [
       "1Fam      1220\n",
       "TwnhsE     114\n",
       "Duplex      52\n",
       "Twnhs       43\n",
       "2fmCon      31\n",
       "Name: BldgType, dtype: int64"
      ]
     },
     "execution_count": 120,
     "metadata": {},
     "output_type": "execute_result"
    }
   ],
   "source": [
    "# 14  BldgType      object \n",
    "df_train[\"BldgType\"].value_counts()"
   ]
  },
  {
   "cell_type": "code",
   "execution_count": 121,
   "id": "27e7d066",
   "metadata": {},
   "outputs": [
    {
     "data": {
      "text/plain": [
       "0    1220\n",
       "1     114\n",
       "2      52\n",
       "3      43\n",
       "4      31\n",
       "Name: BldgType, dtype: int64"
      ]
     },
     "execution_count": 121,
     "metadata": {},
     "output_type": "execute_result"
    }
   ],
   "source": [
    "df_train[\"BldgType\"]=df_train[\"BldgType\"].replace([\"1Fam\",\"TwnhsE\",\"Duplex\",\"Twnhs\",\"2fmCon\"],[0,1,2,3,4])\n",
    "df_train[\"BldgType\"].value_counts()"
   ]
  },
  {
   "cell_type": "code",
   "execution_count": 122,
   "id": "c5162e0e",
   "metadata": {},
   "outputs": [
    {
     "data": {
      "text/plain": [
       "0    1205\n",
       "1     113\n",
       "2      57\n",
       "3      53\n",
       "4      31\n",
       "Name: BldgType, dtype: int64"
      ]
     },
     "execution_count": 122,
     "metadata": {},
     "output_type": "execute_result"
    }
   ],
   "source": [
    "df_test[\"BldgType\"]=df_test[\"BldgType\"].replace([\"1Fam\",\"TwnhsE\",\"Duplex\",\"Twnhs\",\"2fmCon\"],[0,1,2,3,4])\n",
    "df_test[\"BldgType\"].value_counts()"
   ]
  },
  {
   "cell_type": "code",
   "execution_count": 123,
   "id": "df6ee810",
   "metadata": {},
   "outputs": [
    {
     "data": {
      "text/plain": [
       "1Story    726\n",
       "2Story    445\n",
       "1.5Fin    154\n",
       "SLvl       65\n",
       "SFoyer     37\n",
       "1.5Unf     14\n",
       "2.5Unf     11\n",
       "2.5Fin      8\n",
       "Name: HouseStyle, dtype: int64"
      ]
     },
     "execution_count": 123,
     "metadata": {},
     "output_type": "execute_result"
    }
   ],
   "source": [
    "# 15  HouseStyle    object \n",
    "df_train[\"HouseStyle\"].value_counts()"
   ]
  },
  {
   "cell_type": "code",
   "execution_count": 124,
   "id": "d4d21f8b",
   "metadata": {},
   "outputs": [
    {
     "data": {
      "text/plain": [
       "0    726\n",
       "3    445\n",
       "1    154\n",
       "7     65\n",
       "6     37\n",
       "2     14\n",
       "5     11\n",
       "4      8\n",
       "Name: HouseStyle, dtype: int64"
      ]
     },
     "execution_count": 124,
     "metadata": {},
     "output_type": "execute_result"
    }
   ],
   "source": [
    "df_train[\"HouseStyle\"]=df_train[\"HouseStyle\"].replace([\"1Story\",\"1.5Fin\",\"1.5Unf\",\"2Story\",\"2.5Fin\",\"2.5Unf\",\"SFoyer\",\"SLvl\"],\n",
    "                                                      [0,1,2,3,4,5,6,7])\n",
    "df_train[\"HouseStyle\"].value_counts()"
   ]
  },
  {
   "cell_type": "code",
   "execution_count": 125,
   "id": "dd8af12f",
   "metadata": {},
   "outputs": [
    {
     "data": {
      "text/plain": [
       "0    745\n",
       "3    427\n",
       "1    160\n",
       "7     63\n",
       "6     46\n",
       "5     13\n",
       "2      5\n",
       "Name: HouseStyle, dtype: int64"
      ]
     },
     "execution_count": 125,
     "metadata": {},
     "output_type": "execute_result"
    }
   ],
   "source": [
    "df_test[\"HouseStyle\"]=df_test[\"HouseStyle\"].replace([\"1Story\",\"1.5Fin\",\"1.5Unf\",\"2Story\",\"2.5Fin\",\"2.5Unf\",\"SFoyer\",\"SLvl\"],\n",
    "                                                      [0,1,2,3,4,5,6,7])\n",
    "df_test[\"HouseStyle\"].value_counts()"
   ]
  },
  {
   "cell_type": "code",
   "execution_count": 126,
   "id": "d064a6c7",
   "metadata": {},
   "outputs": [
    {
     "data": {
      "text/plain": [
       "5     397\n",
       "6     374\n",
       "7     319\n",
       "8     168\n",
       "4     116\n",
       "9      43\n",
       "3      20\n",
       "10     18\n",
       "2       3\n",
       "1       2\n",
       "Name: OverallQual, dtype: int64"
      ]
     },
     "execution_count": 126,
     "metadata": {},
     "output_type": "execute_result"
    }
   ],
   "source": [
    "# 16  OverallQual    int64  \n",
    "df_train[\"OverallQual\"].value_counts()"
   ]
  },
  {
   "cell_type": "code",
   "execution_count": 127,
   "id": "deaeb51a",
   "metadata": {},
   "outputs": [
    {
     "data": {
      "text/plain": [
       "5     428\n",
       "6     357\n",
       "7     281\n",
       "8     174\n",
       "4     110\n",
       "9      64\n",
       "3      20\n",
       "10     13\n",
       "2      10\n",
       "1       2\n",
       "Name: OverallQual, dtype: int64"
      ]
     },
     "execution_count": 127,
     "metadata": {},
     "output_type": "execute_result"
    }
   ],
   "source": [
    "df_test[\"OverallQual\"].value_counts()"
   ]
  },
  {
   "cell_type": "code",
   "execution_count": 128,
   "id": "e0d9ffd2",
   "metadata": {},
   "outputs": [
    {
     "data": {
      "text/plain": [
       "5    821\n",
       "6    252\n",
       "7    205\n",
       "8     72\n",
       "4     57\n",
       "3     25\n",
       "9     22\n",
       "2      5\n",
       "1      1\n",
       "Name: OverallCond, dtype: int64"
      ]
     },
     "execution_count": 128,
     "metadata": {},
     "output_type": "execute_result"
    }
   ],
   "source": [
    "# 17  OverallCond     int64  \n",
    "df_train[\"OverallCond\"].value_counts()"
   ]
  },
  {
   "cell_type": "code",
   "execution_count": 129,
   "id": "c7cc3c18",
   "metadata": {},
   "outputs": [
    {
     "data": {
      "text/plain": [
       "5    824\n",
       "6    279\n",
       "7    185\n",
       "8     72\n",
       "4     44\n",
       "3     25\n",
       "9     19\n",
       "1      6\n",
       "2      5\n",
       "Name: OverallCond, dtype: int64"
      ]
     },
     "execution_count": 129,
     "metadata": {},
     "output_type": "execute_result"
    }
   ],
   "source": [
    "df_test[\"OverallCond\"].value_counts()"
   ]
  },
  {
   "cell_type": "code",
   "execution_count": 130,
   "id": "dab5c535",
   "metadata": {},
   "outputs": [
    {
     "data": {
      "text/plain": [
       "(1982.4, 2010.0]      591\n",
       "(1954.8, 1982.4]      484\n",
       "(1927.2, 1954.8]      211\n",
       "(1899.6, 1927.2]      159\n",
       "(1871.861, 1899.6]     15\n",
       "Name: YearBuilt, dtype: int64"
      ]
     },
     "execution_count": 130,
     "metadata": {},
     "output_type": "execute_result"
    }
   ],
   "source": [
    "# 18  YearBuilt        int64  \n",
    "df_train[\"YearBuilt\"].value_counts(bins=5)"
   ]
  },
  {
   "cell_type": "code",
   "execution_count": 131,
   "id": "78d731bd",
   "metadata": {},
   "outputs": [
    {
     "data": {
      "text/plain": [
       "(1983.8, 2010.0]      595\n",
       "(1957.6, 1983.8]      418\n",
       "(1931.4, 1957.6]      241\n",
       "(1905.2, 1931.4]      170\n",
       "(1878.868, 1905.2]     35\n",
       "Name: YearBuilt, dtype: int64"
      ]
     },
     "execution_count": 131,
     "metadata": {},
     "output_type": "execute_result"
    }
   ],
   "source": [
    "df_test[\"YearBuilt\"].value_counts(bins=5)"
   ]
  },
  {
   "cell_type": "code",
   "execution_count": 132,
   "id": "0c242688",
   "metadata": {},
   "outputs": [
    {
     "data": {
      "text/plain": [
       "4    539\n",
       "3    419\n",
       "2    308\n",
       "1    169\n",
       "0     25\n",
       "Name: YearBuilt, dtype: int64"
      ]
     },
     "execution_count": 132,
     "metadata": {},
     "output_type": "execute_result"
    }
   ],
   "source": [
    "df_train[\"YearBuilt\"]=pd.cut(x=df_train[\"YearBuilt\"],bins=[1870.0,1900.0,1930.0,1960,1990.0,2020.0],labels=[0,1,2,3,4])\n",
    "df_train[\"YearBuilt\"].value_counts()"
   ]
  },
  {
   "cell_type": "code",
   "execution_count": 133,
   "id": "dd29e7dd",
   "metadata": {},
   "outputs": [
    {
     "data": {
      "text/plain": [
       "4    557\n",
       "3    395\n",
       "2    303\n",
       "1    174\n",
       "0     30\n",
       "Name: YearBuilt, dtype: int64"
      ]
     },
     "execution_count": 133,
     "metadata": {},
     "output_type": "execute_result"
    }
   ],
   "source": [
    "df_test[\"YearBuilt\"]=pd.cut(x=df_test[\"YearBuilt\"],bins=[1870.0,1900.0,1930.0,1960,1990.0,2020.0],labels=[0,1,2,3,4])\n",
    "df_test[\"YearBuilt\"].value_counts()"
   ]
  },
  {
   "cell_type": "code",
   "execution_count": 134,
   "id": "00167305",
   "metadata": {},
   "outputs": [
    {
     "data": {
      "text/plain": [
       "1950    178\n",
       "2006     97\n",
       "2007     76\n",
       "2005     73\n",
       "2004     62\n",
       "       ... \n",
       "2010      6\n",
       "1986      5\n",
       "1952      5\n",
       "1983      5\n",
       "1951      4\n",
       "Name: YearRemodAdd, Length: 61, dtype: int64"
      ]
     },
     "execution_count": 134,
     "metadata": {},
     "output_type": "execute_result"
    }
   ],
   "source": [
    "# 19  YearRemodAdd   int64  \n",
    "df_train[\"YearRemodAdd\"].value_counts()"
   ]
  },
  {
   "cell_type": "code",
   "execution_count": 135,
   "id": "7ea2e77e",
   "metadata": {},
   "outputs": [
    {
     "data": {
      "text/plain": [
       "4    782\n",
       "3    394\n",
       "2    284\n",
       "0      0\n",
       "1      0\n",
       "Name: YearRemodAdd, dtype: int64"
      ]
     },
     "execution_count": 135,
     "metadata": {},
     "output_type": "execute_result"
    }
   ],
   "source": [
    "df_train[\"YearRemodAdd\"]=pd.cut(x=df_train[\"YearRemodAdd\"],bins=[1870.0,1900.0,1930.0,1960,1990.0,2020.0],labels=[0,1,2,3,4])\n",
    "df_train[\"YearRemodAdd\"].value_counts()"
   ]
  },
  {
   "cell_type": "code",
   "execution_count": 136,
   "id": "de35544b",
   "metadata": {},
   "outputs": [
    {
     "data": {
      "text/plain": [
       "4    756\n",
       "3    381\n",
       "2    322\n",
       "0      0\n",
       "1      0\n",
       "Name: YearRemodAdd, dtype: int64"
      ]
     },
     "execution_count": 136,
     "metadata": {},
     "output_type": "execute_result"
    }
   ],
   "source": [
    "df_test[\"YearRemodAdd\"]=pd.cut(x=df_test[\"YearRemodAdd\"],bins=[1870.0,1900.0,1930.0,1960,1990.0,2020.0],labels=[0,1,2,3,4])\n",
    "df_test[\"YearRemodAdd\"].value_counts()"
   ]
  },
  {
   "cell_type": "code",
   "execution_count": 137,
   "id": "6a1508ca",
   "metadata": {},
   "outputs": [
    {
     "data": {
      "text/plain": [
       "Gable      1141\n",
       "Hip         286\n",
       "Flat         13\n",
       "Gambrel      11\n",
       "Mansard       7\n",
       "Shed          2\n",
       "Name: RoofStyle, dtype: int64"
      ]
     },
     "execution_count": 137,
     "metadata": {},
     "output_type": "execute_result"
    }
   ],
   "source": [
    "# 20  RoofStyle      object \n",
    "df_train[\"RoofStyle\"].value_counts()"
   ]
  },
  {
   "cell_type": "code",
   "execution_count": 138,
   "id": "299730ea",
   "metadata": {},
   "outputs": [
    {
     "data": {
      "text/plain": [
       "1    1141\n",
       "3     286\n",
       "0      13\n",
       "2      11\n",
       "4       7\n",
       "5       2\n",
       "Name: RoofStyle, dtype: int64"
      ]
     },
     "execution_count": 138,
     "metadata": {},
     "output_type": "execute_result"
    }
   ],
   "source": [
    "df_train[\"RoofStyle\"]=df_train[\"RoofStyle\"].replace([\"Flat\",\"Gable\",\"Gambrel\",\"Hip\",\"Mansard\",\"Shed\"],[0,1,2,3,4,5])\n",
    "df_train[\"RoofStyle\"].value_counts()"
   ]
  },
  {
   "cell_type": "code",
   "execution_count": 139,
   "id": "3c9c693a",
   "metadata": {},
   "outputs": [
    {
     "data": {
      "text/plain": [
       "1    1169\n",
       "3     265\n",
       "2      11\n",
       "0       7\n",
       "4       4\n",
       "5       3\n",
       "Name: RoofStyle, dtype: int64"
      ]
     },
     "execution_count": 139,
     "metadata": {},
     "output_type": "execute_result"
    }
   ],
   "source": [
    "df_test[\"RoofStyle\"]=df_test[\"RoofStyle\"].replace([\"Flat\",\"Gable\",\"Gambrel\",\"Hip\",\"Mansard\",\"Shed\"],[0,1,2,3,4,5])\n",
    "df_test[\"RoofStyle\"].value_counts()"
   ]
  },
  {
   "cell_type": "code",
   "execution_count": 140,
   "id": "1b9131ae",
   "metadata": {},
   "outputs": [
    {
     "data": {
      "text/plain": [
       "CompShg    1434\n",
       "Tar&Grv      11\n",
       "WdShngl       6\n",
       "WdShake       5\n",
       "Metal         1\n",
       "Membran       1\n",
       "Roll          1\n",
       "ClyTile       1\n",
       "Name: RoofMatl, dtype: int64"
      ]
     },
     "execution_count": 140,
     "metadata": {},
     "output_type": "execute_result"
    }
   ],
   "source": [
    "#21  RoofMatl       object \n",
    "df_train[\"RoofMatl\"].value_counts()"
   ]
  },
  {
   "cell_type": "code",
   "execution_count": 141,
   "id": "d9a7f83e",
   "metadata": {},
   "outputs": [
    {
     "data": {
      "text/plain": [
       "1    1434\n",
       "5      11\n",
       "7       6\n",
       "6       5\n",
       "3       1\n",
       "2       1\n",
       "4       1\n",
       "0       1\n",
       "Name: RoofMatl, dtype: int64"
      ]
     },
     "execution_count": 141,
     "metadata": {},
     "output_type": "execute_result"
    }
   ],
   "source": [
    "df_train[\"RoofMatl\"]=df_train[\"RoofMatl\"].replace([\"ClyTile\",\"CompShg\",\"Membran\",\"Metal\",\"Roll\",\"Tar&Grv\",\"WdShake\",\"WdShngl\"]\n",
    "                                                  ,[0,1,2,3,4,5,6,7])\n",
    "df_train[\"RoofMatl\"].value_counts()"
   ]
  },
  {
   "cell_type": "code",
   "execution_count": 142,
   "id": "9874e3e0",
   "metadata": {},
   "outputs": [
    {
     "data": {
      "text/plain": [
       "1    1442\n",
       "5      12\n",
       "6       4\n",
       "7       1\n",
       "Name: RoofMatl, dtype: int64"
      ]
     },
     "execution_count": 142,
     "metadata": {},
     "output_type": "execute_result"
    }
   ],
   "source": [
    "df_test[\"RoofMatl\"]=df_test[\"RoofMatl\"].replace([\"ClyTile\",\"CompShg\",\"Membran\",\"Metal\",\"Roll\",\"Tar&Grv\",\"WdShake\",\"WdShngl\"]\n",
    "                                                  ,[0,1,2,3,4,5,6,7])\n",
    "df_test[\"RoofMatl\"].value_counts()"
   ]
  },
  {
   "cell_type": "code",
   "execution_count": 143,
   "id": "8e2674b9",
   "metadata": {
    "scrolled": true
   },
   "outputs": [
    {
     "data": {
      "text/plain": [
       "VinylSd    515\n",
       "HdBoard    222\n",
       "MetalSd    220\n",
       "Wd Sdng    206\n",
       "Plywood    108\n",
       "CemntBd     61\n",
       "BrkFace     50\n",
       "WdShing     26\n",
       "Stucco      25\n",
       "AsbShng     20\n",
       "BrkComm      2\n",
       "Stone        2\n",
       "AsphShn      1\n",
       "ImStucc      1\n",
       "CBlock       1\n",
       "Name: Exterior1st, dtype: int64"
      ]
     },
     "execution_count": 143,
     "metadata": {},
     "output_type": "execute_result"
    }
   ],
   "source": [
    "# 22  Exterior1st  object \n",
    "df_train[\"Exterior1st\"].value_counts()"
   ]
  },
  {
   "cell_type": "code",
   "execution_count": 144,
   "id": "571cdfe3",
   "metadata": {},
   "outputs": [
    {
     "data": {
      "text/plain": [
       "14    515\n",
       "6     222\n",
       "8     220\n",
       "15    206\n",
       "10    108\n",
       "5      61\n",
       "3      50\n",
       "16     26\n",
       "13     25\n",
       "0      20\n",
       "2       2\n",
       "12      2\n",
       "1       1\n",
       "7       1\n",
       "4       1\n",
       "Name: Exterior1st, dtype: int64"
      ]
     },
     "execution_count": 144,
     "metadata": {},
     "output_type": "execute_result"
    }
   ],
   "source": [
    "list=[\"AsbShng\",\"AsphShn\",\"BrkComm\",\"BrkFace\",\"CBlock\",\"CemntBd\",\"HdBoard\",\"ImStucc\",\"MetalSd\",\"Other\",\"Plywood\",\"PreCast\"\n",
    "      ,\"Stone\",\"Stucco\",\"VinylSd\",\"Wd Sdng\",\"WdShing\"]\n",
    "df_train[\"Exterior1st\"] = df_train[\"Exterior1st\"].replace(list,[0,1,2,3,4,5,6,7,8,9,10,11,12,13,14,15,16])\n",
    "df_train[\"Exterior1st\"].value_counts()"
   ]
  },
  {
   "cell_type": "code",
   "execution_count": 145,
   "id": "2d51c8ef",
   "metadata": {},
   "outputs": [
    {
     "data": {
      "text/plain": [
       "14    511\n",
       "8     230\n",
       "6     220\n",
       "15    205\n",
       "10    113\n",
       "5      65\n",
       "3      37\n",
       "16     30\n",
       "0      24\n",
       "13     18\n",
       "2       4\n",
       "1       1\n",
       "4       1\n",
       "Name: Exterior1st, dtype: int64"
      ]
     },
     "execution_count": 145,
     "metadata": {},
     "output_type": "execute_result"
    }
   ],
   "source": [
    "df_test[\"Exterior1st\"] = df_test[\"Exterior1st\"].replace(list,[0,1,2,3,4,5,6,7,8,9,10,11,12,13,14,15,16])\n",
    "df_test[\"Exterior1st\"].value_counts()"
   ]
  },
  {
   "cell_type": "code",
   "execution_count": 146,
   "id": "e3386abb",
   "metadata": {},
   "outputs": [
    {
     "data": {
      "text/plain": [
       "VinylSd    504\n",
       "MetalSd    214\n",
       "HdBoard    207\n",
       "Wd Sdng    197\n",
       "Plywood    142\n",
       "CmentBd     60\n",
       "Wd Shng     38\n",
       "Stucco      26\n",
       "BrkFace     25\n",
       "AsbShng     20\n",
       "ImStucc     10\n",
       "Brk Cmn      7\n",
       "Stone        5\n",
       "AsphShn      3\n",
       "Other        1\n",
       "CBlock       1\n",
       "Name: Exterior2nd, dtype: int64"
      ]
     },
     "execution_count": 146,
     "metadata": {},
     "output_type": "execute_result"
    }
   ],
   "source": [
    "#23  Exterior2nd     object \n",
    "df_train[\"Exterior2nd\"].value_counts()"
   ]
  },
  {
   "cell_type": "code",
   "execution_count": 147,
   "id": "94681337",
   "metadata": {},
   "outputs": [
    {
     "data": {
      "text/plain": [
       "14    504\n",
       "8     214\n",
       "6     207\n",
       "15    197\n",
       "10    142\n",
       "5      60\n",
       "16     38\n",
       "13     26\n",
       "3      25\n",
       "0      20\n",
       "7      10\n",
       "2       7\n",
       "12      5\n",
       "1       3\n",
       "9       1\n",
       "4       1\n",
       "Name: Exterior2nd, dtype: int64"
      ]
     },
     "execution_count": 147,
     "metadata": {},
     "output_type": "execute_result"
    }
   ],
   "source": [
    "list2=[\"AsbShng\",\"AsphShn\",\"Brk Cmn\",\"BrkFace\",\"CBlock\",\"CmentBd\",\"HdBoard\",\"ImStucc\",\"MetalSd\",\"Other\",\"Plywood\",\"PreCast\"\n",
    "      ,\"Stone\",\"Stucco\",\"VinylSd\",\"Wd Sdng\",\"Wd Shng\"]\n",
    "df_train[\"Exterior2nd\"] = df_train[\"Exterior2nd\"].replace(list2,[0,1,2,3,4,5,6,7,8,9,10,11,12,13,14,15,16])\n",
    "df_train[\"Exterior2nd\"].value_counts()\n"
   ]
  },
  {
   "cell_type": "code",
   "execution_count": 148,
   "id": "9d5b05c6",
   "metadata": {},
   "outputs": [
    {
     "data": {
      "text/plain": [
       "14    511\n",
       "8     233\n",
       "6     199\n",
       "15    194\n",
       "10    128\n",
       "5      66\n",
       "16     43\n",
       "3      22\n",
       "13     21\n",
       "0      18\n",
       "2      15\n",
       "7       5\n",
       "4       2\n",
       "1       1\n",
       "12      1\n",
       "Name: Exterior2nd, dtype: int64"
      ]
     },
     "execution_count": 148,
     "metadata": {},
     "output_type": "execute_result"
    }
   ],
   "source": [
    "df_test[\"Exterior2nd\"] = df_test[\"Exterior2nd\"].replace(list2,[0,1,2,3,4,5,6,7,8,9,10,11,12,13,14,15,16])\n",
    "df_test[\"Exterior2nd\"].value_counts()"
   ]
  },
  {
   "cell_type": "code",
   "execution_count": 149,
   "id": "2cfffece",
   "metadata": {},
   "outputs": [
    {
     "data": {
      "text/plain": [
       "None       872\n",
       "BrkFace    445\n",
       "Stone      128\n",
       "BrkCmn      15\n",
       "Name: MasVnrType, dtype: int64"
      ]
     },
     "execution_count": 149,
     "metadata": {},
     "output_type": "execute_result"
    }
   ],
   "source": [
    "# 24  MasVnrType  object \n",
    "df_train[\"MasVnrType\"].value_counts()"
   ]
  },
  {
   "cell_type": "code",
   "execution_count": 150,
   "id": "5fc00cd3",
   "metadata": {},
   "outputs": [
    {
     "data": {
      "text/plain": [
       "3    872\n",
       "1    445\n",
       "4    128\n",
       "0     15\n",
       "Name: MasVnrType, dtype: int64"
      ]
     },
     "execution_count": 150,
     "metadata": {},
     "output_type": "execute_result"
    }
   ],
   "source": [
    "df_train[\"MasVnrType\"]= df_train[\"MasVnrType\"].replace([\"BrkCmn\",\"BrkFace\",\"CBlock\",\"None\",\"Stone\"],[0,1,2,3,4])\n",
    "df_train[\"MasVnrType\"].value_counts()"
   ]
  },
  {
   "cell_type": "code",
   "execution_count": 151,
   "id": "a7f28a0e",
   "metadata": {},
   "outputs": [
    {
     "data": {
      "text/plain": [
       "3    894\n",
       "1    434\n",
       "4    121\n",
       "0     10\n",
       "Name: MasVnrType, dtype: int64"
      ]
     },
     "execution_count": 151,
     "metadata": {},
     "output_type": "execute_result"
    }
   ],
   "source": [
    "df_test[\"MasVnrType\"]= df_test[\"MasVnrType\"].replace([\"BrkCmn\",\"BrkFace\",\"CBlock\",\"None\",\"Stone\"],[0,1,2,3,4])\n",
    "df_test[\"MasVnrType\"].value_counts()"
   ]
  },
  {
   "cell_type": "code",
   "execution_count": 152,
   "id": "86ec3664",
   "metadata": {},
   "outputs": [
    {
     "data": {
      "text/plain": [
       "(-1.601, 320.0]     1309\n",
       "(320.0, 640.0]       119\n",
       "(640.0, 960.0]        24\n",
       "(960.0, 1280.0]        6\n",
       "(1280.0, 1600.0]       2\n",
       "Name: MasVnrArea, dtype: int64"
      ]
     },
     "execution_count": 152,
     "metadata": {},
     "output_type": "execute_result"
    }
   ],
   "source": [
    "#25  MasVnrArea    float64\n",
    "df_train[\"MasVnrArea\"].value_counts(bins = 5)\n",
    "#df_test[\"MasVnrArea\"].value_counts(bins = 5)"
   ]
  },
  {
   "cell_type": "code",
   "execution_count": 153,
   "id": "b0cff398",
   "metadata": {},
   "outputs": [
    {
     "data": {
      "text/plain": [
       "0    869\n",
       "1    358\n",
       "2    176\n",
       "3     50\n",
       "4      7\n",
       "Name: MasVnrArea, dtype: int64"
      ]
     },
     "execution_count": 153,
     "metadata": {},
     "output_type": "execute_result"
    }
   ],
   "source": [
    "df_train[\"MasVnrArea\"] = pd.cut(x=df_train[\"MasVnrArea\"],bins=[-2.0,0.1,250.0,500.0,1000.0,2000.0],labels=[0,1,2,3,4])\n",
    "df_train[\"MasVnrArea\"].value_counts()"
   ]
  },
  {
   "cell_type": "code",
   "execution_count": 154,
   "id": "6ddef374",
   "metadata": {},
   "outputs": [
    {
     "data": {
      "text/plain": [
       "0    892\n",
       "1    349\n",
       "2    151\n",
       "3     60\n",
       "4      7\n",
       "Name: MasVnrArea, dtype: int64"
      ]
     },
     "execution_count": 154,
     "metadata": {},
     "output_type": "execute_result"
    }
   ],
   "source": [
    "df_test[\"MasVnrArea\"] = pd.cut(x=df_test[\"MasVnrArea\"],bins=[-2.0,0.1,250.0,500.0,1000.0,2000.0],labels=[0,1,2,3,4])\n",
    "df_test[\"MasVnrArea\"].value_counts()"
   ]
  },
  {
   "cell_type": "code",
   "execution_count": 155,
   "id": "ae76cc50",
   "metadata": {},
   "outputs": [
    {
     "data": {
      "text/plain": [
       "TA    906\n",
       "Gd    488\n",
       "Ex     52\n",
       "Fa     14\n",
       "Name: ExterQual, dtype: int64"
      ]
     },
     "execution_count": 155,
     "metadata": {},
     "output_type": "execute_result"
    }
   ],
   "source": [
    "# 26  ExterQual     object \n",
    "df_train[\"ExterQual\"].value_counts()"
   ]
  },
  {
   "cell_type": "code",
   "execution_count": 156,
   "id": "4431843d",
   "metadata": {},
   "outputs": [
    {
     "data": {
      "text/plain": [
       "2    906\n",
       "1    488\n",
       "0     52\n",
       "3     14\n",
       "Name: ExterQual, dtype: int64"
      ]
     },
     "execution_count": 156,
     "metadata": {},
     "output_type": "execute_result"
    }
   ],
   "source": [
    "df_train[\"ExterQual\"]=df_train[\"ExterQual\"].replace([\"Ex\",\"Gd\",\"TA\",\"Fa\",\"Po\"],[0,1,2,3,4])\n",
    "df_train[\"ExterQual\"].value_counts()"
   ]
  },
  {
   "cell_type": "code",
   "execution_count": 157,
   "id": "9612e0f7",
   "metadata": {},
   "outputs": [
    {
     "data": {
      "text/plain": [
       "2    892\n",
       "1    491\n",
       "0     55\n",
       "3     21\n",
       "Name: ExterQual, dtype: int64"
      ]
     },
     "execution_count": 157,
     "metadata": {},
     "output_type": "execute_result"
    }
   ],
   "source": [
    "df_test[\"ExterQual\"]=df_test[\"ExterQual\"].replace([\"Ex\",\"Gd\",\"TA\",\"Fa\",\"Po\"],[0,1,2,3,4])\n",
    "df_test[\"ExterQual\"].value_counts()"
   ]
  },
  {
   "cell_type": "code",
   "execution_count": 158,
   "id": "67f27f4e",
   "metadata": {},
   "outputs": [
    {
     "data": {
      "text/plain": [
       "TA    1282\n",
       "Gd     146\n",
       "Fa      28\n",
       "Ex       3\n",
       "Po       1\n",
       "Name: ExterCond, dtype: int64"
      ]
     },
     "execution_count": 158,
     "metadata": {},
     "output_type": "execute_result"
    }
   ],
   "source": [
    "# 27  ExterCond      object \n",
    "df_train[\"ExterCond\"].value_counts()"
   ]
  },
  {
   "cell_type": "code",
   "execution_count": 159,
   "id": "a3175056",
   "metadata": {},
   "outputs": [
    {
     "data": {
      "text/plain": [
       "2    1282\n",
       "1     146\n",
       "3      28\n",
       "0       3\n",
       "4       1\n",
       "Name: ExterCond, dtype: int64"
      ]
     },
     "execution_count": 159,
     "metadata": {},
     "output_type": "execute_result"
    }
   ],
   "source": [
    "df_train[\"ExterCond\"]=df_train[\"ExterCond\"].replace([\"Ex\",\"Gd\",\"TA\",\"Fa\",\"Po\"],[0,1,2,3,4])\n",
    "df_train[\"ExterCond\"].value_counts()"
   ]
  },
  {
   "cell_type": "code",
   "execution_count": 160,
   "id": "a66e61f0",
   "metadata": {},
   "outputs": [
    {
     "data": {
      "text/plain": [
       "2    1256\n",
       "1     153\n",
       "3      39\n",
       "0       9\n",
       "4       2\n",
       "Name: ExterCond, dtype: int64"
      ]
     },
     "execution_count": 160,
     "metadata": {},
     "output_type": "execute_result"
    }
   ],
   "source": [
    "df_test[\"ExterCond\"]=df_test[\"ExterCond\"].replace([\"Ex\",\"Gd\",\"TA\",\"Fa\",\"Po\"],[0,1,2,3,4])\n",
    "df_test[\"ExterCond\"].value_counts()"
   ]
  },
  {
   "cell_type": "code",
   "execution_count": 161,
   "id": "a1cb805b",
   "metadata": {},
   "outputs": [
    {
     "data": {
      "text/plain": [
       "PConc     647\n",
       "CBlock    634\n",
       "BrkTil    146\n",
       "Slab       24\n",
       "Stone       6\n",
       "Wood        3\n",
       "Name: Foundation, dtype: int64"
      ]
     },
     "execution_count": 161,
     "metadata": {},
     "output_type": "execute_result"
    }
   ],
   "source": [
    "#28  Foundation     object \n",
    "df_train[\"Foundation\"].value_counts()"
   ]
  },
  {
   "cell_type": "code",
   "execution_count": 162,
   "id": "68b3fcdf",
   "metadata": {},
   "outputs": [
    {
     "data": {
      "text/plain": [
       "2    647\n",
       "1    634\n",
       "0    146\n",
       "3     24\n",
       "4      6\n",
       "5      3\n",
       "Name: Foundation, dtype: int64"
      ]
     },
     "execution_count": 162,
     "metadata": {},
     "output_type": "execute_result"
    }
   ],
   "source": [
    "df_train[\"Foundation\"]=df_train[\"Foundation\"].replace([\"BrkTil\",\"CBlock\",\"PConc\",\"Slab\",\"Stone\",\"Wood\"],[0,1,2,3,4,5])\n",
    "df_train[\"Foundation\"].value_counts()"
   ]
  },
  {
   "cell_type": "code",
   "execution_count": 163,
   "id": "6ee3efb2",
   "metadata": {},
   "outputs": [
    {
     "data": {
      "text/plain": [
       "2    661\n",
       "1    601\n",
       "0    165\n",
       "3     25\n",
       "4      5\n",
       "5      2\n",
       "Name: Foundation, dtype: int64"
      ]
     },
     "execution_count": 163,
     "metadata": {},
     "output_type": "execute_result"
    }
   ],
   "source": [
    "df_test[\"Foundation\"]=df_test[\"Foundation\"].replace([\"BrkTil\",\"CBlock\",\"PConc\",\"Slab\",\"Stone\",\"Wood\"],[0,1,2,3,4,5])\n",
    "df_test[\"Foundation\"].value_counts()"
   ]
  },
  {
   "cell_type": "code",
   "execution_count": 164,
   "id": "fa929c44",
   "metadata": {},
   "outputs": [
    {
     "data": {
      "text/plain": [
       "TA    649\n",
       "Gd    618\n",
       "Ex    121\n",
       "No     37\n",
       "Fa     35\n",
       "Name: BsmtQual, dtype: int64"
      ]
     },
     "execution_count": 164,
     "metadata": {},
     "output_type": "execute_result"
    }
   ],
   "source": [
    "# 29  BsmtQual     object \n",
    "df_train[\"BsmtQual\"].value_counts()"
   ]
  },
  {
   "cell_type": "code",
   "execution_count": 165,
   "id": "b430706f",
   "metadata": {},
   "outputs": [
    {
     "data": {
      "text/plain": [
       "2    649\n",
       "1    618\n",
       "0    121\n",
       "5     37\n",
       "3     35\n",
       "Name: BsmtQual, dtype: int64"
      ]
     },
     "execution_count": 165,
     "metadata": {},
     "output_type": "execute_result"
    }
   ],
   "source": [
    "df_train[\"BsmtQual\"]=df_train[\"BsmtQual\"].replace([\"Ex\",\"Gd\",\"TA\",\"Fa\",\"Po\",\"No\"],[0,1,2,3,4,5])\n",
    "df_train[\"BsmtQual\"].value_counts()"
   ]
  },
  {
   "cell_type": "code",
   "execution_count": 166,
   "id": "a3a6c783",
   "metadata": {},
   "outputs": [
    {
     "data": {
      "text/plain": [
       "2    634\n",
       "1    591\n",
       "0    137\n",
       "3     53\n",
       "5     44\n",
       "Name: BsmtQual, dtype: int64"
      ]
     },
     "execution_count": 166,
     "metadata": {},
     "output_type": "execute_result"
    }
   ],
   "source": [
    "df_test[\"BsmtQual\"]=df_test[\"BsmtQual\"].replace([\"Ex\",\"Gd\",\"TA\",\"Fa\",\"Po\",\"No\"],[0,1,2,3,4,5])\n",
    "df_test[\"BsmtQual\"].value_counts()"
   ]
  },
  {
   "cell_type": "code",
   "execution_count": 167,
   "id": "325cfcb9",
   "metadata": {},
   "outputs": [
    {
     "data": {
      "text/plain": [
       "TA    1311\n",
       "Gd      65\n",
       "Fa      45\n",
       "No      37\n",
       "Po       2\n",
       "Name: BsmtCond, dtype: int64"
      ]
     },
     "execution_count": 167,
     "metadata": {},
     "output_type": "execute_result"
    }
   ],
   "source": [
    "# 30  BsmtCond     object \n",
    "df_train[\"BsmtCond\"].value_counts()"
   ]
  },
  {
   "cell_type": "code",
   "execution_count": 168,
   "id": "8b4f0aeb",
   "metadata": {},
   "outputs": [
    {
     "data": {
      "text/plain": [
       "2    1311\n",
       "1      65\n",
       "3      45\n",
       "5      37\n",
       "4       2\n",
       "Name: BsmtCond, dtype: int64"
      ]
     },
     "execution_count": 168,
     "metadata": {},
     "output_type": "execute_result"
    }
   ],
   "source": [
    "df_train[\"BsmtCond\"]=df_train[\"BsmtCond\"].replace([\"Ex\",\"Gd\",\"TA\",\"Fa\",\"Po\",\"No\"],[0,1,2,3,4,5])\n",
    "df_train[\"BsmtCond\"].value_counts()"
   ]
  },
  {
   "cell_type": "code",
   "execution_count": 169,
   "id": "afbeb73b",
   "metadata": {},
   "outputs": [
    {
     "data": {
      "text/plain": [
       "2    1295\n",
       "3      59\n",
       "1      57\n",
       "5      45\n",
       "4       3\n",
       "Name: BsmtCond, dtype: int64"
      ]
     },
     "execution_count": 169,
     "metadata": {},
     "output_type": "execute_result"
    }
   ],
   "source": [
    "df_test[\"BsmtCond\"]=df_test[\"BsmtCond\"].replace([\"Ex\",\"Gd\",\"TA\",\"Fa\",\"Po\",\"No\"],[0,1,2,3,4,5])\n",
    "df_test[\"BsmtCond\"].value_counts()"
   ]
  },
  {
   "cell_type": "code",
   "execution_count": 170,
   "id": "7819e21a",
   "metadata": {},
   "outputs": [
    {
     "data": {
      "text/plain": [
       "No    991\n",
       "Av    221\n",
       "Gd    134\n",
       "Mn    114\n",
       "Name: BsmtExposure, dtype: int64"
      ]
     },
     "execution_count": 170,
     "metadata": {},
     "output_type": "execute_result"
    }
   ],
   "source": [
    "# 31  BsmtExposure  object \n",
    "df_train[\"BsmtExposure\"].value_counts()"
   ]
  },
  {
   "cell_type": "code",
   "execution_count": 171,
   "id": "e879489f",
   "metadata": {},
   "outputs": [
    {
     "data": {
      "text/plain": [
       "3    991\n",
       "1    221\n",
       "0    134\n",
       "2    114\n",
       "Name: BsmtExposure, dtype: int64"
      ]
     },
     "execution_count": 171,
     "metadata": {},
     "output_type": "execute_result"
    }
   ],
   "source": [
    "df_train[\"BsmtExposure\"]=df_train[\"BsmtExposure\"].replace([\"Gd\",\"Av\",\"Mn\",\"No\"],[0,1,2,3])\n",
    "df_train[\"BsmtExposure\"].value_counts()"
   ]
  },
  {
   "cell_type": "code",
   "execution_count": 172,
   "id": "fe14a6b0",
   "metadata": {},
   "outputs": [
    {
     "data": {
      "text/plain": [
       "3    995\n",
       "1    197\n",
       "0    142\n",
       "2    125\n",
       "Name: BsmtExposure, dtype: int64"
      ]
     },
     "execution_count": 172,
     "metadata": {},
     "output_type": "execute_result"
    }
   ],
   "source": [
    "df_test[\"BsmtExposure\"]=df_test[\"BsmtExposure\"].replace([\"Gd\",\"Av\",\"Mn\",\"No\"],[0,1,2,3])\n",
    "df_test[\"BsmtExposure\"].value_counts()"
   ]
  },
  {
   "cell_type": "code",
   "execution_count": 173,
   "id": "f459a2b2",
   "metadata": {},
   "outputs": [
    {
     "data": {
      "text/plain": [
       "Unf    430\n",
       "GLQ    418\n",
       "ALQ    220\n",
       "BLQ    148\n",
       "Rec    133\n",
       "LwQ     74\n",
       "No      37\n",
       "Name: BsmtFinType1, dtype: int64"
      ]
     },
     "execution_count": 173,
     "metadata": {},
     "output_type": "execute_result"
    }
   ],
   "source": [
    " #32  BsmtFinType1   object \n",
    "df_train[\"BsmtFinType1\"].value_counts()"
   ]
  },
  {
   "cell_type": "code",
   "execution_count": 174,
   "id": "ce2fa1c2",
   "metadata": {},
   "outputs": [
    {
     "data": {
      "text/plain": [
       "5    430\n",
       "0    418\n",
       "1    220\n",
       "2    148\n",
       "3    133\n",
       "4     74\n",
       "6     37\n",
       "Name: BsmtFinType1, dtype: int64"
      ]
     },
     "execution_count": 174,
     "metadata": {},
     "output_type": "execute_result"
    }
   ],
   "source": [
    "df_train[\"BsmtFinType1\"]=df_train[\"BsmtFinType1\"].replace([\"GLQ\",\"ALQ\",\"BLQ\",\"Rec\",\"LwQ\",\"Unf\",\"No\"],[0,1,2,3,4,5,6])\n",
    "df_train[\"BsmtFinType1\"].value_counts()"
   ]
  },
  {
   "cell_type": "code",
   "execution_count": 175,
   "id": "0d4fc991",
   "metadata": {},
   "outputs": [
    {
     "data": {
      "text/plain": [
       "0    431\n",
       "5    421\n",
       "1    209\n",
       "3    155\n",
       "2    121\n",
       "4     80\n",
       "6     42\n",
       "Name: BsmtFinType1, dtype: int64"
      ]
     },
     "execution_count": 175,
     "metadata": {},
     "output_type": "execute_result"
    }
   ],
   "source": [
    "df_test[\"BsmtFinType1\"]=df_test[\"BsmtFinType1\"].replace([\"GLQ\",\"ALQ\",\"BLQ\",\"Rec\",\"LwQ\",\"Unf\",\"No\"],[0,1,2,3,4,5,6])\n",
    "df_test[\"BsmtFinType1\"].value_counts()"
   ]
  },
  {
   "cell_type": "code",
   "execution_count": 176,
   "id": "c1e4a769",
   "metadata": {},
   "outputs": [
    {
     "data": {
      "text/plain": [
       "(-5.6450000000000005, 1128.8]    1336\n",
       "(1128.8, 2257.6]                  122\n",
       "(2257.6, 3386.4]                    1\n",
       "(4515.2, 5644.0]                    1\n",
       "(3386.4, 4515.2]                    0\n",
       "Name: BsmtFinSF1, dtype: int64"
      ]
     },
     "execution_count": 176,
     "metadata": {},
     "output_type": "execute_result"
    }
   ],
   "source": [
    "# 33  BsmtFinSF1    float64\n",
    "df_train[\"BsmtFinSF1\"].value_counts(bins = 5)\n",
    "#df_test[\"BsmtFinSF1\"].value_counts(bins=5)"
   ]
  },
  {
   "cell_type": "code",
   "execution_count": 177,
   "id": "9c8bb995",
   "metadata": {},
   "outputs": [
    {
     "data": {
      "text/plain": [
       "0    467\n",
       "2    435\n",
       "1    380\n",
       "3    174\n",
       "4      4\n",
       "Name: BsmtFinSF1, dtype: int64"
      ]
     },
     "execution_count": 177,
     "metadata": {},
     "output_type": "execute_result"
    }
   ],
   "source": [
    "df_train[\"BsmtFinSF1\"] = pd.cut(x=df_train[\"BsmtFinSF1\"],bins=[-10.0,0.5,500.,1000.,2000.0,10000.0],labels=[0,1,2,3,4])\n",
    "df_train[\"BsmtFinSF1\"].value_counts()"
   ]
  },
  {
   "cell_type": "code",
   "execution_count": 178,
   "id": "792169c1",
   "metadata": {},
   "outputs": [
    {
     "data": {
      "text/plain": [
       "0    463\n",
       "2    417\n",
       "1    409\n",
       "3    164\n",
       "4      6\n",
       "Name: BsmtFinSF1, dtype: int64"
      ]
     },
     "execution_count": 178,
     "metadata": {},
     "output_type": "execute_result"
    }
   ],
   "source": [
    "df_test[\"BsmtFinSF1\"] = pd.cut(x=df_test[\"BsmtFinSF1\"],bins=[-10.0,0.5,500.,1000.,2000.0,10000.0],labels=[0,1,2,3,4])\n",
    "df_test[\"BsmtFinSF1\"].value_counts()"
   ]
  },
  {
   "cell_type": "code",
   "execution_count": 179,
   "id": "12ad970a",
   "metadata": {},
   "outputs": [
    {
     "data": {
      "text/plain": [
       "Unf    1256\n",
       "Rec      54\n",
       "LwQ      46\n",
       "No       38\n",
       "BLQ      33\n",
       "ALQ      19\n",
       "GLQ      14\n",
       "Name: BsmtFinType2, dtype: int64"
      ]
     },
     "execution_count": 179,
     "metadata": {},
     "output_type": "execute_result"
    }
   ],
   "source": [
    "# 34  BsmtFinType2   object \n",
    "df_train[\"BsmtFinType2\"].value_counts()"
   ]
  },
  {
   "cell_type": "code",
   "execution_count": 180,
   "id": "91533521",
   "metadata": {},
   "outputs": [
    {
     "data": {
      "text/plain": [
       "5    1256\n",
       "3      54\n",
       "4      46\n",
       "6      38\n",
       "2      33\n",
       "1      19\n",
       "0      14\n",
       "Name: BsmtFinType2, dtype: int64"
      ]
     },
     "execution_count": 180,
     "metadata": {},
     "output_type": "execute_result"
    }
   ],
   "source": [
    "df_train[\"BsmtFinType2\"]=df_train[\"BsmtFinType2\"].replace([\"GLQ\",\"ALQ\",\"BLQ\",\"Rec\",\"LwQ\",\"Unf\",\"No\"],[0,1,2,3,4,5,6])\n",
    "df_train[\"BsmtFinType2\"].value_counts()"
   ]
  },
  {
   "cell_type": "code",
   "execution_count": 181,
   "id": "9ce467bf",
   "metadata": {},
   "outputs": [
    {
     "data": {
      "text/plain": [
       "5    1237\n",
       "3      51\n",
       "6      42\n",
       "4      41\n",
       "2      35\n",
       "1      33\n",
       "0      20\n",
       "Name: BsmtFinType2, dtype: int64"
      ]
     },
     "execution_count": 181,
     "metadata": {},
     "output_type": "execute_result"
    }
   ],
   "source": [
    "df_test[\"BsmtFinType2\"]=df_test[\"BsmtFinType2\"].replace([\"GLQ\",\"ALQ\",\"BLQ\",\"Rec\",\"LwQ\",\"Unf\",\"No\"],[0,1,2,3,4,5,6])\n",
    "df_test[\"BsmtFinType2\"].value_counts()"
   ]
  },
  {
   "cell_type": "code",
   "execution_count": 182,
   "id": "32d65864",
   "metadata": {},
   "outputs": [
    {
     "data": {
      "text/plain": [
       "(-1.4749999999999999, 294.8]    1368\n",
       "(294.8, 589.6]                    53\n",
       "(589.6, 884.4]                    27\n",
       "(884.4, 1179.2]                   11\n",
       "(1179.2, 1474.0]                   1\n",
       "Name: BsmtFinSF2, dtype: int64"
      ]
     },
     "execution_count": 182,
     "metadata": {},
     "output_type": "execute_result"
    }
   ],
   "source": [
    "#35  BsmtFinSF2    float64\n",
    "df_train[\"BsmtFinSF2\"].value_counts(bins=5)\n",
    "#df_test[\"BsmtFinSF2\"].value_counts(bins=5)"
   ]
  },
  {
   "cell_type": "code",
   "execution_count": 183,
   "id": "4a923e2b",
   "metadata": {},
   "outputs": [
    {
     "data": {
      "text/plain": [
       "0    1293\n",
       "1     116\n",
       "2      41\n",
       "3      10\n",
       "4       0\n",
       "Name: BsmtFinSF2, dtype: int64"
      ]
     },
     "execution_count": 183,
     "metadata": {},
     "output_type": "execute_result"
    }
   ],
   "source": [
    "df_train[\"BsmtFinSF2\"] = pd.cut(x=df_train[\"BsmtFinSF2\"],bins=[-10.0,0.5,500.,1000.,2000.0,10000.0],labels=[0,1,2,3,4])\n",
    "df_train[\"BsmtFinSF2\"].value_counts()"
   ]
  },
  {
   "cell_type": "code",
   "execution_count": 184,
   "id": "ff399cfb",
   "metadata": {},
   "outputs": [
    {
     "data": {
      "text/plain": [
       "0    1279\n",
       "1     120\n",
       "2      52\n",
       "3       8\n",
       "4       0\n",
       "Name: BsmtFinSF2, dtype: int64"
      ]
     },
     "execution_count": 184,
     "metadata": {},
     "output_type": "execute_result"
    }
   ],
   "source": [
    "df_test[\"BsmtFinSF2\"] = pd.cut(x=df_test[\"BsmtFinSF2\"],bins=[-10.0,0.5,500.,1000.,2000.0,10000.0],labels=[0,1,2,3,4])\n",
    "df_test[\"BsmtFinSF2\"].value_counts()"
   ]
  },
  {
   "cell_type": "code",
   "execution_count": 185,
   "id": "fc160698",
   "metadata": {},
   "outputs": [
    {
     "data": {
      "text/plain": [
       "(-2.3369999999999997, 467.2]    721\n",
       "(467.2, 934.4]                  472\n",
       "(934.4, 1401.6]                 178\n",
       "(1401.6, 1868.8]                 77\n",
       "(1868.8, 2336.0]                 12\n",
       "Name: BsmtUnfSF, dtype: int64"
      ]
     },
     "execution_count": 185,
     "metadata": {},
     "output_type": "execute_result"
    }
   ],
   "source": [
    "# 36  BsmtUnfSF      float64\n",
    "df_train[\"BsmtUnfSF\"].value_counts(bins = 5)\n",
    "#df_test[\"BsmtUnfSF\"].value_counts(bins = 5)"
   ]
  },
  {
   "cell_type": "code",
   "execution_count": 186,
   "id": "84b9aecb",
   "metadata": {},
   "outputs": [
    {
     "data": {
      "text/plain": [
       "3    479\n",
       "2    359\n",
       "1    279\n",
       "4    225\n",
       "0    118\n",
       "Name: BsmtUnfSF, dtype: int64"
      ]
     },
     "execution_count": 186,
     "metadata": {},
     "output_type": "execute_result"
    }
   ],
   "source": [
    "df_train[\"BsmtUnfSF\"] = pd.cut(x=df_train[\"BsmtUnfSF\"],bins=[-10.0,0.5,250.,500.,1000.0,10000.0],labels=[0,1,2,3,4])\n",
    "df_train[\"BsmtUnfSF\"].value_counts()"
   ]
  },
  {
   "cell_type": "code",
   "execution_count": 187,
   "id": "f713dedc",
   "metadata": {},
   "outputs": [
    {
     "data": {
      "text/plain": [
       "3    447\n",
       "2    363\n",
       "1    299\n",
       "4    226\n",
       "0    124\n",
       "Name: BsmtUnfSF, dtype: int64"
      ]
     },
     "execution_count": 187,
     "metadata": {},
     "output_type": "execute_result"
    }
   ],
   "source": [
    "df_test[\"BsmtUnfSF\"] = pd.cut(x=df_test[\"BsmtUnfSF\"],bins=[-10.0,0.5,250.,500.,1000.0,10000.0],labels=[0,1,2,3,4])\n",
    "df_test[\"BsmtUnfSF\"].value_counts()"
   ]
  },
  {
   "cell_type": "code",
   "execution_count": 188,
   "id": "5476b58e",
   "metadata": {},
   "outputs": [
    {
     "data": {
      "text/plain": [
       "(-6.111000000000001, 1222.0]    1028\n",
       "(1222.0, 2444.0]                 425\n",
       "(2444.0, 3666.0]                   6\n",
       "(4888.0, 6110.0]                   1\n",
       "(3666.0, 4888.0]                   0\n",
       "Name: TotalBsmtSF, dtype: int64"
      ]
     },
     "execution_count": 188,
     "metadata": {},
     "output_type": "execute_result"
    }
   ],
   "source": [
    "# 37  TotalBsmtSF   float64\n",
    "df_train[\"TotalBsmtSF\"].value_counts(bins = 5)\n",
    "#df_test[\"TotalBsmtSF\"].value_counts(bins = 5)"
   ]
  },
  {
   "cell_type": "code",
   "execution_count": 189,
   "id": "45ac23ea",
   "metadata": {},
   "outputs": [
    {
     "data": {
      "text/plain": [
       "3    687\n",
       "2    672\n",
       "0     37\n",
       "1     34\n",
       "4     30\n",
       "Name: TotalBsmtSF, dtype: int64"
      ]
     },
     "execution_count": 189,
     "metadata": {},
     "output_type": "execute_result"
    }
   ],
   "source": [
    "df_train[\"TotalBsmtSF\"] = pd.cut(x=df_train[\"TotalBsmtSF\"],bins=[-10.0,0.5,500.,1000.,2000.0,10000.0],labels=[0,1,2,3,4])\n",
    "df_train[\"TotalBsmtSF\"].value_counts()"
   ]
  },
  {
   "cell_type": "code",
   "execution_count": 190,
   "id": "12b5f233",
   "metadata": {},
   "outputs": [
    {
     "data": {
      "text/plain": [
       "3    682\n",
       "2    645\n",
       "1     63\n",
       "0     42\n",
       "4     27\n",
       "Name: TotalBsmtSF, dtype: int64"
      ]
     },
     "execution_count": 190,
     "metadata": {},
     "output_type": "execute_result"
    }
   ],
   "source": [
    "df_test[\"TotalBsmtSF\"] = pd.cut(x=df_test[\"TotalBsmtSF\"],bins=[-10.0,0.5,500.,1000.,2000.0,10000.0],labels=[0,1,2,3,4])\n",
    "df_test[\"TotalBsmtSF\"].value_counts()"
   ]
  },
  {
   "cell_type": "code",
   "execution_count": 191,
   "id": "1f4c9d00",
   "metadata": {},
   "outputs": [
    {
     "data": {
      "text/plain": [
       "GasA     1428\n",
       "GasW       18\n",
       "Grav        7\n",
       "Wall        4\n",
       "OthW        2\n",
       "Floor       1\n",
       "Name: Heating, dtype: int64"
      ]
     },
     "execution_count": 191,
     "metadata": {},
     "output_type": "execute_result"
    }
   ],
   "source": [
    "# 38  Heating       object \n",
    "df_train[\"Heating\"].value_counts()"
   ]
  },
  {
   "cell_type": "code",
   "execution_count": 192,
   "id": "8a1533b8",
   "metadata": {},
   "outputs": [
    {
     "data": {
      "text/plain": [
       "1    1428\n",
       "2      18\n",
       "3       7\n",
       "5       4\n",
       "4       2\n",
       "0       1\n",
       "Name: Heating, dtype: int64"
      ]
     },
     "execution_count": 192,
     "metadata": {},
     "output_type": "execute_result"
    }
   ],
   "source": [
    "df_train[\"Heating\"]=df_train[\"Heating\"].replace([\"Floor\",\"GasA\",\"GasW\",\"Grav\",\"OthW\",\"Wall\"],[0,1,2,3,4,5])\n",
    "df_train[\"Heating\"].value_counts()"
   ]
  },
  {
   "cell_type": "code",
   "execution_count": 193,
   "id": "37bee86d",
   "metadata": {},
   "outputs": [
    {
     "data": {
      "text/plain": [
       "1    1446\n",
       "2       9\n",
       "3       2\n",
       "5       2\n",
       "Name: Heating, dtype: int64"
      ]
     },
     "execution_count": 193,
     "metadata": {},
     "output_type": "execute_result"
    }
   ],
   "source": [
    "df_test[\"Heating\"]=df_test[\"Heating\"].replace([\"Floor\",\"GasA\",\"GasW\",\"Grav\",\"OthW\",\"Wall\"],[0,1,2,3,4,5])\n",
    "df_test[\"Heating\"].value_counts()"
   ]
  },
  {
   "cell_type": "code",
   "execution_count": 194,
   "id": "39287af8",
   "metadata": {},
   "outputs": [
    {
     "data": {
      "text/plain": [
       "Ex    741\n",
       "TA    428\n",
       "Gd    241\n",
       "Fa     49\n",
       "Po      1\n",
       "Name: HeatingQC, dtype: int64"
      ]
     },
     "execution_count": 194,
     "metadata": {},
     "output_type": "execute_result"
    }
   ],
   "source": [
    "# 39  HeatingQC    object \n",
    "df_train[\"HeatingQC\"].value_counts()"
   ]
  },
  {
   "cell_type": "code",
   "execution_count": 195,
   "id": "1f69811f",
   "metadata": {},
   "outputs": [
    {
     "data": {
      "text/plain": [
       "0    741\n",
       "2    428\n",
       "1    241\n",
       "3     49\n",
       "4      1\n",
       "Name: HeatingQC, dtype: int64"
      ]
     },
     "execution_count": 195,
     "metadata": {},
     "output_type": "execute_result"
    }
   ],
   "source": [
    "df_train[\"HeatingQC\"]=df_train[\"HeatingQC\"].replace([\"Ex\",\"Gd\",\"TA\",\"Fa\",\"Po\"],[0,1,2,3,4])\n",
    "df_train[\"HeatingQC\"].value_counts()"
   ]
  },
  {
   "cell_type": "code",
   "execution_count": 196,
   "id": "60ea7537",
   "metadata": {},
   "outputs": [
    {
     "data": {
      "text/plain": [
       "0    752\n",
       "2    429\n",
       "1    233\n",
       "3     43\n",
       "4      2\n",
       "Name: HeatingQC, dtype: int64"
      ]
     },
     "execution_count": 196,
     "metadata": {},
     "output_type": "execute_result"
    }
   ],
   "source": [
    "df_test[\"HeatingQC\"]=df_test[\"HeatingQC\"].replace([\"Ex\",\"Gd\",\"TA\",\"Fa\",\"Po\"],[0,1,2,3,4])\n",
    "df_test[\"HeatingQC\"].value_counts()"
   ]
  },
  {
   "cell_type": "code",
   "execution_count": 197,
   "id": "6a2381cb",
   "metadata": {},
   "outputs": [
    {
     "data": {
      "text/plain": [
       "Y    1365\n",
       "N      95\n",
       "Name: CentralAir, dtype: int64"
      ]
     },
     "execution_count": 197,
     "metadata": {},
     "output_type": "execute_result"
    }
   ],
   "source": [
    "# 40  CentralAir  object \n",
    "df_train[\"CentralAir\"].value_counts()"
   ]
  },
  {
   "cell_type": "code",
   "execution_count": 198,
   "id": "24557465",
   "metadata": {},
   "outputs": [
    {
     "data": {
      "text/plain": [
       "1    1365\n",
       "0      95\n",
       "Name: CentralAir, dtype: int64"
      ]
     },
     "execution_count": 198,
     "metadata": {},
     "output_type": "execute_result"
    }
   ],
   "source": [
    "df_train[\"CentralAir\"]=df_train[\"CentralAir\"].replace([\"N\",\"Y\"],[0,1])\n",
    "df_train[\"CentralAir\"].value_counts()"
   ]
  },
  {
   "cell_type": "code",
   "execution_count": 199,
   "id": "ac266e56",
   "metadata": {},
   "outputs": [
    {
     "data": {
      "text/plain": [
       "1    1358\n",
       "0     101\n",
       "Name: CentralAir, dtype: int64"
      ]
     },
     "execution_count": 199,
     "metadata": {},
     "output_type": "execute_result"
    }
   ],
   "source": [
    "df_test[\"CentralAir\"]=df_test[\"CentralAir\"].replace([\"N\",\"Y\"],[0,1])\n",
    "df_test[\"CentralAir\"].value_counts()"
   ]
  },
  {
   "cell_type": "code",
   "execution_count": 200,
   "id": "c6abb07f",
   "metadata": {},
   "outputs": [
    {
     "data": {
      "text/plain": [
       "SBrkr    1335\n",
       "FuseA      94\n",
       "FuseF      27\n",
       "FuseP       3\n",
       "Mix         1\n",
       "Name: Electrical, dtype: int64"
      ]
     },
     "execution_count": 200,
     "metadata": {},
     "output_type": "execute_result"
    }
   ],
   "source": [
    "# 41  Electrical      object \n",
    "df_train[\"Electrical\"].value_counts()"
   ]
  },
  {
   "cell_type": "code",
   "execution_count": 201,
   "id": "336ceca7",
   "metadata": {},
   "outputs": [
    {
     "data": {
      "text/plain": [
       "0    1335\n",
       "1      94\n",
       "2      27\n",
       "3       3\n",
       "4       1\n",
       "Name: Electrical, dtype: int64"
      ]
     },
     "execution_count": 201,
     "metadata": {},
     "output_type": "execute_result"
    }
   ],
   "source": [
    "df_train[\"Electrical\"]=df_train[\"Electrical\"].replace([\"SBrkr\",\"FuseA\",\"FuseF\",\"FuseP\",\"Mix\"],[0,1,2,3,4])\n",
    "df_train[\"Electrical\"].value_counts()"
   ]
  },
  {
   "cell_type": "code",
   "execution_count": 202,
   "id": "413d20d2",
   "metadata": {},
   "outputs": [
    {
     "data": {
      "text/plain": [
       "0    1337\n",
       "1      94\n",
       "2      23\n",
       "3       5\n",
       "Name: Electrical, dtype: int64"
      ]
     },
     "execution_count": 202,
     "metadata": {},
     "output_type": "execute_result"
    }
   ],
   "source": [
    "df_test[\"Electrical\"]=df_test[\"Electrical\"].replace([\"SBrkr\",\"FuseA\",\"FuseF\",\"FuseP\",\"Mix\"],[0,1,2,3,4])\n",
    "df_test[\"Electrical\"].value_counts()"
   ]
  },
  {
   "cell_type": "code",
   "execution_count": 203,
   "id": "11bef883",
   "metadata": {},
   "outputs": [
    {
     "data": {
      "text/plain": [
       "(329.641, 1205.6]    900\n",
       "(1205.6, 2077.2]     532\n",
       "(2077.2, 2948.8]      25\n",
       "(2948.8, 3820.4]       2\n",
       "(3820.4, 4692.0]       1\n",
       "Name: 1stFlrSF, dtype: int64"
      ]
     },
     "execution_count": 203,
     "metadata": {},
     "output_type": "execute_result"
    }
   ],
   "source": [
    "# 42  1stFlrSF     int64  \n",
    "df_train[\"1stFlrSF\"].value_counts(bins=5)\n",
    "#df_test[\"1stFlrSF\"].value_counts(bins=5)"
   ]
  },
  {
   "cell_type": "code",
   "execution_count": 204,
   "id": "6558c0de",
   "metadata": {},
   "outputs": [
    {
     "data": {
      "text/plain": [
       "1    836\n",
       "0    584\n",
       "2     37\n",
       "3      2\n",
       "4      1\n",
       "Name: 1stFlrSF, dtype: int64"
      ]
     },
     "execution_count": 204,
     "metadata": {},
     "output_type": "execute_result"
    }
   ],
   "source": [
    "df_train[\"1stFlrSF\"]=pd.cut(x=df_train[\"1stFlrSF\"],bins=[0.0,1000.0,2000.0,3000.0,4000.0,6000.0],labels=[0,1,2,3,4])\n",
    "df_train[\"1stFlrSF\"].value_counts()"
   ]
  },
  {
   "cell_type": "code",
   "execution_count": 205,
   "id": "bfe8edd6",
   "metadata": {},
   "outputs": [
    {
     "data": {
      "text/plain": [
       "1    824\n",
       "0    595\n",
       "2     38\n",
       "3      1\n",
       "4      1\n",
       "Name: 1stFlrSF, dtype: int64"
      ]
     },
     "execution_count": 205,
     "metadata": {},
     "output_type": "execute_result"
    }
   ],
   "source": [
    "df_test[\"1stFlrSF\"]=pd.cut(x=df_test[\"1stFlrSF\"],bins=[0.0,1000.0,2000.0,3000.0,4000.0,6000.0],labels=[0,1,2,3,4])\n",
    "df_test[\"1stFlrSF\"].value_counts()"
   ]
  },
  {
   "cell_type": "code",
   "execution_count": 206,
   "id": "3967707c",
   "metadata": {},
   "outputs": [
    {
     "data": {
      "text/plain": [
       "(-2.066, 413.0]     864\n",
       "(413.0, 826.0]      328\n",
       "(826.0, 1239.0]     222\n",
       "(1239.0, 1652.0]     42\n",
       "(1652.0, 2065.0]      4\n",
       "Name: 2ndFlrSF, dtype: int64"
      ]
     },
     "execution_count": 206,
     "metadata": {},
     "output_type": "execute_result"
    }
   ],
   "source": [
    "# 43  2ndFlrSF    int64  \n",
    "df_train[\"2ndFlrSF\"].value_counts(bins=5)\n",
    "#df_test[\"2ndFlrSF\"].value_counts(bins=5)"
   ]
  },
  {
   "cell_type": "code",
   "execution_count": 207,
   "id": "dca6dcbf",
   "metadata": {},
   "outputs": [
    {
     "data": {
      "text/plain": [
       "0    838\n",
       "2    447\n",
       "3    113\n",
       "1     51\n",
       "4     11\n",
       "Name: 2ndFlrSF, dtype: int64"
      ]
     },
     "execution_count": 207,
     "metadata": {},
     "output_type": "execute_result"
    }
   ],
   "source": [
    "df_train[\"2ndFlrSF\"]=pd.cut(x=df_train[\"2ndFlrSF\"],bins=[-10.0,250.0,500.0,1000.0,1500.0,3000.0],labels=[0,1,2,3,4])\n",
    "df_train[\"2ndFlrSF\"].value_counts()"
   ]
  },
  {
   "cell_type": "code",
   "execution_count": 208,
   "id": "a3edfe45",
   "metadata": {},
   "outputs": [
    {
     "data": {
      "text/plain": [
       "0    849\n",
       "2    427\n",
       "3     97\n",
       "1     76\n",
       "4     10\n",
       "Name: 2ndFlrSF, dtype: int64"
      ]
     },
     "execution_count": 208,
     "metadata": {},
     "output_type": "execute_result"
    }
   ],
   "source": [
    "df_test[\"2ndFlrSF\"]=pd.cut(x=df_test[\"2ndFlrSF\"],bins=[-10.0,250.0,500.0,1000.0,1500.0,3000.0],labels=[0,1,2,3,4])\n",
    "df_test[\"2ndFlrSF\"].value_counts()"
   ]
  },
  {
   "cell_type": "code",
   "execution_count": 209,
   "id": "b2edb3a7",
   "metadata": {},
   "outputs": [
    {
     "data": {
      "text/plain": [
       "(-0.573, 114.4]    1438\n",
       "(343.2, 457.6]        8\n",
       "(457.6, 572.0]        8\n",
       "(114.4, 228.8]        4\n",
       "(228.8, 343.2]        2\n",
       "Name: LowQualFinSF, dtype: int64"
      ]
     },
     "execution_count": 209,
     "metadata": {},
     "output_type": "execute_result"
    }
   ],
   "source": [
    "# 44  LowQualFinSF    int64  \n",
    "df_train[\"LowQualFinSF\"].value_counts(bins=5)\n",
    "#df_test[\"LowQualFinSF\"].value_counts(bins=5)"
   ]
  },
  {
   "cell_type": "code",
   "execution_count": 210,
   "id": "0f71ffec",
   "metadata": {},
   "outputs": [
    {
     "data": {
      "text/plain": [
       "0    1434\n",
       "3      10\n",
       "4       9\n",
       "1       4\n",
       "2       3\n",
       "Name: LowQualFinSF, dtype: int64"
      ]
     },
     "execution_count": 210,
     "metadata": {},
     "output_type": "execute_result"
    }
   ],
   "source": [
    "df_train[\"LowQualFinSF\"]=pd.cut(x=df_train[\"LowQualFinSF\"],bins=[-10.0,10.0,100.0,200.0,400.0,1500.0],labels=[0,1,2,3,4])\n",
    "df_train[\"LowQualFinSF\"].value_counts()"
   ]
  },
  {
   "cell_type": "code",
   "execution_count": 211,
   "id": "d78f3976",
   "metadata": {},
   "outputs": [
    {
     "data": {
      "text/plain": [
       "0    1445\n",
       "4       6\n",
       "3       4\n",
       "2       3\n",
       "1       1\n",
       "Name: LowQualFinSF, dtype: int64"
      ]
     },
     "execution_count": 211,
     "metadata": {},
     "output_type": "execute_result"
    }
   ],
   "source": [
    "df_test[\"LowQualFinSF\"]=pd.cut(x=df_test[\"LowQualFinSF\"],bins=[-10.0,10.0,100.0,200.0,400.0,1500.0],labels=[0,1,2,3,4])\n",
    "df_test[\"LowQualFinSF\"].value_counts()"
   ]
  },
  {
   "cell_type": "code",
   "execution_count": 212,
   "id": "e173f49d",
   "metadata": {},
   "outputs": [
    {
     "data": {
      "text/plain": [
       "(1395.6, 2457.2]                724\n",
       "(328.69100000000003, 1395.6]    661\n",
       "(2457.2, 3518.8]                 69\n",
       "(3518.8, 4580.4]                  4\n",
       "(4580.4, 5642.0]                  2\n",
       "Name: GrLivArea, dtype: int64"
      ]
     },
     "execution_count": 212,
     "metadata": {},
     "output_type": "execute_result"
    }
   ],
   "source": [
    "# 45  GrLivArea    int64  \n",
    "df_train[\"GrLivArea\"].value_counts(bins=5)\n",
    "#df_test[\"GrLivArea\"].value_counts(bins=5)"
   ]
  },
  {
   "cell_type": "code",
   "execution_count": 213,
   "id": "697142a7",
   "metadata": {},
   "outputs": [
    {
     "data": {
      "text/plain": [
       "1    1015\n",
       "0     231\n",
       "2     196\n",
       "3      14\n",
       "4       4\n",
       "Name: GrLivArea, dtype: int64"
      ]
     },
     "execution_count": 213,
     "metadata": {},
     "output_type": "execute_result"
    }
   ],
   "source": [
    "df_train[\"GrLivArea\"]=pd.cut(x=df_train[\"GrLivArea\"],bins=[0.0,1000.0,2000.0,3000.0,4000.0,10000.0],labels=[0,1,2,3,4])\n",
    "df_train[\"GrLivArea\"].value_counts()"
   ]
  },
  {
   "cell_type": "code",
   "execution_count": 214,
   "id": "00ea3f73",
   "metadata": {},
   "outputs": [
    {
     "data": {
      "text/plain": [
       "1    1064\n",
       "0     207\n",
       "2     180\n",
       "3       7\n",
       "4       1\n",
       "Name: GrLivArea, dtype: int64"
      ]
     },
     "execution_count": 214,
     "metadata": {},
     "output_type": "execute_result"
    }
   ],
   "source": [
    "df_test[\"GrLivArea\"]=pd.cut(x=df_test[\"GrLivArea\"],bins=[0.0,1000.0,2000.0,3000.0,4000.0,10000.0],labels=[0,1,2,3,4])\n",
    "df_test[\"GrLivArea\"].value_counts()"
   ]
  },
  {
   "cell_type": "code",
   "execution_count": 215,
   "id": "db76dfc0",
   "metadata": {},
   "outputs": [
    {
     "data": {
      "text/plain": [
       "0    856\n",
       "1    588\n",
       "2     15\n",
       "3      1\n",
       "Name: BsmtFullBath, dtype: int64"
      ]
     },
     "execution_count": 215,
     "metadata": {},
     "output_type": "execute_result"
    }
   ],
   "source": [
    "#46  BsmtFullBath   float64\n",
    "df_train[\"BsmtFullBath\"].value_counts()"
   ]
  },
  {
   "cell_type": "code",
   "execution_count": 216,
   "id": "3a18bcd4",
   "metadata": {},
   "outputs": [
    {
     "data": {
      "text/plain": [
       "0.0    851\n",
       "1.0    584\n",
       "2.0     23\n",
       "3.0      1\n",
       "Name: BsmtFullBath, dtype: int64"
      ]
     },
     "execution_count": 216,
     "metadata": {},
     "output_type": "execute_result"
    }
   ],
   "source": [
    "df_test[\"BsmtFullBath\"].value_counts()"
   ]
  },
  {
   "cell_type": "code",
   "execution_count": 217,
   "id": "9f5babdb",
   "metadata": {},
   "outputs": [
    {
     "data": {
      "text/plain": [
       "0    1378\n",
       "1      80\n",
       "2       2\n",
       "Name: BsmtHalfBath, dtype: int64"
      ]
     },
     "execution_count": 217,
     "metadata": {},
     "output_type": "execute_result"
    }
   ],
   "source": [
    "#47  BsmtHalfBath   float64\n",
    "df_train[\"BsmtHalfBath\"].value_counts()"
   ]
  },
  {
   "cell_type": "code",
   "execution_count": 218,
   "id": "9adef4d2",
   "metadata": {},
   "outputs": [
    {
     "data": {
      "text/plain": [
       "0.0    1366\n",
       "1.0      91\n",
       "2.0       2\n",
       "Name: BsmtHalfBath, dtype: int64"
      ]
     },
     "execution_count": 218,
     "metadata": {},
     "output_type": "execute_result"
    }
   ],
   "source": [
    "df_test[\"BsmtHalfBath\"].value_counts()"
   ]
  },
  {
   "cell_type": "code",
   "execution_count": 219,
   "id": "b7887067",
   "metadata": {},
   "outputs": [
    {
     "data": {
      "text/plain": [
       "2    768\n",
       "1    650\n",
       "3     33\n",
       "0      9\n",
       "Name: FullBath, dtype: int64"
      ]
     },
     "execution_count": 219,
     "metadata": {},
     "output_type": "execute_result"
    }
   ],
   "source": [
    "# 48  FullBath      int64  \n",
    "df_train[\"FullBath\"].value_counts()"
   ]
  },
  {
   "cell_type": "code",
   "execution_count": 220,
   "id": "fa1ba496",
   "metadata": {},
   "outputs": [
    {
     "data": {
      "text/plain": [
       "2    762\n",
       "1    659\n",
       "3     31\n",
       "4      4\n",
       "0      3\n",
       "Name: FullBath, dtype: int64"
      ]
     },
     "execution_count": 220,
     "metadata": {},
     "output_type": "execute_result"
    }
   ],
   "source": [
    "df_test[\"FullBath\"].value_counts()"
   ]
  },
  {
   "cell_type": "code",
   "execution_count": 221,
   "id": "81473026",
   "metadata": {},
   "outputs": [
    {
     "data": {
      "text/plain": [
       "0    913\n",
       "1    535\n",
       "2     12\n",
       "Name: HalfBath, dtype: int64"
      ]
     },
     "execution_count": 221,
     "metadata": {},
     "output_type": "execute_result"
    }
   ],
   "source": [
    "# 49  HalfBath      int64  \n",
    "df_train[\"HalfBath\"].value_counts()"
   ]
  },
  {
   "cell_type": "code",
   "execution_count": 222,
   "id": "f51fb64b",
   "metadata": {},
   "outputs": [
    {
     "data": {
      "text/plain": [
       "0    921\n",
       "1    525\n",
       "2     13\n",
       "Name: HalfBath, dtype: int64"
      ]
     },
     "execution_count": 222,
     "metadata": {},
     "output_type": "execute_result"
    }
   ],
   "source": [
    "df_test[\"HalfBath\"].value_counts()"
   ]
  },
  {
   "cell_type": "code",
   "execution_count": 223,
   "id": "21e3f7e2",
   "metadata": {},
   "outputs": [
    {
     "data": {
      "text/plain": [
       "3    804\n",
       "2    358\n",
       "4    213\n",
       "1     50\n",
       "5     21\n",
       "6      7\n",
       "0      6\n",
       "8      1\n",
       "Name: BedroomAbvGr, dtype: int64"
      ]
     },
     "execution_count": 223,
     "metadata": {},
     "output_type": "execute_result"
    }
   ],
   "source": [
    "#50  BedroomAbvGr  int64  \n",
    "df_train[\"BedroomAbvGr\"].value_counts()"
   ]
  },
  {
   "cell_type": "code",
   "execution_count": 224,
   "id": "1408010b",
   "metadata": {},
   "outputs": [
    {
     "data": {
      "text/plain": [
       "3    792\n",
       "2    384\n",
       "4    187\n",
       "1     53\n",
       "5     27\n",
       "6     14\n",
       "0      2\n",
       "Name: BedroomAbvGr, dtype: int64"
      ]
     },
     "execution_count": 224,
     "metadata": {},
     "output_type": "execute_result"
    }
   ],
   "source": [
    "df_test[\"BedroomAbvGr\"].value_counts()"
   ]
  },
  {
   "cell_type": "code",
   "execution_count": 225,
   "id": "8b725e58",
   "metadata": {},
   "outputs": [
    {
     "data": {
      "text/plain": [
       "1    1392\n",
       "2      65\n",
       "3       2\n",
       "0       1\n",
       "Name: KitchenAbvGr, dtype: int64"
      ]
     },
     "execution_count": 225,
     "metadata": {},
     "output_type": "execute_result"
    }
   ],
   "source": [
    "#51  KitchenAbvGr   int64  \n",
    "df_train[\"KitchenAbvGr\"].value_counts()"
   ]
  },
  {
   "cell_type": "code",
   "execution_count": 226,
   "id": "e65a6955",
   "metadata": {},
   "outputs": [
    {
     "data": {
      "text/plain": [
       "1    1393\n",
       "2      64\n",
       "0       2\n",
       "Name: KitchenAbvGr, dtype: int64"
      ]
     },
     "execution_count": 226,
     "metadata": {},
     "output_type": "execute_result"
    }
   ],
   "source": [
    "df_test[\"KitchenAbvGr\"].value_counts()"
   ]
  },
  {
   "cell_type": "code",
   "execution_count": 227,
   "id": "44c49baf",
   "metadata": {},
   "outputs": [
    {
     "data": {
      "text/plain": [
       "TA    735\n",
       "Gd    586\n",
       "Ex    100\n",
       "Fa     39\n",
       "Name: KitchenQual, dtype: int64"
      ]
     },
     "execution_count": 227,
     "metadata": {},
     "output_type": "execute_result"
    }
   ],
   "source": [
    "# 52  KitchenQual     object \n",
    "df_train[\"KitchenQual\"].value_counts()"
   ]
  },
  {
   "cell_type": "code",
   "execution_count": 228,
   "id": "729d3c3b",
   "metadata": {},
   "outputs": [
    {
     "data": {
      "text/plain": [
       "2    735\n",
       "1    586\n",
       "0    100\n",
       "3     39\n",
       "Name: KitchenQual, dtype: int64"
      ]
     },
     "execution_count": 228,
     "metadata": {},
     "output_type": "execute_result"
    }
   ],
   "source": [
    "df_train[\"KitchenQual\"]=df_train[\"KitchenQual\"].replace([\"Ex\",\"Gd\",\"TA\",\"Fa\",\"Po\"],[0,1,2,3,4])\n",
    "df_train[\"KitchenQual\"].value_counts()"
   ]
  },
  {
   "cell_type": "code",
   "execution_count": 229,
   "id": "f826a416",
   "metadata": {},
   "outputs": [
    {
     "data": {
      "text/plain": [
       "2    758\n",
       "1    565\n",
       "0    105\n",
       "3     31\n",
       "Name: KitchenQual, dtype: int64"
      ]
     },
     "execution_count": 229,
     "metadata": {},
     "output_type": "execute_result"
    }
   ],
   "source": [
    "df_test[\"KitchenQual\"]=df_test[\"KitchenQual\"].replace([\"Ex\",\"Gd\",\"TA\",\"Fa\",\"Po\"],[0,1,2,3,4])\n",
    "df_test[\"KitchenQual\"].value_counts()"
   ]
  },
  {
   "cell_type": "code",
   "execution_count": 230,
   "id": "42386918",
   "metadata": {},
   "outputs": [
    {
     "data": {
      "text/plain": [
       "6     402\n",
       "7     329\n",
       "5     275\n",
       "8     187\n",
       "4      97\n",
       "9      75\n",
       "10     47\n",
       "11     18\n",
       "3      17\n",
       "12     11\n",
       "2       1\n",
       "14      1\n",
       "Name: TotRmsAbvGrd, dtype: int64"
      ]
     },
     "execution_count": 230,
     "metadata": {},
     "output_type": "execute_result"
    }
   ],
   "source": [
    "#53  TotRmsAbvGrd    int64  \n",
    "df_train[\"TotRmsAbvGrd\"].value_counts()"
   ]
  },
  {
   "cell_type": "code",
   "execution_count": 231,
   "id": "7c0bb396",
   "metadata": {},
   "outputs": [
    {
     "data": {
      "text/plain": [
       "6     442\n",
       "7     320\n",
       "5     308\n",
       "8     160\n",
       "4      99\n",
       "9      68\n",
       "10     33\n",
       "11     14\n",
       "3       8\n",
       "12      5\n",
       "13      1\n",
       "15      1\n",
       "Name: TotRmsAbvGrd, dtype: int64"
      ]
     },
     "execution_count": 231,
     "metadata": {},
     "output_type": "execute_result"
    }
   ],
   "source": [
    "df_test[\"TotRmsAbvGrd\"].value_counts()"
   ]
  },
  {
   "cell_type": "code",
   "execution_count": 232,
   "id": "83fd2f4e",
   "metadata": {},
   "outputs": [
    {
     "data": {
      "text/plain": [
       "Typ     1360\n",
       "Min2      34\n",
       "Min1      31\n",
       "Mod       15\n",
       "Maj1      14\n",
       "Maj2       5\n",
       "Sev        1\n",
       "Name: Functional, dtype: int64"
      ]
     },
     "execution_count": 232,
     "metadata": {},
     "output_type": "execute_result"
    }
   ],
   "source": [
    "# 54  Functional   object \n",
    "df_train[\"Functional\"].value_counts()"
   ]
  },
  {
   "cell_type": "code",
   "execution_count": 233,
   "id": "8bd6a340",
   "metadata": {},
   "outputs": [
    {
     "data": {
      "text/plain": [
       "0    1360\n",
       "2      34\n",
       "1      31\n",
       "3      15\n",
       "4      14\n",
       "5       5\n",
       "6       1\n",
       "Name: Functional, dtype: int64"
      ]
     },
     "execution_count": 233,
     "metadata": {},
     "output_type": "execute_result"
    }
   ],
   "source": [
    "df_train[\"Functional\"]=df_train[\"Functional\"].replace([\"Typ\",\"Min1\",\"Min2\",\"Mod\",\"Maj1\",\"Maj2\",\"Sev\",\"Sal\"],[0,1,2,3,4,5,6,7])\n",
    "df_train[\"Functional\"].value_counts()"
   ]
  },
  {
   "cell_type": "code",
   "execution_count": 234,
   "id": "c8c5a316",
   "metadata": {},
   "outputs": [
    {
     "data": {
      "text/plain": [
       "0    1359\n",
       "2      36\n",
       "1      34\n",
       "3      20\n",
       "4       5\n",
       "5       4\n",
       "6       1\n",
       "Name: Functional, dtype: int64"
      ]
     },
     "execution_count": 234,
     "metadata": {},
     "output_type": "execute_result"
    }
   ],
   "source": [
    "df_test[\"Functional\"]=df_test[\"Functional\"].replace([\"Typ\",\"Min1\",\"Min2\",\"Mod\",\"Maj1\",\"Maj2\",\"Sev\",\"Sal\"],[0,1,2,3,4,5,6,7])\n",
    "df_test[\"Functional\"].value_counts()"
   ]
  },
  {
   "cell_type": "code",
   "execution_count": 235,
   "id": "a8e34268",
   "metadata": {},
   "outputs": [
    {
     "data": {
      "text/plain": [
       "0    690\n",
       "1    650\n",
       "2    115\n",
       "3      5\n",
       "Name: Fireplaces, dtype: int64"
      ]
     },
     "execution_count": 235,
     "metadata": {},
     "output_type": "execute_result"
    }
   ],
   "source": [
    "# 55  Fireplaces    int64  \n",
    "df_train[\"Fireplaces\"].value_counts()"
   ]
  },
  {
   "cell_type": "code",
   "execution_count": 236,
   "id": "1f37b00e",
   "metadata": {},
   "outputs": [
    {
     "data": {
      "text/plain": [
       "0    730\n",
       "1    618\n",
       "2    104\n",
       "3      6\n",
       "4      1\n",
       "Name: Fireplaces, dtype: int64"
      ]
     },
     "execution_count": 236,
     "metadata": {},
     "output_type": "execute_result"
    }
   ],
   "source": [
    "df_test[\"Fireplaces\"].value_counts()"
   ]
  },
  {
   "cell_type": "code",
   "execution_count": 237,
   "id": "12c95ee3",
   "metadata": {},
   "outputs": [
    {
     "data": {
      "text/plain": [
       "No    690\n",
       "Gd    380\n",
       "TA    313\n",
       "Fa     33\n",
       "Ex     24\n",
       "Po     20\n",
       "Name: FireplaceQu, dtype: int64"
      ]
     },
     "execution_count": 237,
     "metadata": {},
     "output_type": "execute_result"
    }
   ],
   "source": [
    "# 56  FireplaceQu   object \n",
    "df_train[\"FireplaceQu\"].value_counts()"
   ]
  },
  {
   "cell_type": "code",
   "execution_count": 238,
   "id": "f99ba2f9",
   "metadata": {},
   "outputs": [
    {
     "data": {
      "text/plain": [
       "5    690\n",
       "1    380\n",
       "2    313\n",
       "3     33\n",
       "0     24\n",
       "4     20\n",
       "Name: FireplaceQu, dtype: int64"
      ]
     },
     "execution_count": 238,
     "metadata": {},
     "output_type": "execute_result"
    }
   ],
   "source": [
    "df_train[\"FireplaceQu\"]=df_train[\"FireplaceQu\"].replace([\"Ex\",\"Gd\",\"TA\",\"Fa\",\"Po\",\"No\"],[0,1,2,3,4,5])\n",
    "df_train[\"FireplaceQu\"].value_counts()"
   ]
  },
  {
   "cell_type": "code",
   "execution_count": 239,
   "id": "746e384c",
   "metadata": {},
   "outputs": [
    {
     "data": {
      "text/plain": [
       "5    730\n",
       "1    364\n",
       "2    279\n",
       "3     41\n",
       "4     26\n",
       "0     19\n",
       "Name: FireplaceQu, dtype: int64"
      ]
     },
     "execution_count": 239,
     "metadata": {},
     "output_type": "execute_result"
    }
   ],
   "source": [
    "df_test[\"FireplaceQu\"]=df_test[\"FireplaceQu\"].replace([\"Ex\",\"Gd\",\"TA\",\"Fa\",\"Po\",\"No\"],[0,1,2,3,4,5])\n",
    "df_test[\"FireplaceQu\"].value_counts()"
   ]
  },
  {
   "cell_type": "code",
   "execution_count": 240,
   "id": "93b88d02",
   "metadata": {},
   "outputs": [
    {
     "data": {
      "text/plain": [
       "Attchd     870\n",
       "Detchd     387\n",
       "BuiltIn     88\n",
       "No          81\n",
       "Basment     19\n",
       "CarPort      9\n",
       "2Types       6\n",
       "Name: GarageType, dtype: int64"
      ]
     },
     "execution_count": 240,
     "metadata": {},
     "output_type": "execute_result"
    }
   ],
   "source": [
    "# 57  GarageType   object \n",
    "df_train[\"GarageType\"].value_counts()"
   ]
  },
  {
   "cell_type": "code",
   "execution_count": 241,
   "id": "ce04a874",
   "metadata": {},
   "outputs": [
    {
     "data": {
      "text/plain": [
       "1    870\n",
       "5    387\n",
       "3     88\n",
       "6     81\n",
       "2     19\n",
       "4      9\n",
       "0      6\n",
       "Name: GarageType, dtype: int64"
      ]
     },
     "execution_count": 241,
     "metadata": {},
     "output_type": "execute_result"
    }
   ],
   "source": [
    "df_train[\"GarageType\"]=df_train[\"GarageType\"].replace([\"2Types\",\"Attchd\",\"Basment\",\"BuiltIn\",\"CarPort\",\"Detchd\",\"No\"]\n",
    "                                                      ,[0,1,2,3,4,5,6])\n",
    "df_train[\"GarageType\"].value_counts()"
   ]
  },
  {
   "cell_type": "code",
   "execution_count": 242,
   "id": "dbb8b0fc",
   "metadata": {},
   "outputs": [
    {
     "data": {
      "text/plain": [
       "1    853\n",
       "5    392\n",
       "3     98\n",
       "6     76\n",
       "2     17\n",
       "0     17\n",
       "4      6\n",
       "Name: GarageType, dtype: int64"
      ]
     },
     "execution_count": 242,
     "metadata": {},
     "output_type": "execute_result"
    }
   ],
   "source": [
    "df_test[\"GarageType\"]=df_test[\"GarageType\"].replace([\"2Types\",\"Attchd\",\"Basment\",\"BuiltIn\",\"CarPort\",\"Detchd\",\"No\"]\n",
    "                                                      ,[0,1,2,3,4,5,6])\n",
    "df_test[\"GarageType\"].value_counts()"
   ]
  },
  {
   "cell_type": "code",
   "execution_count": 243,
   "id": "042ec545",
   "metadata": {},
   "outputs": [
    {
     "data": {
      "text/plain": [
       "0.0       81\n",
       "2005.0    65\n",
       "2006.0    59\n",
       "2004.0    53\n",
       "2003.0    50\n",
       "          ..\n",
       "1927.0     1\n",
       "1900.0     1\n",
       "1906.0     1\n",
       "1908.0     1\n",
       "1933.0     1\n",
       "Name: GarageYrBlt, Length: 98, dtype: int64"
      ]
     },
     "execution_count": 243,
     "metadata": {},
     "output_type": "execute_result"
    }
   ],
   "source": [
    " #58  GarageYrBlt   float64\n",
    "df_train[\"GarageYrBlt\"].value_counts()\n",
    "#df_test[\"GarageYrBlt\"].value_counts()"
   ]
  },
  {
   "cell_type": "code",
   "execution_count": 244,
   "id": "82fac669",
   "metadata": {},
   "outputs": [
    {
     "data": {
      "text/plain": [
       "4    416\n",
       "3    400\n",
       "5    375\n",
       "2    187\n",
       "0     81\n",
       "1      1\n",
       "Name: GarageYrBlt, dtype: int64"
      ]
     },
     "execution_count": 244,
     "metadata": {},
     "output_type": "execute_result"
    }
   ],
   "source": [
    "df_train[\"GarageYrBlt\"] = pd.cut(x=df_train[\"GarageYrBlt\"],bins=[-10.0,1800.0,1900,1950,1975,2000,2050]\n",
    "                                 ,labels=[0,1,2,3,4,5])\n",
    "df_train[\"GarageYrBlt\"].value_counts()"
   ]
  },
  {
   "cell_type": "code",
   "execution_count": 245,
   "id": "45c45cd9",
   "metadata": {},
   "outputs": [
    {
     "data": {
      "text/plain": [
       "3    406\n",
       "4    393\n",
       "5    377\n",
       "2    197\n",
       "0     78\n",
       "1      7\n",
       "Name: GarageYrBlt, dtype: int64"
      ]
     },
     "execution_count": 245,
     "metadata": {},
     "output_type": "execute_result"
    }
   ],
   "source": [
    "df_test[\"GarageYrBlt\"] = pd.cut(x=df_test[\"GarageYrBlt\"],bins=[-10.0,1800.0,1900,1950,1975,2000,2050]\n",
    "                                 ,labels=[0,1,2,3,4,5])\n",
    "df_test[\"GarageYrBlt\"].value_counts()"
   ]
  },
  {
   "cell_type": "code",
   "execution_count": 246,
   "id": "7bcd9f52",
   "metadata": {},
   "outputs": [
    {
     "data": {
      "text/plain": [
       "Unf    605\n",
       "RFn    422\n",
       "Fin    352\n",
       "No      81\n",
       "Name: GarageFinish, dtype: int64"
      ]
     },
     "execution_count": 246,
     "metadata": {},
     "output_type": "execute_result"
    }
   ],
   "source": [
    "# 59  GarageFinish     object \n",
    "df_train[\"GarageFinish\"].value_counts()"
   ]
  },
  {
   "cell_type": "code",
   "execution_count": 247,
   "id": "4b481419",
   "metadata": {},
   "outputs": [
    {
     "data": {
      "text/plain": [
       "2    605\n",
       "1    422\n",
       "0    352\n",
       "3     81\n",
       "Name: GarageFinish, dtype: int64"
      ]
     },
     "execution_count": 247,
     "metadata": {},
     "output_type": "execute_result"
    }
   ],
   "source": [
    "df_train[\"GarageFinish\"]=df_train[\"GarageFinish\"].replace([\"Fin\",\"RFn\",\"Unf\",\"No\"],[0,1,2,3])\n",
    "df_train[\"GarageFinish\"].value_counts()"
   ]
  },
  {
   "cell_type": "code",
   "execution_count": 248,
   "id": "6b98a2bc",
   "metadata": {},
   "outputs": [
    {
     "data": {
      "text/plain": [
       "2    625\n",
       "1    389\n",
       "0    367\n",
       "3     78\n",
       "Name: GarageFinish, dtype: int64"
      ]
     },
     "execution_count": 248,
     "metadata": {},
     "output_type": "execute_result"
    }
   ],
   "source": [
    "df_test[\"GarageFinish\"]=df_test[\"GarageFinish\"].replace([\"Fin\",\"RFn\",\"Unf\",\"No\"],[0,1,2,3])\n",
    "df_test[\"GarageFinish\"].value_counts()"
   ]
  },
  {
   "cell_type": "code",
   "execution_count": 249,
   "id": "9e344a1f",
   "metadata": {},
   "outputs": [
    {
     "data": {
      "text/plain": [
       "2    824\n",
       "1    369\n",
       "3    181\n",
       "0     81\n",
       "4      5\n",
       "Name: GarageCars, dtype: int64"
      ]
     },
     "execution_count": 249,
     "metadata": {},
     "output_type": "execute_result"
    }
   ],
   "source": [
    "# 60  GarageCars  float64\n",
    "df_train[\"GarageCars\"].value_counts()"
   ]
  },
  {
   "cell_type": "code",
   "execution_count": 250,
   "id": "e8fb9795",
   "metadata": {},
   "outputs": [
    {
     "data": {
      "text/plain": [
       "2.0    770\n",
       "1.0    407\n",
       "3.0    193\n",
       "0.0     77\n",
       "4.0     11\n",
       "5.0      1\n",
       "Name: GarageCars, dtype: int64"
      ]
     },
     "execution_count": 250,
     "metadata": {},
     "output_type": "execute_result"
    }
   ],
   "source": [
    "df_test[\"GarageCars\"].value_counts()"
   ]
  },
  {
   "cell_type": "code",
   "execution_count": 251,
   "id": "fb296539",
   "metadata": {},
   "outputs": [
    {
     "data": {
      "text/plain": [
       "(283.6, 567.2]                  793\n",
       "(567.2, 850.8]                  346\n",
       "(-1.4189999999999998, 283.6]    248\n",
       "(850.8, 1134.4]                  67\n",
       "(1134.4, 1418.0]                  6\n",
       "Name: GarageArea, dtype: int64"
      ]
     },
     "execution_count": 251,
     "metadata": {},
     "output_type": "execute_result"
    }
   ],
   "source": [
    "# 61  GarageArea   float64\n",
    "df_train[\"GarageArea\"].value_counts(bins=5)\n",
    "#df_test[\"GarageArea\"].value_counts(bins=5)"
   ]
  },
  {
   "cell_type": "code",
   "execution_count": 252,
   "id": "47e25d4c",
   "metadata": {},
   "outputs": [
    {
     "data": {
      "text/plain": [
       "2    517\n",
       "3    515\n",
       "1    233\n",
       "4    114\n",
       "0     81\n",
       "Name: GarageArea, dtype: int64"
      ]
     },
     "execution_count": 252,
     "metadata": {},
     "output_type": "execute_result"
    }
   ],
   "source": [
    "df_train[\"GarageArea\"] = pd.cut(x=df_train[\"GarageArea\"],bins=[-2,0.1,300,500,800,2000],labels=[0,1,2,3,4])\n",
    "df_train[\"GarageArea\"].value_counts()"
   ]
  },
  {
   "cell_type": "code",
   "execution_count": 253,
   "id": "108209e5",
   "metadata": {},
   "outputs": [
    {
     "data": {
      "text/plain": [
       "2    533\n",
       "3    505\n",
       "1    231\n",
       "4    113\n",
       "0     77\n",
       "Name: GarageArea, dtype: int64"
      ]
     },
     "execution_count": 253,
     "metadata": {},
     "output_type": "execute_result"
    }
   ],
   "source": [
    "df_test[\"GarageArea\"] = pd.cut(x=df_test[\"GarageArea\"],bins=[-2,0.1,300,500,800,2000],labels=[0,1,2,3,4])\n",
    "df_test[\"GarageArea\"].value_counts()"
   ]
  },
  {
   "cell_type": "code",
   "execution_count": 254,
   "id": "42d2eab9",
   "metadata": {},
   "outputs": [
    {
     "data": {
      "text/plain": [
       "TA    1311\n",
       "No      81\n",
       "Fa      48\n",
       "Gd      14\n",
       "Ex       3\n",
       "Po       3\n",
       "Name: GarageQual, dtype: int64"
      ]
     },
     "execution_count": 254,
     "metadata": {},
     "output_type": "execute_result"
    }
   ],
   "source": [
    "# 62  GarageQual   object \n",
    "df_train[\"GarageQual\"].value_counts()"
   ]
  },
  {
   "cell_type": "code",
   "execution_count": 255,
   "id": "adb94f13",
   "metadata": {},
   "outputs": [
    {
     "data": {
      "text/plain": [
       "2    1311\n",
       "5      81\n",
       "3      48\n",
       "1      14\n",
       "0       3\n",
       "4       3\n",
       "Name: GarageQual, dtype: int64"
      ]
     },
     "execution_count": 255,
     "metadata": {},
     "output_type": "execute_result"
    }
   ],
   "source": [
    "df_train[\"GarageQual\"]= df_train[\"GarageQual\"].replace([\"Ex\",\"Gd\",\"TA\",\"Fa\",\"Po\",\"No\"],[0,1,2,3,4,5])\n",
    "df_train[\"GarageQual\"].value_counts()"
   ]
  },
  {
   "cell_type": "code",
   "execution_count": 256,
   "id": "b9bef9ff",
   "metadata": {},
   "outputs": [
    {
     "data": {
      "text/plain": [
       "2    1293\n",
       "5      78\n",
       "3      76\n",
       "1      10\n",
       "4       2\n",
       "Name: GarageQual, dtype: int64"
      ]
     },
     "execution_count": 256,
     "metadata": {},
     "output_type": "execute_result"
    }
   ],
   "source": [
    "df_test[\"GarageQual\"]= df_test[\"GarageQual\"].replace([\"Ex\",\"Gd\",\"TA\",\"Fa\",\"Po\",\"No\"],[0,1,2,3,4,5])\n",
    "df_test[\"GarageQual\"].value_counts()"
   ]
  },
  {
   "cell_type": "code",
   "execution_count": 257,
   "id": "6902d83b",
   "metadata": {},
   "outputs": [
    {
     "data": {
      "text/plain": [
       "TA    1326\n",
       "No      81\n",
       "Fa      35\n",
       "Gd       9\n",
       "Po       7\n",
       "Ex       2\n",
       "Name: GarageCond, dtype: int64"
      ]
     },
     "execution_count": 257,
     "metadata": {},
     "output_type": "execute_result"
    }
   ],
   "source": [
    "# 63  GarageCond     object \n",
    "df_train[\"GarageCond\"].value_counts()"
   ]
  },
  {
   "cell_type": "code",
   "execution_count": 258,
   "id": "cdbcb46e",
   "metadata": {},
   "outputs": [
    {
     "data": {
      "text/plain": [
       "2    1326\n",
       "5      81\n",
       "3      35\n",
       "1       9\n",
       "4       7\n",
       "0       2\n",
       "Name: GarageCond, dtype: int64"
      ]
     },
     "execution_count": 258,
     "metadata": {},
     "output_type": "execute_result"
    }
   ],
   "source": [
    "df_train[\"GarageCond\"]= df_train[\"GarageCond\"].replace([\"Ex\",\"Gd\",\"TA\",\"Fa\",\"Po\",\"No\"],[0,1,2,3,4,5])\n",
    "df_train[\"GarageCond\"].value_counts()"
   ]
  },
  {
   "cell_type": "code",
   "execution_count": 259,
   "id": "460b7c50",
   "metadata": {},
   "outputs": [
    {
     "data": {
      "text/plain": [
       "2    1328\n",
       "5      78\n",
       "3      39\n",
       "4       7\n",
       "1       6\n",
       "0       1\n",
       "Name: GarageCond, dtype: int64"
      ]
     },
     "execution_count": 259,
     "metadata": {},
     "output_type": "execute_result"
    }
   ],
   "source": [
    "df_test[\"GarageCond\"]= df_test[\"GarageCond\"].replace([\"Ex\",\"Gd\",\"TA\",\"Fa\",\"Po\",\"No\"],[0,1,2,3,4,5])\n",
    "df_test[\"GarageCond\"].value_counts()"
   ]
  },
  {
   "cell_type": "code",
   "execution_count": 260,
   "id": "0f7628a2",
   "metadata": {},
   "outputs": [
    {
     "data": {
      "text/plain": [
       "Y    1340\n",
       "N      90\n",
       "P      30\n",
       "Name: PavedDrive, dtype: int64"
      ]
     },
     "execution_count": 260,
     "metadata": {},
     "output_type": "execute_result"
    }
   ],
   "source": [
    "# 64  PavedDrive    object \n",
    "df_train[\"PavedDrive\"].value_counts()"
   ]
  },
  {
   "cell_type": "code",
   "execution_count": 261,
   "id": "ace429e4",
   "metadata": {},
   "outputs": [
    {
     "data": {
      "text/plain": [
       "0    1340\n",
       "2      90\n",
       "1      30\n",
       "Name: PavedDrive, dtype: int64"
      ]
     },
     "execution_count": 261,
     "metadata": {},
     "output_type": "execute_result"
    }
   ],
   "source": [
    "df_train[\"PavedDrive\"]=df_train[\"PavedDrive\"].replace([\"Y\",\"P\",\"N\"],[0,1,2])\n",
    "df_train[\"PavedDrive\"].value_counts()"
   ]
  },
  {
   "cell_type": "code",
   "execution_count": 262,
   "id": "93cdd237",
   "metadata": {},
   "outputs": [
    {
     "data": {
      "text/plain": [
       "0    1301\n",
       "2     126\n",
       "1      32\n",
       "Name: PavedDrive, dtype: int64"
      ]
     },
     "execution_count": 262,
     "metadata": {},
     "output_type": "execute_result"
    }
   ],
   "source": [
    "df_test[\"PavedDrive\"]=df_test[\"PavedDrive\"].replace([\"Y\",\"P\",\"N\"],[0,1,2])\n",
    "df_test[\"PavedDrive\"].value_counts()"
   ]
  },
  {
   "cell_type": "code",
   "execution_count": 263,
   "id": "f64a2363",
   "metadata": {},
   "outputs": [
    {
     "data": {
      "text/plain": [
       "(-0.858, 171.4]    1112\n",
       "(171.4, 342.8]      280\n",
       "(342.8, 514.2]       55\n",
       "(514.2, 685.6]       10\n",
       "(685.6, 857.0]        3\n",
       "Name: WoodDeckSF, dtype: int64"
      ]
     },
     "execution_count": 263,
     "metadata": {},
     "output_type": "execute_result"
    }
   ],
   "source": [
    "# 65  WoodDeckSF    int64  \n",
    "df_train[\"WoodDeckSF\"].value_counts(bins=5)\n",
    "#df_test[\"WoodDeckSF\"].value_counts(bins=5)"
   ]
  },
  {
   "cell_type": "code",
   "execution_count": 264,
   "id": "b57b2e89",
   "metadata": {},
   "outputs": [
    {
     "data": {
      "text/plain": [
       "0    761\n",
       "2    478\n",
       "1    118\n",
       "3     97\n",
       "4      6\n",
       "Name: WoodDeckSF, dtype: int64"
      ]
     },
     "execution_count": 264,
     "metadata": {},
     "output_type": "execute_result"
    }
   ],
   "source": [
    "df_train[\"WoodDeckSF\"]=pd.cut(x=df_train[\"WoodDeckSF\"],bins=[-2,0.1,100.0,300,600,6000],labels=[0,1,2,3,4])\n",
    "df_train[\"WoodDeckSF\"].value_counts()"
   ]
  },
  {
   "cell_type": "code",
   "execution_count": 265,
   "id": "1f119a29",
   "metadata": {},
   "outputs": [
    {
     "data": {
      "text/plain": [
       "0    762\n",
       "2    482\n",
       "1    124\n",
       "3     83\n",
       "4      8\n",
       "Name: WoodDeckSF, dtype: int64"
      ]
     },
     "execution_count": 265,
     "metadata": {},
     "output_type": "execute_result"
    }
   ],
   "source": [
    "df_test[\"WoodDeckSF\"]=pd.cut(x=df_test[\"WoodDeckSF\"],bins=[-2,0.1,100.0,300,600,6000],labels=[0,1,2,3,4])\n",
    "df_test[\"WoodDeckSF\"].value_counts()"
   ]
  },
  {
   "cell_type": "code",
   "execution_count": 266,
   "id": "10a531c2",
   "metadata": {},
   "outputs": [
    {
     "data": {
      "text/plain": [
       "(-0.548, 109.4]    1249\n",
       "(109.4, 218.8]      168\n",
       "(218.8, 328.2]       36\n",
       "(328.2, 437.6]        4\n",
       "(437.6, 547.0]        3\n",
       "Name: OpenPorchSF, dtype: int64"
      ]
     },
     "execution_count": 266,
     "metadata": {},
     "output_type": "execute_result"
    }
   ],
   "source": [
    "# 66  OpenPorchSF     int64  \n",
    "df_train[\"OpenPorchSF\"].value_counts(bins=5)\n",
    "#df_test[\"OpenPorchSF\"].value_counts(bins=5)"
   ]
  },
  {
   "cell_type": "code",
   "execution_count": 267,
   "id": "8f535eec",
   "metadata": {},
   "outputs": [
    {
     "data": {
      "text/plain": [
       "0    656\n",
       "1    569\n",
       "2    181\n",
       "3     43\n",
       "4     11\n",
       "Name: OpenPorchSF, dtype: int64"
      ]
     },
     "execution_count": 267,
     "metadata": {},
     "output_type": "execute_result"
    }
   ],
   "source": [
    "df_train[\"OpenPorchSF\"]=pd.cut(x=df_train[\"OpenPorchSF\"],bins=[-1,0.5,100,200,300,1000],labels=[0,1,2,3,4])\n",
    "df_train[\"OpenPorchSF\"].value_counts()"
   ]
  },
  {
   "cell_type": "code",
   "execution_count": 268,
   "id": "9788db84",
   "metadata": {},
   "outputs": [
    {
     "data": {
      "text/plain": [
       "0    642\n",
       "1    582\n",
       "2    178\n",
       "3     44\n",
       "4     13\n",
       "Name: OpenPorchSF, dtype: int64"
      ]
     },
     "execution_count": 268,
     "metadata": {},
     "output_type": "execute_result"
    }
   ],
   "source": [
    "df_test[\"OpenPorchSF\"]=pd.cut(x=df_test[\"OpenPorchSF\"],bins=[-1,0.5,100,200,300,1000],labels=[0,1,2,3,4])\n",
    "df_test[\"OpenPorchSF\"].value_counts()"
   ]
  },
  {
   "cell_type": "code",
   "execution_count": 269,
   "id": "637ab885",
   "metadata": {},
   "outputs": [
    {
     "data": {
      "text/plain": [
       "(-0.553, 110.4]    1307\n",
       "(110.4, 220.8]      113\n",
       "(220.8, 331.2]       38\n",
       "(331.2, 441.6]        1\n",
       "(441.6, 552.0]        1\n",
       "Name: EnclosedPorch, dtype: int64"
      ]
     },
     "execution_count": 269,
     "metadata": {},
     "output_type": "execute_result"
    }
   ],
   "source": [
    "# 67  EnclosedPorch  int64  \n",
    "df_train[\"EnclosedPorch\"].value_counts(bins=5)\n",
    "#df_test[\"EnclosedPorch\"].value_counts(bins=5)"
   ]
  },
  {
   "cell_type": "code",
   "execution_count": 270,
   "id": "f0ed6569",
   "metadata": {},
   "outputs": [
    {
     "data": {
      "text/plain": [
       "0    1252\n",
       "2     104\n",
       "3      50\n",
       "1      49\n",
       "4       5\n",
       "Name: EnclosedPorch, dtype: int64"
      ]
     },
     "execution_count": 270,
     "metadata": {},
     "output_type": "execute_result"
    }
   ],
   "source": [
    "df_train[\"EnclosedPorch\"]=pd.cut(x=df_train[\"EnclosedPorch\"],bins=[-1,0.5,100,200,300,1000],labels=[0,1,2,3,4])\n",
    "df_train[\"EnclosedPorch\"].value_counts()"
   ]
  },
  {
   "cell_type": "code",
   "execution_count": 271,
   "id": "a97ca30c",
   "metadata": {},
   "outputs": [
    {
     "data": {
      "text/plain": [
       "0    1208\n",
       "2     102\n",
       "1      96\n",
       "3      45\n",
       "4       7\n",
       "Name: EnclosedPorch, dtype: int64"
      ]
     },
     "execution_count": 271,
     "metadata": {},
     "output_type": "execute_result"
    }
   ],
   "source": [
    "df_test[\"EnclosedPorch\"]=pd.cut(x=df_test[\"EnclosedPorch\"],bins=[-1,0.5,100,200,300,1000],labels=[0,1,2,3,4])\n",
    "df_test[\"EnclosedPorch\"].value_counts()"
   ]
  },
  {
   "cell_type": "code",
   "execution_count": 272,
   "id": "51c2c3c8",
   "metadata": {},
   "outputs": [
    {
     "data": {
      "text/plain": [
       "0      1436\n",
       "168       3\n",
       "144       2\n",
       "180       2\n",
       "216       2\n",
       "290       1\n",
       "153       1\n",
       "96        1\n",
       "23        1\n",
       "162       1\n",
       "182       1\n",
       "196       1\n",
       "320       1\n",
       "245       1\n",
       "238       1\n",
       "508       1\n",
       "140       1\n",
       "130       1\n",
       "407       1\n",
       "304       1\n",
       "Name: 3SsnPorch, dtype: int64"
      ]
     },
     "execution_count": 272,
     "metadata": {},
     "output_type": "execute_result"
    }
   ],
   "source": [
    "# 68  3SsnPorch      int64  \n",
    "df_train[\"3SsnPorch\"].value_counts()"
   ]
  },
  {
   "cell_type": "code",
   "execution_count": 273,
   "id": "b61ea9b6",
   "metadata": {},
   "outputs": [
    {
     "data": {
      "text/plain": [
       "0      1446\n",
       "153       2\n",
       "224       1\n",
       "255       1\n",
       "225       1\n",
       "360       1\n",
       "150       1\n",
       "174       1\n",
       "120       1\n",
       "219       1\n",
       "176       1\n",
       "86        1\n",
       "323       1\n",
       "Name: 3SsnPorch, dtype: int64"
      ]
     },
     "execution_count": 273,
     "metadata": {},
     "output_type": "execute_result"
    }
   ],
   "source": [
    "df_test[\"3SsnPorch\"].value_counts()"
   ]
  },
  {
   "cell_type": "code",
   "execution_count": 274,
   "id": "f043a465",
   "metadata": {},
   "outputs": [
    {
     "data": {
      "text/plain": [
       "0    1436\n",
       "3      14\n",
       "2       4\n",
       "4       4\n",
       "1       2\n",
       "Name: 3SsnPorch, dtype: int64"
      ]
     },
     "execution_count": 274,
     "metadata": {},
     "output_type": "execute_result"
    }
   ],
   "source": [
    "df_train[\"3SsnPorch\"]=pd.cut(x=df_train[\"3SsnPorch\"],bins=[-1,0.5,100,150,300,1000],labels=[0,1,2,3,4])\n",
    "df_train[\"3SsnPorch\"].value_counts()"
   ]
  },
  {
   "cell_type": "code",
   "execution_count": 275,
   "id": "059ffd09",
   "metadata": {},
   "outputs": [
    {
     "data": {
      "text/plain": [
       "0    1446\n",
       "3       8\n",
       "2       2\n",
       "4       2\n",
       "1       1\n",
       "Name: 3SsnPorch, dtype: int64"
      ]
     },
     "execution_count": 275,
     "metadata": {},
     "output_type": "execute_result"
    }
   ],
   "source": [
    "df_test[\"3SsnPorch\"]=pd.cut(x=df_test[\"3SsnPorch\"],bins=[-1,0.5,100,150,300,1000],labels=[0,1,2,3,4])\n",
    "df_test[\"3SsnPorch\"].value_counts()"
   ]
  },
  {
   "cell_type": "code",
   "execution_count": 276,
   "id": "3ac68e6a",
   "metadata": {},
   "outputs": [
    {
     "data": {
      "text/plain": [
       "(-0.481, 96.0]    1353\n",
       "(96.0, 192.0]       66\n",
       "(192.0, 288.0]      32\n",
       "(384.0, 480.0]       5\n",
       "(288.0, 384.0]       4\n",
       "Name: ScreenPorch, dtype: int64"
      ]
     },
     "execution_count": 276,
     "metadata": {},
     "output_type": "execute_result"
    }
   ],
   "source": [
    "#69  ScreenPorch     int64  \n",
    "df_train[\"ScreenPorch\"].value_counts(bins=5)"
   ]
  },
  {
   "cell_type": "code",
   "execution_count": 277,
   "id": "7c9905f2",
   "metadata": {},
   "outputs": [
    {
     "data": {
      "text/plain": [
       "(-0.577, 115.2]    1343\n",
       "(115.2, 230.4]       97\n",
       "(230.4, 345.6]       16\n",
       "(460.8, 576.0]        2\n",
       "(345.6, 460.8]        1\n",
       "Name: ScreenPorch, dtype: int64"
      ]
     },
     "execution_count": 277,
     "metadata": {},
     "output_type": "execute_result"
    }
   ],
   "source": [
    "df_test[\"ScreenPorch\"].value_counts(bins=5)"
   ]
  },
  {
   "cell_type": "code",
   "execution_count": 278,
   "id": "1aea8ff2",
   "metadata": {},
   "outputs": [
    {
     "data": {
      "text/plain": [
       "0    1344\n",
       "3      72\n",
       "2      24\n",
       "1      12\n",
       "4       8\n",
       "Name: ScreenPorch, dtype: int64"
      ]
     },
     "execution_count": 278,
     "metadata": {},
     "output_type": "execute_result"
    }
   ],
   "source": [
    "df_train[\"ScreenPorch\"]=pd.cut(x=df_train[\"ScreenPorch\"],bins=[-1,0.5,100,150,300,1000],labels=[0,1,2,3,4])\n",
    "df_train[\"ScreenPorch\"].value_counts()"
   ]
  },
  {
   "cell_type": "code",
   "execution_count": 279,
   "id": "e69af803",
   "metadata": {},
   "outputs": [
    {
     "data": {
      "text/plain": [
       "0    1319\n",
       "3      83\n",
       "2      42\n",
       "1      10\n",
       "4       5\n",
       "Name: ScreenPorch, dtype: int64"
      ]
     },
     "execution_count": 279,
     "metadata": {},
     "output_type": "execute_result"
    }
   ],
   "source": [
    "df_test[\"ScreenPorch\"]=pd.cut(x=df_test[\"ScreenPorch\"],bins=[-1,0.5,100,150,300,1000],labels=[0,1,2,3,4])\n",
    "df_test[\"ScreenPorch\"].value_counts()"
   ]
  },
  {
   "cell_type": "code",
   "execution_count": 280,
   "id": "0ae87aaf",
   "metadata": {},
   "outputs": [
    {
     "data": {
      "text/plain": [
       "0      1453\n",
       "512       1\n",
       "648       1\n",
       "576       1\n",
       "555       1\n",
       "480       1\n",
       "519       1\n",
       "738       1\n",
       "Name: PoolArea, dtype: int64"
      ]
     },
     "execution_count": 280,
     "metadata": {},
     "output_type": "execute_result"
    }
   ],
   "source": [
    "# 70  PoolArea      int64  \n",
    "df_train[\"PoolArea\"].value_counts()"
   ]
  },
  {
   "cell_type": "code",
   "execution_count": 281,
   "id": "db928b55",
   "metadata": {},
   "outputs": [
    {
     "data": {
      "text/plain": [
       "0      1453\n",
       "144       1\n",
       "368       1\n",
       "444       1\n",
       "228       1\n",
       "561       1\n",
       "800       1\n",
       "Name: PoolArea, dtype: int64"
      ]
     },
     "execution_count": 281,
     "metadata": {},
     "output_type": "execute_result"
    }
   ],
   "source": [
    "df_test[\"PoolArea\"].value_counts()"
   ]
  },
  {
   "cell_type": "code",
   "execution_count": 282,
   "id": "4f1d9c1c",
   "metadata": {},
   "outputs": [
    {
     "data": {
      "text/plain": [
       "0    1453\n",
       "1       7\n",
       "Name: PoolArea, dtype: int64"
      ]
     },
     "execution_count": 282,
     "metadata": {},
     "output_type": "execute_result"
    }
   ],
   "source": [
    "df_train[\"PoolArea\"]=pd.cut(x=df_train[\"PoolArea\"],bins=[-1,0.5,1000],labels=[0,1])\n",
    "df_train[\"PoolArea\"].value_counts()"
   ]
  },
  {
   "cell_type": "code",
   "execution_count": 283,
   "id": "d5542775",
   "metadata": {},
   "outputs": [
    {
     "data": {
      "text/plain": [
       "0    1453\n",
       "1       6\n",
       "Name: PoolArea, dtype: int64"
      ]
     },
     "execution_count": 283,
     "metadata": {},
     "output_type": "execute_result"
    }
   ],
   "source": [
    "df_test[\"PoolArea\"]=pd.cut(x=df_test[\"PoolArea\"],bins=[-1,0.5,1000],labels=[0,1])\n",
    "df_test[\"PoolArea\"].value_counts()"
   ]
  },
  {
   "cell_type": "code",
   "execution_count": 284,
   "id": "b626c2f8",
   "metadata": {},
   "outputs": [
    {
     "data": {
      "text/plain": [
       "No    1453\n",
       "Gd       3\n",
       "Ex       2\n",
       "Fa       2\n",
       "Name: PoolQC, dtype: int64"
      ]
     },
     "execution_count": 284,
     "metadata": {},
     "output_type": "execute_result"
    }
   ],
   "source": [
    "# 71  PoolQC          object \n",
    "df_train[\"PoolQC\"].value_counts()\n"
   ]
  },
  {
   "cell_type": "code",
   "execution_count": 285,
   "id": "449b7813",
   "metadata": {},
   "outputs": [
    {
     "data": {
      "text/plain": [
       "4    1453\n",
       "1       3\n",
       "0       2\n",
       "3       2\n",
       "Name: PoolQC, dtype: int64"
      ]
     },
     "execution_count": 285,
     "metadata": {},
     "output_type": "execute_result"
    }
   ],
   "source": [
    "df_train[\"PoolQC\"]=df_train[\"PoolQC\"].replace([\"Ex\",\"Gd\",\"TA\",\"Fa\",\"No\"],[0,1,2,3,4])\n",
    "df_train[\"PoolQC\"].value_counts()"
   ]
  },
  {
   "cell_type": "code",
   "execution_count": 286,
   "id": "486831f0",
   "metadata": {},
   "outputs": [
    {
     "data": {
      "text/plain": [
       "4    1456\n",
       "0       2\n",
       "1       1\n",
       "Name: PoolQC, dtype: int64"
      ]
     },
     "execution_count": 286,
     "metadata": {},
     "output_type": "execute_result"
    }
   ],
   "source": [
    "df_test[\"PoolQC\"]=df_test[\"PoolQC\"].replace([\"Ex\",\"Gd\",\"TA\",\"Fa\",\"No\"],[0,1,2,3,4])\n",
    "df_test[\"PoolQC\"].value_counts()"
   ]
  },
  {
   "cell_type": "code",
   "execution_count": 287,
   "id": "7565e298",
   "metadata": {},
   "outputs": [
    {
     "data": {
      "text/plain": [
       "No       1179\n",
       "MnPrv     157\n",
       "GdPrv      59\n",
       "GdWo       54\n",
       "MnWw       11\n",
       "Name: Fence, dtype: int64"
      ]
     },
     "execution_count": 287,
     "metadata": {},
     "output_type": "execute_result"
    }
   ],
   "source": [
    "# 72  Fence      object \n",
    "df_train[\"Fence\"].value_counts()"
   ]
  },
  {
   "cell_type": "code",
   "execution_count": 288,
   "id": "e137fc23",
   "metadata": {},
   "outputs": [
    {
     "data": {
      "text/plain": [
       "4    1179\n",
       "1     157\n",
       "0      59\n",
       "2      54\n",
       "3      11\n",
       "Name: Fence, dtype: int64"
      ]
     },
     "execution_count": 288,
     "metadata": {},
     "output_type": "execute_result"
    }
   ],
   "source": [
    "df_train[\"Fence\"]=df_train[\"Fence\"].replace([\"GdPrv\",\"MnPrv\",\"GdWo\",\"MnWw\",\"No\"],[0,1,2,3,4])\n",
    "df_train[\"Fence\"].value_counts()"
   ]
  },
  {
   "cell_type": "code",
   "execution_count": 289,
   "id": "68887135",
   "metadata": {},
   "outputs": [
    {
     "data": {
      "text/plain": [
       "4    1169\n",
       "1     172\n",
       "0      59\n",
       "2      58\n",
       "3       1\n",
       "Name: Fence, dtype: int64"
      ]
     },
     "execution_count": 289,
     "metadata": {},
     "output_type": "execute_result"
    }
   ],
   "source": [
    "df_test[\"Fence\"]=df_test[\"Fence\"].replace([\"GdPrv\",\"MnPrv\",\"GdWo\",\"MnWw\",\"No\"],[0,1,2,3,4])\n",
    "df_test[\"Fence\"].value_counts()"
   ]
  },
  {
   "cell_type": "code",
   "execution_count": 290,
   "id": "f5744025",
   "metadata": {},
   "outputs": [
    {
     "data": {
      "text/plain": [
       "No      1406\n",
       "Shed      49\n",
       "Gar2       2\n",
       "Othr       2\n",
       "TenC       1\n",
       "Name: MiscFeature, dtype: int64"
      ]
     },
     "execution_count": 290,
     "metadata": {},
     "output_type": "execute_result"
    }
   ],
   "source": [
    "# 73  MiscFeature  object \n",
    "df_train[\"MiscFeature\"].value_counts()"
   ]
  },
  {
   "cell_type": "code",
   "execution_count": 291,
   "id": "52103efd",
   "metadata": {},
   "outputs": [
    {
     "data": {
      "text/plain": [
       "5    1406\n",
       "3      49\n",
       "1       2\n",
       "2       2\n",
       "4       1\n",
       "Name: MiscFeature, dtype: int64"
      ]
     },
     "execution_count": 291,
     "metadata": {},
     "output_type": "execute_result"
    }
   ],
   "source": [
    "df_train[\"MiscFeature\"]=df_train[\"MiscFeature\"].replace([\"Elev\",\"Gar2\",\"Othr\",\"Shed\",\"TenC\",\"No\"],[0,1,2,3,4,5])\n",
    "df_train[\"MiscFeature\"].value_counts()"
   ]
  },
  {
   "cell_type": "code",
   "execution_count": 292,
   "id": "394a98fc",
   "metadata": {},
   "outputs": [
    {
     "data": {
      "text/plain": [
       "5    1408\n",
       "3      46\n",
       "1       3\n",
       "2       2\n",
       "Name: MiscFeature, dtype: int64"
      ]
     },
     "execution_count": 292,
     "metadata": {},
     "output_type": "execute_result"
    }
   ],
   "source": [
    "df_test[\"MiscFeature\"]=df_test[\"MiscFeature\"].replace([\"Elev\",\"Gar2\",\"Othr\",\"Shed\",\"TenC\",\"No\"],[0,1,2,3,4,5])\n",
    "df_test[\"MiscFeature\"].value_counts()"
   ]
  },
  {
   "cell_type": "code",
   "execution_count": 293,
   "id": "948c02d5",
   "metadata": {},
   "outputs": [
    {
     "data": {
      "text/plain": [
       "0        1408\n",
       "400        11\n",
       "500         8\n",
       "700         5\n",
       "450         4\n",
       "600         4\n",
       "2000        4\n",
       "1200        2\n",
       "480         2\n",
       "15500       1\n",
       "800         1\n",
       "350         1\n",
       "3500        1\n",
       "1300        1\n",
       "54          1\n",
       "620         1\n",
       "560         1\n",
       "1400        1\n",
       "8300        1\n",
       "1150        1\n",
       "2500        1\n",
       "Name: MiscVal, dtype: int64"
      ]
     },
     "execution_count": 293,
     "metadata": {},
     "output_type": "execute_result"
    }
   ],
   "source": [
    "# 74  MiscVal       int64  \n",
    "df_train[\"MiscVal\"].value_counts()"
   ]
  },
  {
   "cell_type": "code",
   "execution_count": 294,
   "id": "86a73435",
   "metadata": {},
   "outputs": [
    {
     "data": {
      "text/plain": [
       "0        1408\n",
       "400         7\n",
       "500         5\n",
       "450         5\n",
       "600         4\n",
       "650         3\n",
       "2000        3\n",
       "1500        3\n",
       "3000        2\n",
       "4500        2\n",
       "700         2\n",
       "455         1\n",
       "6500        1\n",
       "17000       1\n",
       "460         1\n",
       "1000        1\n",
       "1512        1\n",
       "2500        1\n",
       "750         1\n",
       "12500       1\n",
       "900         1\n",
       "1200        1\n",
       "490         1\n",
       "80          1\n",
       "300         1\n",
       "420         1\n",
       "Name: MiscVal, dtype: int64"
      ]
     },
     "execution_count": 294,
     "metadata": {},
     "output_type": "execute_result"
    }
   ],
   "source": [
    "df_test[\"MiscVal\"].value_counts()"
   ]
  },
  {
   "cell_type": "code",
   "execution_count": 295,
   "id": "c4eb3d5c",
   "metadata": {},
   "outputs": [
    {
     "data": {
      "text/plain": [
       "0    1408\n",
       "1      39\n",
       "2      12\n",
       "3       1\n",
       "Name: MiscVal, dtype: int64"
      ]
     },
     "execution_count": 295,
     "metadata": {},
     "output_type": "execute_result"
    }
   ],
   "source": [
    "df_train[\"MiscVal\"]=pd.cut(x=df_train[\"MiscVal\"],bins=[-1,0.5,1000,10000,100000],labels=[0,1,2,3])\n",
    "df_train[\"MiscVal\"].value_counts()"
   ]
  },
  {
   "cell_type": "code",
   "execution_count": 296,
   "id": "9004b8dd",
   "metadata": {},
   "outputs": [
    {
     "data": {
      "text/plain": [
       "0    1408\n",
       "1      35\n",
       "2      14\n",
       "3       2\n",
       "Name: MiscVal, dtype: int64"
      ]
     },
     "execution_count": 296,
     "metadata": {},
     "output_type": "execute_result"
    }
   ],
   "source": [
    "df_test[\"MiscVal\"]=pd.cut(x=df_test[\"MiscVal\"],bins=[-1,0.5,1000,10000,100000],labels=[0,1,2,3])\n",
    "df_test[\"MiscVal\"].value_counts()"
   ]
  },
  {
   "cell_type": "code",
   "execution_count": 297,
   "id": "3b8a356f",
   "metadata": {},
   "outputs": [
    {
     "data": {
      "text/plain": [
       "6     253\n",
       "7     234\n",
       "5     204\n",
       "4     141\n",
       "8     122\n",
       "3     106\n",
       "10     89\n",
       "11     79\n",
       "9      63\n",
       "12     59\n",
       "1      58\n",
       "2      52\n",
       "Name: MoSold, dtype: int64"
      ]
     },
     "execution_count": 297,
     "metadata": {},
     "output_type": "execute_result"
    }
   ],
   "source": [
    "# 75  MoSold         int64  \n",
    "df_train[\"MoSold\"].value_counts()"
   ]
  },
  {
   "cell_type": "code",
   "execution_count": 298,
   "id": "636d2e3b",
   "metadata": {},
   "outputs": [
    {
     "data": {
      "text/plain": [
       "2009    338\n",
       "2007    329\n",
       "2006    314\n",
       "2008    304\n",
       "2010    175\n",
       "Name: YrSold, dtype: int64"
      ]
     },
     "execution_count": 298,
     "metadata": {},
     "output_type": "execute_result"
    }
   ],
   "source": [
    "# 76  YrSold        int64  \n",
    "df_train[\"YrSold\"].value_counts()"
   ]
  },
  {
   "cell_type": "code",
   "execution_count": 299,
   "id": "fc3e4270",
   "metadata": {},
   "outputs": [
    {
     "data": {
      "text/plain": [
       "2009    338\n",
       "2007    329\n",
       "2006    314\n",
       "2008    304\n",
       "2010    175\n",
       "Name: YrSold, dtype: int64"
      ]
     },
     "execution_count": 299,
     "metadata": {},
     "output_type": "execute_result"
    }
   ],
   "source": [
    "df_train[\"YrSold\"].value_counts()"
   ]
  },
  {
   "cell_type": "code",
   "execution_count": 300,
   "id": "f4e56bf0",
   "metadata": {},
   "outputs": [
    {
     "data": {
      "text/plain": [
       "WD       1267\n",
       "New       122\n",
       "COD        43\n",
       "ConLD       9\n",
       "ConLI       5\n",
       "ConLw       5\n",
       "CWD         4\n",
       "Oth         3\n",
       "Con         2\n",
       "Name: SaleType, dtype: int64"
      ]
     },
     "execution_count": 300,
     "metadata": {},
     "output_type": "execute_result"
    }
   ],
   "source": [
    "# 77  SaleType       object \n",
    "df_train[\"SaleType\"].value_counts()"
   ]
  },
  {
   "cell_type": "code",
   "execution_count": 301,
   "id": "d08d1913",
   "metadata": {},
   "outputs": [
    {
     "data": {
      "text/plain": [
       "0    1267\n",
       "3     122\n",
       "4      43\n",
       "8       9\n",
       "7       5\n",
       "6       5\n",
       "1       4\n",
       "9       3\n",
       "5       2\n",
       "Name: SaleType, dtype: int64"
      ]
     },
     "execution_count": 301,
     "metadata": {},
     "output_type": "execute_result"
    }
   ],
   "source": [
    "df_train[\"SaleType\"]=df_train[\"SaleType\"].replace([\"WD\",\"CWD\",\"VWD\",\"New\",\"COD\",\"Con\",\"ConLw\",\"ConLI\",\"ConLD\",\"Oth\"],\n",
    "                                                 [0,1,2,3,4,5,6,7,8,9])\n",
    "df_train[\"SaleType\"].value_counts()"
   ]
  },
  {
   "cell_type": "code",
   "execution_count": 302,
   "id": "00e262c0",
   "metadata": {},
   "outputs": [
    {
     "data": {
      "text/plain": [
       "0    1259\n",
       "3     117\n",
       "4      44\n",
       "8      17\n",
       "1       8\n",
       "9       4\n",
       "7       4\n",
       "5       3\n",
       "6       3\n",
       "Name: SaleType, dtype: int64"
      ]
     },
     "execution_count": 302,
     "metadata": {},
     "output_type": "execute_result"
    }
   ],
   "source": [
    "df_test[\"SaleType\"]=df_test[\"SaleType\"].replace([\"WD\",\"CWD\",\"VWD\",\"New\",\"COD\",\"Con\",\"ConLw\",\"ConLI\",\"ConLD\",\"Oth\"],\n",
    "                                                 [0,1,2,3,4,5,6,7,8,9])\n",
    "df_test[\"SaleType\"].value_counts()"
   ]
  },
  {
   "cell_type": "code",
   "execution_count": 303,
   "id": "1d5048bc",
   "metadata": {},
   "outputs": [
    {
     "data": {
      "text/plain": [
       "Normal     1198\n",
       "Partial     125\n",
       "Abnorml     101\n",
       "Family       20\n",
       "Alloca       12\n",
       "AdjLand       4\n",
       "Name: SaleCondition, dtype: int64"
      ]
     },
     "execution_count": 303,
     "metadata": {},
     "output_type": "execute_result"
    }
   ],
   "source": [
    "# 78  SaleCondition   object \n",
    "df_train[\"SaleCondition\"].value_counts()"
   ]
  },
  {
   "cell_type": "code",
   "execution_count": 304,
   "id": "0eac46eb",
   "metadata": {},
   "outputs": [
    {
     "data": {
      "text/plain": [
       "0    1198\n",
       "5     125\n",
       "1     101\n",
       "4      20\n",
       "3      12\n",
       "2       4\n",
       "Name: SaleCondition, dtype: int64"
      ]
     },
     "execution_count": 304,
     "metadata": {},
     "output_type": "execute_result"
    }
   ],
   "source": [
    "df_train[\"SaleCondition\"]=df_train[\"SaleCondition\"].replace([\"Normal\",\"Abnorml\",\"AdjLand\",\"Alloca\",\"Family\",\"Partial\"]\n",
    "                                                            ,[0,1,2,3,4,5])\n",
    "df_train[\"SaleCondition\"].value_counts()"
   ]
  },
  {
   "cell_type": "code",
   "execution_count": 305,
   "id": "52abdbcc",
   "metadata": {},
   "outputs": [
    {
     "data": {
      "text/plain": [
       "0    1204\n",
       "5     120\n",
       "1      89\n",
       "4      26\n",
       "3      12\n",
       "2       8\n",
       "Name: SaleCondition, dtype: int64"
      ]
     },
     "execution_count": 305,
     "metadata": {},
     "output_type": "execute_result"
    }
   ],
   "source": [
    "df_test[\"SaleCondition\"]=df_test[\"SaleCondition\"].replace([\"Normal\",\"Abnorml\",\"AdjLand\",\"Alloca\",\"Family\",\"Partial\"]\n",
    "                                                            ,[0,1,2,3,4,5])\n",
    "df_test[\"SaleCondition\"].value_counts()"
   ]
  },
  {
   "cell_type": "code",
   "execution_count": 306,
   "id": "e42382ef",
   "metadata": {},
   "outputs": [
    {
     "data": {
      "text/plain": [
       "140000    20\n",
       "135000    17\n",
       "155000    14\n",
       "145000    14\n",
       "190000    13\n",
       "          ..\n",
       "202665     1\n",
       "164900     1\n",
       "208300     1\n",
       "181500     1\n",
       "147500     1\n",
       "Name: SalePrice, Length: 663, dtype: int64"
      ]
     },
     "execution_count": 306,
     "metadata": {},
     "output_type": "execute_result"
    }
   ],
   "source": [
    "# 79  SalePrice      int64 \n",
    "df_train[\"SalePrice\"].value_counts()"
   ]
  },
  {
   "cell_type": "code",
   "execution_count": 307,
   "id": "83115d17",
   "metadata": {},
   "outputs": [
    {
     "data": {
      "image/png": "[encoded data removed]",
      "text/plain": [
       "<Figure size 1368x1080 with 2 Axes>"
      ]
     },
     "metadata": {
      "needs_background": "light"
     },
     "output_type": "display_data"
    }
   ],
   "source": [
    "Correlation= df_train.corr()\n",
    "plt.figure(figsize=(19,15))\n",
    "sns.heatmap(data=Correlation,annot=False)\n",
    "plt.title(\"Correlation matrix\");"
   ]
  },
  {
   "cell_type": "code",
   "execution_count": 312,
   "id": "9daabbea",
   "metadata": {},
   "outputs": [],
   "source": [
    "#enregistrer les dataframe sous le nom de df_train_dicho et df_test_dicho"
   ]
  },
  {
   "cell_type": "code",
   "execution_count": null,
   "id": "ba09340b",
   "metadata": {},
   "outputs": [],
   "source": [
    "# retirer colonnes qui ne paraissent pas pertinentes?"
   ]
  },
  {
   "cell_type": "code",
   "execution_count": 322,
   "id": "c8b867f1",
   "metadata": {},
   "outputs": [
    {
     "name": "stdout",
     "output_type": "stream",
     "text": [
      "MSSubClass   -0.08428413512659509\n",
      "MSZoning   -0.20712209386420394\n",
      "Street   -0.041035535500049486\n",
      "Alley   -0.09260744997351616\n",
      "LotShape   0.2677593139178234\n",
      "LandContour   0.07304157489380417\n",
      "Utilities   -0.01431429614724878\n",
      "LotConfig   0.0923159673148465\n",
      "LandSlope   0.0511522481794664\n",
      "Neighborhood   0.17888347720191375\n",
      "Condition1   -0.029464424860713982\n",
      "Condition2   -0.00508955066943589\n",
      "BldgType   -0.17390036137456574\n",
      "HouseStyle   0.06354695551843954\n",
      "OverallQual   0.7909816005838053\n",
      "OverallCond   -0.07785589404867797\n",
      "RoofStyle   0.2224052924071386\n",
      "RoofMatl   0.13238311192778826\n",
      "Exterior1st   0.11961435719139477\n",
      "Exterior2nd   0.11148514519793891\n",
      "MasVnrType   -0.07225651713989163\n",
      "ExterQual   -0.6826392416562591\n",
      "ExterCond   -0.018899118482413036\n",
      "Foundation   0.3824789911901013\n",
      "BsmtQual   -0.5852071991725192\n",
      "BsmtCond   -0.21260715648557865\n",
      "BsmtExposure   -0.36186283187566637\n",
      "BsmtFinType1   -0.30490787307063305\n",
      "BsmtFinType2   0.005323160673475065\n",
      "Heating   -0.0988120759975764\n",
      "HeatingQC   -0.42764870739880345\n",
      "CentralAir   0.2513281638401552\n",
      "Electrical   -0.23354903767398513\n",
      "BsmtFullBath   0.22712223313149427\n",
      "BsmtHalfBath   -0.01684415429735895\n",
      "FullBath   0.5606637627484453\n",
      "HalfBath   0.28410767559478256\n",
      "BedroomAbvGr   0.16821315430073963\n",
      "KitchenAbvGr   -0.13590737084214105\n",
      "KitchenQual   -0.659599720728663\n",
      "TotRmsAbvGrd   0.5337231555820284\n",
      "Functional   -0.10761889324399435\n",
      "Fireplaces   0.46692883675152763\n",
      "FireplaceQu   -0.5204376059504022\n",
      "GarageType   -0.4152830684529039\n",
      "GarageFinish   -0.5492467563332118\n",
      "GarageCars   0.6404091972583519\n",
      "GarageQual   -0.2738390740062236\n",
      "GarageCond   -0.26319078447039884\n",
      "PavedDrive   -0.23135695225722777\n",
      "PoolQC   -0.11548430473054759\n",
      "Fence   0.1469415264358834\n",
      "MiscFeature   0.07360881988724399\n",
      "MoSold   0.046432245223819446\n",
      "YrSold   -0.028922585168736813\n",
      "SaleType   0.1509476690217396\n",
      "SaleCondition   0.29256758485713147\n",
      "SalePrice   1.0\n"
     ]
    }
   ],
   "source": [
    "for i,row in Correlation.iterrows() : print(i,\" \",Correlation[\"SalePrice\"][i])"
   ]
  },
  {
   "cell_type": "code",
   "execution_count": null,
   "id": "a7a54bf2",
   "metadata": {},
   "outputs": [],
   "source": [
    "### correlation with saleprice -0.05<X<0.05\n",
    "##YrSold MoSold BsmtHalfBath BsmtFinType2 Streer Utilities Condition1 Condition2 ExterCond"
   ]
  },
  {
   "cell_type": "code",
   "execution_count": null,
   "id": "5ea749ab",
   "metadata": {},
   "outputs": [],
   "source": []
  },
  {
   "cell_type": "code",
   "execution_count": null,
   "id": "f4653352",
   "metadata": {},
   "outputs": [],
   "source": []
  },
  {
   "cell_type": "code",
   "execution_count": 310,
   "id": "800975d5",
   "metadata": {},
   "outputs": [],
   "source": [
    "df_train.to_csv(\"df_train_dicho.csv\",index=True)"
   ]
  },
  {
   "cell_type": "code",
   "execution_count": 311,
   "id": "8e966d41",
   "metadata": {},
   "outputs": [],
   "source": [
    "df_test.to_csv(\"df_test_dicho.csv\",index=True)"
   ]
  },
  {
   "cell_type": "code",
   "execution_count": null,
   "id": "d3d9e8d5",
   "metadata": {},
   "outputs": [],
   "source": []
  },
  {
   "cell_type": "code",
   "execution_count": null,
   "id": "ea4648a8",
   "metadata": {},
   "outputs": [],
   "source": []
  },
  {
   "cell_type": "code",
   "execution_count": null,
   "id": "60c4726c",
   "metadata": {},
   "outputs": [],
   "source": []
  },
  {
   "cell_type": "code",
   "execution_count": null,
   "id": "bc04d331",
   "metadata": {},
   "outputs": [],
   "source": []
  },
  {
   "cell_type": "code",
   "execution_count": null,
   "id": "ad2be69f",
   "metadata": {},
   "outputs": [],
   "source": []
  },
  {
   "cell_type": "code",
   "execution_count": null,
   "id": "076c726f",
   "metadata": {},
   "outputs": [],
   "source": []
  }
 ],
 "metadata": {
  "kernelspec": {
   "display_name": "Python 3 (ipykernel)",
   "language": "python",
   "name": "python3"
  },
  "language_info": {
   "codemirror_mode": {
    "name": "ipython",
    "version": 3
   },
   "file_extension": ".py",
   "mimetype": "text/x-python",
   "name": "python",
   "nbconvert_exporter": "python",
   "pygments_lexer": "ipython3",
   "version": "3.10.2"
  }
 },
 "nbformat": 4,
 "nbformat_minor": 5
}
