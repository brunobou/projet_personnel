{
 "cells": [
  {
   "cell_type": "code",
   "execution_count": 1,
   "id": "34f2ede6",
   "metadata": {},
   "outputs": [],
   "source": [
    "import pandas as pd\n",
    "import numpy as np\n",
    "import matplotlib.pyplot as plt\n",
    "%matplotlib inline\n",
    "import seaborn as sns\n",
    "from sklearn.preprocessing import StandardScaler\n",
    "from sklearn.model_selection import train_test_split"
   ]
  },
  {
   "cell_type": "code",
   "execution_count": 2,
   "id": "6dcb83ca",
   "metadata": {},
   "outputs": [],
   "source": [
    "df_train = pd.read_csv(\"df_train_dicho.csv\",index_col=0)"
   ]
  },
  {
   "cell_type": "code",
   "execution_count": 3,
   "id": "a9a2a99c",
   "metadata": {},
   "outputs": [
    {
     "data": {
      "text/html": [
       "<div>\n",
       "<style scoped>\n",
       "    .dataframe tbody tr th:only-of-type {\n",
       "        vertical-align: middle;\n",
       "    }\n",
       "\n",
       "    .dataframe tbody tr th {\n",
       "        vertical-align: top;\n",
       "    }\n",
       "\n",
       "    .dataframe thead th {\n",
       "        text-align: right;\n",
       "    }\n",
       "</style>\n",
       "<table border=\"1\" class=\"dataframe\">\n",
       "  <thead>\n",
       "    <tr style=\"text-align: right;\">\n",
       "      <th></th>\n",
       "      <th>MSSubClass</th>\n",
       "      <th>MSZoning</th>\n",
       "      <th>LotFrontage</th>\n",
       "      <th>LotArea</th>\n",
       "      <th>Street</th>\n",
       "      <th>Alley</th>\n",
       "      <th>LotShape</th>\n",
       "      <th>LandContour</th>\n",
       "      <th>Utilities</th>\n",
       "      <th>LotConfig</th>\n",
       "      <th>...</th>\n",
       "      <th>PoolArea</th>\n",
       "      <th>PoolQC</th>\n",
       "      <th>Fence</th>\n",
       "      <th>MiscFeature</th>\n",
       "      <th>MiscVal</th>\n",
       "      <th>MoSold</th>\n",
       "      <th>YrSold</th>\n",
       "      <th>SaleType</th>\n",
       "      <th>SaleCondition</th>\n",
       "      <th>SalePrice</th>\n",
       "    </tr>\n",
       "    <tr>\n",
       "      <th>Id</th>\n",
       "      <th></th>\n",
       "      <th></th>\n",
       "      <th></th>\n",
       "      <th></th>\n",
       "      <th></th>\n",
       "      <th></th>\n",
       "      <th></th>\n",
       "      <th></th>\n",
       "      <th></th>\n",
       "      <th></th>\n",
       "      <th></th>\n",
       "      <th></th>\n",
       "      <th></th>\n",
       "      <th></th>\n",
       "      <th></th>\n",
       "      <th></th>\n",
       "      <th></th>\n",
       "      <th></th>\n",
       "      <th></th>\n",
       "      <th></th>\n",
       "      <th></th>\n",
       "    </tr>\n",
       "  </thead>\n",
       "  <tbody>\n",
       "    <tr>\n",
       "      <th>1</th>\n",
       "      <td>60</td>\n",
       "      <td>5</td>\n",
       "      <td>2</td>\n",
       "      <td>0</td>\n",
       "      <td>0</td>\n",
       "      <td>0</td>\n",
       "      <td>0</td>\n",
       "      <td>0</td>\n",
       "      <td>0</td>\n",
       "      <td>0</td>\n",
       "      <td>...</td>\n",
       "      <td>0</td>\n",
       "      <td>4</td>\n",
       "      <td>4</td>\n",
       "      <td>5</td>\n",
       "      <td>0</td>\n",
       "      <td>2</td>\n",
       "      <td>2008</td>\n",
       "      <td>0</td>\n",
       "      <td>0</td>\n",
       "      <td>208500</td>\n",
       "    </tr>\n",
       "    <tr>\n",
       "      <th>2</th>\n",
       "      <td>20</td>\n",
       "      <td>5</td>\n",
       "      <td>2</td>\n",
       "      <td>0</td>\n",
       "      <td>0</td>\n",
       "      <td>0</td>\n",
       "      <td>0</td>\n",
       "      <td>0</td>\n",
       "      <td>0</td>\n",
       "      <td>3</td>\n",
       "      <td>...</td>\n",
       "      <td>0</td>\n",
       "      <td>4</td>\n",
       "      <td>4</td>\n",
       "      <td>5</td>\n",
       "      <td>0</td>\n",
       "      <td>5</td>\n",
       "      <td>2007</td>\n",
       "      <td>0</td>\n",
       "      <td>0</td>\n",
       "      <td>181500</td>\n",
       "    </tr>\n",
       "    <tr>\n",
       "      <th>3</th>\n",
       "      <td>60</td>\n",
       "      <td>5</td>\n",
       "      <td>2</td>\n",
       "      <td>1</td>\n",
       "      <td>0</td>\n",
       "      <td>0</td>\n",
       "      <td>1</td>\n",
       "      <td>0</td>\n",
       "      <td>0</td>\n",
       "      <td>0</td>\n",
       "      <td>...</td>\n",
       "      <td>0</td>\n",
       "      <td>4</td>\n",
       "      <td>4</td>\n",
       "      <td>5</td>\n",
       "      <td>0</td>\n",
       "      <td>9</td>\n",
       "      <td>2008</td>\n",
       "      <td>0</td>\n",
       "      <td>0</td>\n",
       "      <td>223500</td>\n",
       "    </tr>\n",
       "    <tr>\n",
       "      <th>4</th>\n",
       "      <td>70</td>\n",
       "      <td>5</td>\n",
       "      <td>2</td>\n",
       "      <td>0</td>\n",
       "      <td>0</td>\n",
       "      <td>0</td>\n",
       "      <td>1</td>\n",
       "      <td>0</td>\n",
       "      <td>0</td>\n",
       "      <td>1</td>\n",
       "      <td>...</td>\n",
       "      <td>0</td>\n",
       "      <td>4</td>\n",
       "      <td>4</td>\n",
       "      <td>5</td>\n",
       "      <td>0</td>\n",
       "      <td>2</td>\n",
       "      <td>2006</td>\n",
       "      <td>0</td>\n",
       "      <td>1</td>\n",
       "      <td>140000</td>\n",
       "    </tr>\n",
       "    <tr>\n",
       "      <th>5</th>\n",
       "      <td>60</td>\n",
       "      <td>5</td>\n",
       "      <td>2</td>\n",
       "      <td>1</td>\n",
       "      <td>0</td>\n",
       "      <td>0</td>\n",
       "      <td>1</td>\n",
       "      <td>0</td>\n",
       "      <td>0</td>\n",
       "      <td>3</td>\n",
       "      <td>...</td>\n",
       "      <td>0</td>\n",
       "      <td>4</td>\n",
       "      <td>4</td>\n",
       "      <td>5</td>\n",
       "      <td>0</td>\n",
       "      <td>12</td>\n",
       "      <td>2008</td>\n",
       "      <td>0</td>\n",
       "      <td>0</td>\n",
       "      <td>250000</td>\n",
       "    </tr>\n",
       "  </tbody>\n",
       "</table>\n",
       "<p>5 rows × 80 columns</p>\n",
       "</div>"
      ],
      "text/plain": [
       "    MSSubClass  MSZoning  LotFrontage  LotArea  Street  Alley  LotShape  \\\n",
       "Id                                                                        \n",
       "1           60         5            2        0       0      0         0   \n",
       "2           20         5            2        0       0      0         0   \n",
       "3           60         5            2        1       0      0         1   \n",
       "4           70         5            2        0       0      0         1   \n",
       "5           60         5            2        1       0      0         1   \n",
       "\n",
       "    LandContour  Utilities  LotConfig  ...  PoolArea  PoolQC  Fence  \\\n",
       "Id                                     ...                            \n",
       "1             0          0          0  ...         0       4      4   \n",
       "2             0          0          3  ...         0       4      4   \n",
       "3             0          0          0  ...         0       4      4   \n",
       "4             0          0          1  ...         0       4      4   \n",
       "5             0          0          3  ...         0       4      4   \n",
       "\n",
       "    MiscFeature  MiscVal  MoSold  YrSold  SaleType  SaleCondition  SalePrice  \n",
       "Id                                                                            \n",
       "1             5        0       2    2008         0              0     208500  \n",
       "2             5        0       5    2007         0              0     181500  \n",
       "3             5        0       9    2008         0              0     223500  \n",
       "4             5        0       2    2006         0              1     140000  \n",
       "5             5        0      12    2008         0              0     250000  \n",
       "\n",
       "[5 rows x 80 columns]"
      ]
     },
     "execution_count": 3,
     "metadata": {},
     "output_type": "execute_result"
    }
   ],
   "source": [
    "df_train.head()"
   ]
  },
  {
   "cell_type": "code",
   "execution_count": 4,
   "id": "7a496811",
   "metadata": {},
   "outputs": [
    {
     "name": "stdout",
     "output_type": "stream",
     "text": [
      "<class 'pandas.core.frame.DataFrame'>\n",
      "Int64Index: 1460 entries, 1 to 1460\n",
      "Data columns (total 80 columns):\n",
      " #   Column         Non-Null Count  Dtype\n",
      "---  ------         --------------  -----\n",
      " 0   MSSubClass     1460 non-null   int64\n",
      " 1   MSZoning       1460 non-null   int64\n",
      " 2   LotFrontage    1460 non-null   int64\n",
      " 3   LotArea        1460 non-null   int64\n",
      " 4   Street         1460 non-null   int64\n",
      " 5   Alley          1460 non-null   int64\n",
      " 6   LotShape       1460 non-null   int64\n",
      " 7   LandContour    1460 non-null   int64\n",
      " 8   Utilities      1460 non-null   int64\n",
      " 9   LotConfig      1460 non-null   int64\n",
      " 10  LandSlope      1460 non-null   int64\n",
      " 11  Neighborhood   1460 non-null   int64\n",
      " 12  Condition1     1460 non-null   int64\n",
      " 13  Condition2     1460 non-null   int64\n",
      " 14  BldgType       1460 non-null   int64\n",
      " 15  HouseStyle     1460 non-null   int64\n",
      " 16  OverallQual    1460 non-null   int64\n",
      " 17  OverallCond    1460 non-null   int64\n",
      " 18  YearBuilt      1460 non-null   int64\n",
      " 19  YearRemodAdd   1460 non-null   int64\n",
      " 20  RoofStyle      1460 non-null   int64\n",
      " 21  RoofMatl       1460 non-null   int64\n",
      " 22  Exterior1st    1460 non-null   int64\n",
      " 23  Exterior2nd    1460 non-null   int64\n",
      " 24  MasVnrType     1460 non-null   int64\n",
      " 25  MasVnrArea     1460 non-null   int64\n",
      " 26  ExterQual      1460 non-null   int64\n",
      " 27  ExterCond      1460 non-null   int64\n",
      " 28  Foundation     1460 non-null   int64\n",
      " 29  BsmtQual       1460 non-null   int64\n",
      " 30  BsmtCond       1460 non-null   int64\n",
      " 31  BsmtExposure   1460 non-null   int64\n",
      " 32  BsmtFinType1   1460 non-null   int64\n",
      " 33  BsmtFinSF1     1460 non-null   int64\n",
      " 34  BsmtFinType2   1460 non-null   int64\n",
      " 35  BsmtFinSF2     1460 non-null   int64\n",
      " 36  BsmtUnfSF      1460 non-null   int64\n",
      " 37  TotalBsmtSF    1460 non-null   int64\n",
      " 38  Heating        1460 non-null   int64\n",
      " 39  HeatingQC      1460 non-null   int64\n",
      " 40  CentralAir     1460 non-null   int64\n",
      " 41  Electrical     1460 non-null   int64\n",
      " 42  1stFlrSF       1460 non-null   int64\n",
      " 43  2ndFlrSF       1460 non-null   int64\n",
      " 44  LowQualFinSF   1460 non-null   int64\n",
      " 45  GrLivArea      1460 non-null   int64\n",
      " 46  BsmtFullBath   1460 non-null   int64\n",
      " 47  BsmtHalfBath   1460 non-null   int64\n",
      " 48  FullBath       1460 non-null   int64\n",
      " 49  HalfBath       1460 non-null   int64\n",
      " 50  BedroomAbvGr   1460 non-null   int64\n",
      " 51  KitchenAbvGr   1460 non-null   int64\n",
      " 52  KitchenQual    1460 non-null   int64\n",
      " 53  TotRmsAbvGrd   1460 non-null   int64\n",
      " 54  Functional     1460 non-null   int64\n",
      " 55  Fireplaces     1460 non-null   int64\n",
      " 56  FireplaceQu    1460 non-null   int64\n",
      " 57  GarageType     1460 non-null   int64\n",
      " 58  GarageYrBlt    1460 non-null   int64\n",
      " 59  GarageFinish   1460 non-null   int64\n",
      " 60  GarageCars     1460 non-null   int64\n",
      " 61  GarageArea     1460 non-null   int64\n",
      " 62  GarageQual     1460 non-null   int64\n",
      " 63  GarageCond     1460 non-null   int64\n",
      " 64  PavedDrive     1460 non-null   int64\n",
      " 65  WoodDeckSF     1460 non-null   int64\n",
      " 66  OpenPorchSF    1460 non-null   int64\n",
      " 67  EnclosedPorch  1460 non-null   int64\n",
      " 68  3SsnPorch      1460 non-null   int64\n",
      " 69  ScreenPorch    1460 non-null   int64\n",
      " 70  PoolArea       1460 non-null   int64\n",
      " 71  PoolQC         1460 non-null   int64\n",
      " 72  Fence          1460 non-null   int64\n",
      " 73  MiscFeature    1460 non-null   int64\n",
      " 74  MiscVal        1460 non-null   int64\n",
      " 75  MoSold         1460 non-null   int64\n",
      " 76  YrSold         1460 non-null   int64\n",
      " 77  SaleType       1460 non-null   int64\n",
      " 78  SaleCondition  1460 non-null   int64\n",
      " 79  SalePrice      1460 non-null   int64\n",
      "dtypes: int64(80)\n",
      "memory usage: 923.9 KB\n"
     ]
    }
   ],
   "source": [
    "df_train.info()"
   ]
  },
  {
   "cell_type": "code",
   "execution_count": 5,
   "id": "40a1f9f2",
   "metadata": {},
   "outputs": [],
   "source": [
    "from sklearn.linear_model import LinearRegression,RidgeCV,LassoCV,ElasticNetCV"
   ]
  },
  {
   "cell_type": "code",
   "execution_count": 6,
   "id": "b7e67c47",
   "metadata": {},
   "outputs": [],
   "source": [
    "scaler=StandardScaler()\n",
    "X= pd.DataFrame(scaler.fit_transform(df_train),index=df_train.index,columns=df_train.columns)"
   ]
  },
  {
   "cell_type": "code",
   "execution_count": 7,
   "id": "f8674f0b",
   "metadata": {},
   "outputs": [
    {
     "data": {
      "text/html": [
       "<div>\n",
       "<style scoped>\n",
       "    .dataframe tbody tr th:only-of-type {\n",
       "        vertical-align: middle;\n",
       "    }\n",
       "\n",
       "    .dataframe tbody tr th {\n",
       "        vertical-align: top;\n",
       "    }\n",
       "\n",
       "    .dataframe thead th {\n",
       "        text-align: right;\n",
       "    }\n",
       "</style>\n",
       "<table border=\"1\" class=\"dataframe\">\n",
       "  <thead>\n",
       "    <tr style=\"text-align: right;\">\n",
       "      <th></th>\n",
       "      <th>MSSubClass</th>\n",
       "      <th>MSZoning</th>\n",
       "      <th>LotFrontage</th>\n",
       "      <th>LotArea</th>\n",
       "      <th>Street</th>\n",
       "      <th>Alley</th>\n",
       "      <th>LotShape</th>\n",
       "      <th>LandContour</th>\n",
       "      <th>Utilities</th>\n",
       "      <th>LotConfig</th>\n",
       "      <th>...</th>\n",
       "      <th>PoolArea</th>\n",
       "      <th>PoolQC</th>\n",
       "      <th>Fence</th>\n",
       "      <th>MiscFeature</th>\n",
       "      <th>MiscVal</th>\n",
       "      <th>MoSold</th>\n",
       "      <th>YrSold</th>\n",
       "      <th>SaleType</th>\n",
       "      <th>SaleCondition</th>\n",
       "      <th>SalePrice</th>\n",
       "    </tr>\n",
       "    <tr>\n",
       "      <th>Id</th>\n",
       "      <th></th>\n",
       "      <th></th>\n",
       "      <th></th>\n",
       "      <th></th>\n",
       "      <th></th>\n",
       "      <th></th>\n",
       "      <th></th>\n",
       "      <th></th>\n",
       "      <th></th>\n",
       "      <th></th>\n",
       "      <th></th>\n",
       "      <th></th>\n",
       "      <th></th>\n",
       "      <th></th>\n",
       "      <th></th>\n",
       "      <th></th>\n",
       "      <th></th>\n",
       "      <th></th>\n",
       "      <th></th>\n",
       "      <th></th>\n",
       "      <th></th>\n",
       "    </tr>\n",
       "  </thead>\n",
       "  <tbody>\n",
       "    <tr>\n",
       "      <th>1</th>\n",
       "      <td>0.073375</td>\n",
       "      <td>-0.120682</td>\n",
       "      <td>0.501674</td>\n",
       "      <td>-0.737254</td>\n",
       "      <td>-0.064238</td>\n",
       "      <td>-0.243025</td>\n",
       "      <td>-0.701291</td>\n",
       "      <td>-0.306146</td>\n",
       "      <td>-0.02618</td>\n",
       "      <td>-0.538603</td>\n",
       "      <td>...</td>\n",
       "      <td>-0.068692</td>\n",
       "      <td>0.063796</td>\n",
       "      <td>0.469867</td>\n",
       "      <td>0.191594</td>\n",
       "      <td>-0.087688</td>\n",
       "      <td>-1.599111</td>\n",
       "      <td>0.138777</td>\n",
       "      <td>-0.358449</td>\n",
       "      <td>-0.394786</td>\n",
       "      <td>0.347273</td>\n",
       "    </tr>\n",
       "    <tr>\n",
       "      <th>2</th>\n",
       "      <td>-0.872563</td>\n",
       "      <td>-0.120682</td>\n",
       "      <td>0.501674</td>\n",
       "      <td>-0.737254</td>\n",
       "      <td>-0.064238</td>\n",
       "      <td>-0.243025</td>\n",
       "      <td>-0.701291</td>\n",
       "      <td>-0.306146</td>\n",
       "      <td>-0.02618</td>\n",
       "      <td>3.341462</td>\n",
       "      <td>...</td>\n",
       "      <td>-0.068692</td>\n",
       "      <td>0.063796</td>\n",
       "      <td>0.469867</td>\n",
       "      <td>0.191594</td>\n",
       "      <td>-0.087688</td>\n",
       "      <td>-0.489110</td>\n",
       "      <td>-0.614439</td>\n",
       "      <td>-0.358449</td>\n",
       "      <td>-0.394786</td>\n",
       "      <td>0.007288</td>\n",
       "    </tr>\n",
       "    <tr>\n",
       "      <th>3</th>\n",
       "      <td>0.073375</td>\n",
       "      <td>-0.120682</td>\n",
       "      <td>0.501674</td>\n",
       "      <td>0.791710</td>\n",
       "      <td>-0.064238</td>\n",
       "      <td>-0.243025</td>\n",
       "      <td>1.016637</td>\n",
       "      <td>-0.306146</td>\n",
       "      <td>-0.02618</td>\n",
       "      <td>-0.538603</td>\n",
       "      <td>...</td>\n",
       "      <td>-0.068692</td>\n",
       "      <td>0.063796</td>\n",
       "      <td>0.469867</td>\n",
       "      <td>0.191594</td>\n",
       "      <td>-0.087688</td>\n",
       "      <td>0.990891</td>\n",
       "      <td>0.138777</td>\n",
       "      <td>-0.358449</td>\n",
       "      <td>-0.394786</td>\n",
       "      <td>0.536154</td>\n",
       "    </tr>\n",
       "    <tr>\n",
       "      <th>4</th>\n",
       "      <td>0.309859</td>\n",
       "      <td>-0.120682</td>\n",
       "      <td>0.501674</td>\n",
       "      <td>-0.737254</td>\n",
       "      <td>-0.064238</td>\n",
       "      <td>-0.243025</td>\n",
       "      <td>1.016637</td>\n",
       "      <td>-0.306146</td>\n",
       "      <td>-0.02618</td>\n",
       "      <td>0.754752</td>\n",
       "      <td>...</td>\n",
       "      <td>-0.068692</td>\n",
       "      <td>0.063796</td>\n",
       "      <td>0.469867</td>\n",
       "      <td>0.191594</td>\n",
       "      <td>-0.087688</td>\n",
       "      <td>-1.599111</td>\n",
       "      <td>-1.367655</td>\n",
       "      <td>-0.358449</td>\n",
       "      <td>0.283317</td>\n",
       "      <td>-0.515281</td>\n",
       "    </tr>\n",
       "    <tr>\n",
       "      <th>5</th>\n",
       "      <td>0.073375</td>\n",
       "      <td>-0.120682</td>\n",
       "      <td>0.501674</td>\n",
       "      <td>0.791710</td>\n",
       "      <td>-0.064238</td>\n",
       "      <td>-0.243025</td>\n",
       "      <td>1.016637</td>\n",
       "      <td>-0.306146</td>\n",
       "      <td>-0.02618</td>\n",
       "      <td>3.341462</td>\n",
       "      <td>...</td>\n",
       "      <td>-0.068692</td>\n",
       "      <td>0.063796</td>\n",
       "      <td>0.469867</td>\n",
       "      <td>0.191594</td>\n",
       "      <td>-0.087688</td>\n",
       "      <td>2.100892</td>\n",
       "      <td>0.138777</td>\n",
       "      <td>-0.358449</td>\n",
       "      <td>-0.394786</td>\n",
       "      <td>0.869843</td>\n",
       "    </tr>\n",
       "  </tbody>\n",
       "</table>\n",
       "<p>5 rows × 80 columns</p>\n",
       "</div>"
      ],
      "text/plain": [
       "    MSSubClass  MSZoning  LotFrontage   LotArea    Street     Alley  LotShape  \\\n",
       "Id                                                                              \n",
       "1     0.073375 -0.120682     0.501674 -0.737254 -0.064238 -0.243025 -0.701291   \n",
       "2    -0.872563 -0.120682     0.501674 -0.737254 -0.064238 -0.243025 -0.701291   \n",
       "3     0.073375 -0.120682     0.501674  0.791710 -0.064238 -0.243025  1.016637   \n",
       "4     0.309859 -0.120682     0.501674 -0.737254 -0.064238 -0.243025  1.016637   \n",
       "5     0.073375 -0.120682     0.501674  0.791710 -0.064238 -0.243025  1.016637   \n",
       "\n",
       "    LandContour  Utilities  LotConfig  ...  PoolArea    PoolQC     Fence  \\\n",
       "Id                                     ...                                 \n",
       "1     -0.306146   -0.02618  -0.538603  ... -0.068692  0.063796  0.469867   \n",
       "2     -0.306146   -0.02618   3.341462  ... -0.068692  0.063796  0.469867   \n",
       "3     -0.306146   -0.02618  -0.538603  ... -0.068692  0.063796  0.469867   \n",
       "4     -0.306146   -0.02618   0.754752  ... -0.068692  0.063796  0.469867   \n",
       "5     -0.306146   -0.02618   3.341462  ... -0.068692  0.063796  0.469867   \n",
       "\n",
       "    MiscFeature   MiscVal    MoSold    YrSold  SaleType  SaleCondition  \\\n",
       "Id                                                                       \n",
       "1      0.191594 -0.087688 -1.599111  0.138777 -0.358449      -0.394786   \n",
       "2      0.191594 -0.087688 -0.489110 -0.614439 -0.358449      -0.394786   \n",
       "3      0.191594 -0.087688  0.990891  0.138777 -0.358449      -0.394786   \n",
       "4      0.191594 -0.087688 -1.599111 -1.367655 -0.358449       0.283317   \n",
       "5      0.191594 -0.087688  2.100892  0.138777 -0.358449      -0.394786   \n",
       "\n",
       "    SalePrice  \n",
       "Id             \n",
       "1    0.347273  \n",
       "2    0.007288  \n",
       "3    0.536154  \n",
       "4   -0.515281  \n",
       "5    0.869843  \n",
       "\n",
       "[5 rows x 80 columns]"
      ]
     },
     "execution_count": 7,
     "metadata": {},
     "output_type": "execute_result"
    }
   ],
   "source": [
    "X.head()"
   ]
  },
  {
   "cell_type": "code",
   "execution_count": 8,
   "id": "82129642",
   "metadata": {},
   "outputs": [],
   "source": [
    "X_c = X.drop([\"SalePrice\"],axis=1)\n",
    "y=X[\"SalePrice\"]"
   ]
  },
  {
   "cell_type": "code",
   "execution_count": 9,
   "id": "77e91a41",
   "metadata": {},
   "outputs": [],
   "source": [
    "X_train,X_test,y_train,y_test = train_test_split(X_c,y,test_size=0.2)"
   ]
  },
  {
   "cell_type": "code",
   "execution_count": 10,
   "id": "b48c52ba",
   "metadata": {},
   "outputs": [],
   "source": [
    "lr=LinearRegression()"
   ]
  },
  {
   "cell_type": "code",
   "execution_count": 11,
   "id": "72a1bcc1",
   "metadata": {},
   "outputs": [
    {
     "data": {
      "text/plain": [
       "LinearRegression()"
      ]
     },
     "execution_count": 11,
     "metadata": {},
     "output_type": "execute_result"
    }
   ],
   "source": [
    "lr.fit(X_train,y_train)"
   ]
  },
  {
   "cell_type": "code",
   "execution_count": 12,
   "id": "38ec1ca4",
   "metadata": {},
   "outputs": [
    {
     "data": {
      "text/plain": [
       "0.8431489540464961"
      ]
     },
     "execution_count": 12,
     "metadata": {},
     "output_type": "execute_result"
    }
   ],
   "source": [
    "lr.score(X_train,y_train)"
   ]
  },
  {
   "cell_type": "code",
   "execution_count": 13,
   "id": "7b9dd433",
   "metadata": {},
   "outputs": [
    {
     "data": {
      "text/plain": [
       "0.6622733488198925"
      ]
     },
     "execution_count": 13,
     "metadata": {},
     "output_type": "execute_result"
    }
   ],
   "source": [
    "from sklearn.model_selection import cross_val_score\n",
    "cross_val_score(lr,X_train,y_train).mean()\n",
    "#score très mauvais"
   ]
  },
  {
   "cell_type": "code",
   "execution_count": 14,
   "id": "8e982b81",
   "metadata": {},
   "outputs": [
    {
     "data": {
      "text/plain": [
       "-1.2154633949830715e+25"
      ]
     },
     "execution_count": 14,
     "metadata": {},
     "output_type": "execute_result"
    }
   ],
   "source": [
    "lr.score(X_test,y_test)"
   ]
  },
  {
   "cell_type": "code",
   "execution_count": 15,
   "id": "c2964b8d",
   "metadata": {},
   "outputs": [],
   "source": [
    "pred_train = lr.predict(X_train)"
   ]
  },
  {
   "cell_type": "code",
   "execution_count": 16,
   "id": "683b148d",
   "metadata": {},
   "outputs": [],
   "source": [
    "from scipy.stats import probplot"
   ]
  },
  {
   "cell_type": "code",
   "execution_count": 17,
   "id": "422ce27d",
   "metadata": {},
   "outputs": [],
   "source": [
    "res= pred_train - y_train\n",
    "res_norm = (res - res.mean())/(res.std())"
   ]
  },
  {
   "cell_type": "code",
   "execution_count": 18,
   "id": "11ccd00c",
   "metadata": {},
   "outputs": [
    {
     "data": {
      "text/plain": [
       "((array([-3.24209521, -2.98025416, -2.83435097, ...,  2.83435097,\n",
       "          2.98025416,  3.24209521]),\n",
       "  array([-7.62913228, -6.60123595, -6.02085758, ...,  3.55796653,\n",
       "          8.60312152, 11.13235054])),\n",
       " (0.9129046708630816, 1.7347576546959167e-16, 0.9110811033560624))"
      ]
     },
     "execution_count": 18,
     "metadata": {},
     "output_type": "execute_result"
    }
   ],
   "source": [
    "probplot(res_norm)"
   ]
  },
  {
   "cell_type": "code",
   "execution_count": 19,
   "id": "b161f765",
   "metadata": {},
   "outputs": [
    {
     "data": {
      "image/png": "[encoded data removed]",
      "text/plain": [
       "<Figure size 432x288 with 1 Axes>"
      ]
     },
     "metadata": {
      "needs_background": "light"
     },
     "output_type": "display_data"
    }
   ],
   "source": [
    "\n",
    "probplot(res_norm,plot=plt)\n",
    "\n",
    "plt.show();"
   ]
  },
  {
   "cell_type": "code",
   "execution_count": 20,
   "id": "587ec957",
   "metadata": {},
   "outputs": [],
   "source": [
    "# bon je m'y attendais mais il y a beaucoup de problème de surapprentissage (énormément de variable sont corrélés entre elles)"
   ]
  },
  {
   "cell_type": "code",
   "execution_count": null,
   "id": "d10af0af",
   "metadata": {},
   "outputs": [],
   "source": [
    "#regression lineaire Ridge"
   ]
  },
  {
   "cell_type": "code",
   "execution_count": 21,
   "id": "a0acf8cb",
   "metadata": {},
   "outputs": [],
   "source": [
    "ridge_reg = RidgeCV(alphas=(0.05,0.1,0.5,1.0,5.0,10.0))"
   ]
  },
  {
   "cell_type": "code",
   "execution_count": 22,
   "id": "3bd8e45f",
   "metadata": {},
   "outputs": [
    {
     "data": {
      "text/plain": [
       "RidgeCV(alphas=array([ 0.05,  0.1 ,  0.5 ,  1.  ,  5.  , 10.  ]))"
      ]
     },
     "execution_count": 22,
     "metadata": {},
     "output_type": "execute_result"
    }
   ],
   "source": [
    "ridge_reg.fit(X_train,y_train)"
   ]
  },
  {
   "cell_type": "code",
   "execution_count": 23,
   "id": "c0e7b148",
   "metadata": {},
   "outputs": [
    {
     "data": {
      "text/plain": [
       "10.0"
      ]
     },
     "execution_count": 23,
     "metadata": {},
     "output_type": "execute_result"
    }
   ],
   "source": [
    "ridge_reg.alpha_"
   ]
  },
  {
   "cell_type": "code",
   "execution_count": 24,
   "id": "880048c6",
   "metadata": {},
   "outputs": [
    {
     "data": {
      "text/plain": [
       "0.842976170895876"
      ]
     },
     "execution_count": 24,
     "metadata": {},
     "output_type": "execute_result"
    }
   ],
   "source": [
    "ridge_reg.score(X_train,y_train)"
   ]
  },
  {
   "cell_type": "code",
   "execution_count": 25,
   "id": "54514d27",
   "metadata": {},
   "outputs": [],
   "source": [
    "from sklearn.metrics import mean_squared_error"
   ]
  },
  {
   "cell_type": "code",
   "execution_count": 26,
   "id": "8e7fa44c",
   "metadata": {},
   "outputs": [
    {
     "data": {
      "text/plain": [
       "0.8231316349380349"
      ]
     },
     "execution_count": 26,
     "metadata": {},
     "output_type": "execute_result"
    }
   ],
   "source": [
    "ridge_reg.score(X_test,y_test)"
   ]
  },
  {
   "cell_type": "code",
   "execution_count": 27,
   "id": "dd28cca8",
   "metadata": {},
   "outputs": [],
   "source": [
    "y_pred_train= ridge_reg.predict(X_train)"
   ]
  },
  {
   "cell_type": "code",
   "execution_count": 28,
   "id": "236e76f9",
   "metadata": {},
   "outputs": [],
   "source": [
    "y_pred_test=ridge_reg.predict(X_test)"
   ]
  },
  {
   "cell_type": "code",
   "execution_count": 29,
   "id": "a3c49885",
   "metadata": {},
   "outputs": [
    {
     "data": {
      "text/plain": [
       "0.17502340454397075"
      ]
     },
     "execution_count": 29,
     "metadata": {},
     "output_type": "execute_result"
    }
   ],
   "source": [
    "mean_squared_error(y_test,y_pred_test)"
   ]
  },
  {
   "cell_type": "code",
   "execution_count": 30,
   "id": "54480306",
   "metadata": {},
   "outputs": [
    {
     "data": {
      "text/plain": [
       "0.15743211278702302"
      ]
     },
     "execution_count": 30,
     "metadata": {},
     "output_type": "execute_result"
    }
   ],
   "source": [
    "mean_squared_error(y_train,y_pred_train)"
   ]
  },
  {
   "cell_type": "code",
   "execution_count": null,
   "id": "4a87aaf6",
   "metadata": {},
   "outputs": [],
   "source": [
    "# Bon c'est mieux"
   ]
  },
  {
   "cell_type": "code",
   "execution_count": 31,
   "id": "13507346",
   "metadata": {},
   "outputs": [],
   "source": [
    "ridge_reg_2 = RidgeCV(alphas=(0.05,0.1,0.5,1.0,5.0,10.0,12.5,15.0,17.5,20.0),alpha_per_target=True)"
   ]
  },
  {
   "cell_type": "code",
   "execution_count": 32,
   "id": "adfd7241",
   "metadata": {},
   "outputs": [
    {
     "data": {
      "text/plain": [
       "RidgeCV(alpha_per_target=True,\n",
       "        alphas=array([ 0.05,  0.1 ,  0.5 ,  1.  ,  5.  , 10.  , 12.5 , 15.  , 17.5 ,\n",
       "       20.  ]))"
      ]
     },
     "execution_count": 32,
     "metadata": {},
     "output_type": "execute_result"
    }
   ],
   "source": [
    "ridge_reg_2.fit(X_train,y_train)"
   ]
  },
  {
   "cell_type": "code",
   "execution_count": 33,
   "id": "9d097019",
   "metadata": {},
   "outputs": [
    {
     "data": {
      "text/plain": [
       "20.0"
      ]
     },
     "execution_count": 33,
     "metadata": {},
     "output_type": "execute_result"
    }
   ],
   "source": [
    "ridge_reg_2.alpha_"
   ]
  },
  {
   "cell_type": "code",
   "execution_count": 34,
   "id": "cc8231e7",
   "metadata": {},
   "outputs": [
    {
     "data": {
      "text/plain": [
       "0.8426817970067744"
      ]
     },
     "execution_count": 34,
     "metadata": {},
     "output_type": "execute_result"
    }
   ],
   "source": [
    "ridge_reg_2.score(X_train,y_train)"
   ]
  },
  {
   "cell_type": "code",
   "execution_count": 35,
   "id": "8fe0df26",
   "metadata": {},
   "outputs": [
    {
     "data": {
      "text/plain": [
       "0.827925156451169"
      ]
     },
     "execution_count": 35,
     "metadata": {},
     "output_type": "execute_result"
    }
   ],
   "source": [
    "ridge_reg_2.score(X_test,y_test)"
   ]
  },
  {
   "cell_type": "code",
   "execution_count": 36,
   "id": "2c619c06",
   "metadata": {},
   "outputs": [],
   "source": [
    "y_pred_train_2= ridge_reg_2.predict(X_train)\n",
    "y_pred_test_2=ridge_reg_2.predict(X_test)"
   ]
  },
  {
   "cell_type": "code",
   "execution_count": 37,
   "id": "c6d311a6",
   "metadata": {},
   "outputs": [
    {
     "data": {
      "text/plain": [
       "0.17027988551675768"
      ]
     },
     "execution_count": 37,
     "metadata": {},
     "output_type": "execute_result"
    }
   ],
   "source": [
    "mean_squared_error(y_test,y_pred_test_2)"
   ]
  },
  {
   "cell_type": "code",
   "execution_count": 38,
   "id": "78d0d97f",
   "metadata": {},
   "outputs": [
    {
     "data": {
      "text/plain": [
       "0.1577272520889684"
      ]
     },
     "execution_count": 38,
     "metadata": {},
     "output_type": "execute_result"
    }
   ],
   "source": [
    "mean_squared_error(y_train,y_pred_train_2)"
   ]
  },
  {
   "cell_type": "code",
   "execution_count": null,
   "id": "7b78c485",
   "metadata": {},
   "outputs": [],
   "source": [
    "#Regression linéaire Lasso"
   ]
  },
  {
   "cell_type": "code",
   "execution_count": 39,
   "id": "18581579",
   "metadata": {},
   "outputs": [],
   "source": [
    "lasso = LassoCV(cv=10)"
   ]
  },
  {
   "cell_type": "code",
   "execution_count": 40,
   "id": "0ff6963c",
   "metadata": {},
   "outputs": [
    {
     "data": {
      "text/plain": [
       "LassoCV()"
      ]
     },
     "execution_count": 40,
     "metadata": {},
     "output_type": "execute_result"
    }
   ],
   "source": [
    "lasso.fit(X_train,y_train)"
   ]
  },
  {
   "cell_type": "code",
   "execution_count": 42,
   "id": "e06d38df",
   "metadata": {},
   "outputs": [
    {
     "data": {
      "text/plain": [
       "0.04612813521743634"
      ]
     },
     "execution_count": 42,
     "metadata": {},
     "output_type": "execute_result"
    }
   ],
   "source": [
    "lasso.alpha_"
   ]
  },
  {
   "cell_type": "code",
   "execution_count": 43,
   "id": "e9ca676d",
   "metadata": {},
   "outputs": [
    {
     "data": {
      "text/plain": [
       "0.8045040379101456"
      ]
     },
     "execution_count": 43,
     "metadata": {},
     "output_type": "execute_result"
    }
   ],
   "source": [
    "lasso.score(X_train,y_train)"
   ]
  },
  {
   "cell_type": "code",
   "execution_count": 44,
   "id": "07fbc4ce",
   "metadata": {},
   "outputs": [
    {
     "data": {
      "text/plain": [
       "0.7958758734414544"
      ]
     },
     "execution_count": 44,
     "metadata": {},
     "output_type": "execute_result"
    }
   ],
   "source": [
    "lasso.score(X_test,y_test)"
   ]
  },
  {
   "cell_type": "code",
   "execution_count": 45,
   "id": "10215e46",
   "metadata": {},
   "outputs": [],
   "source": [
    "y_p_tr=lasso.predict(X_train)\n",
    "y_p_te=lasso.predict(X_test)"
   ]
  },
  {
   "cell_type": "code",
   "execution_count": 46,
   "id": "7ff4a934",
   "metadata": {},
   "outputs": [
    {
     "data": {
      "text/plain": [
       "0.19600427864186634"
      ]
     },
     "execution_count": 46,
     "metadata": {},
     "output_type": "execute_result"
    }
   ],
   "source": [
    "mean_squared_error(y_train,y_p_tr)"
   ]
  },
  {
   "cell_type": "code",
   "execution_count": 47,
   "id": "b190ff55",
   "metadata": {},
   "outputs": [
    {
     "data": {
      "text/plain": [
       "0.20199485401091585"
      ]
     },
     "execution_count": 47,
     "metadata": {},
     "output_type": "execute_result"
    }
   ],
   "source": [
    "mean_squared_error(y_test,y_p_te)"
   ]
  },
  {
   "cell_type": "code",
   "execution_count": null,
   "id": "cefd9059",
   "metadata": {},
   "outputs": [],
   "source": [
    "#Elastic Net"
   ]
  },
  {
   "cell_type": "code",
   "execution_count": 48,
   "id": "1b4c82ff",
   "metadata": {},
   "outputs": [],
   "source": [
    "ml = ElasticNetCV()"
   ]
  },
  {
   "cell_type": "code",
   "execution_count": null,
   "id": "30eff0e0",
   "metadata": {},
   "outputs": [],
   "source": []
  },
  {
   "cell_type": "code",
   "execution_count": null,
   "id": "680152e5",
   "metadata": {},
   "outputs": [],
   "source": []
  },
  {
   "cell_type": "code",
   "execution_count": null,
   "id": "947d3591",
   "metadata": {},
   "outputs": [],
   "source": []
  },
  {
   "cell_type": "code",
   "execution_count": null,
   "id": "98cc7ec6",
   "metadata": {},
   "outputs": [],
   "source": []
  },
  {
   "cell_type": "code",
   "execution_count": null,
   "id": "36c864b1",
   "metadata": {},
   "outputs": [],
   "source": []
  }
 ],
 "metadata": {
  "kernelspec": {
   "display_name": "Python 3 (ipykernel)",
   "language": "python",
   "name": "python3"
  },
  "language_info": {
   "codemirror_mode": {
    "name": "ipython",
    "version": 3
   },
   "file_extension": ".py",
   "mimetype": "text/x-python",
   "name": "python",
   "nbconvert_exporter": "python",
   "pygments_lexer": "ipython3",
   "version": "3.10.2"
  }
 },
 "nbformat": 4,
 "nbformat_minor": 5
}
