{
 "cells": [
  {
   "cell_type": "code",
   "execution_count": 1,
   "id": "23bb21a4",
   "metadata": {},
   "outputs": [],
   "source": [
    "import pandas as pd\n",
    "import numpy as np\n",
    "import matplotlib.pyplot as plt\n",
    "%matplotlib inline\n",
    "import seaborn as sns"
   ]
  },
  {
   "cell_type": "code",
   "execution_count": 2,
   "id": "c8b54328",
   "metadata": {},
   "outputs": [],
   "source": [
    "from sklearn.model_selection import train_test_split\n",
    "from sklearn.neighbors import KNeighborsClassifier\n",
    "from sklearn.linear_model import LogisticRegression\n",
    "from sklearn.svm import SVC\n",
    "from sklearn.tree import DecisionTreeClassifier\n",
    "from sklearn.model_selection import GridSearchCV,StratifiedKFold\n",
    "from sklearn.model_selection import cross_val_score"
   ]
  },
  {
   "cell_type": "code",
   "execution_count": 3,
   "id": "8fe71d4f",
   "metadata": {},
   "outputs": [],
   "source": [
    "df= pd.read_csv(\"train_preprocessed.csv\",index_col = 0)\n",
    "#df_test = pd.read_csv(\"test_preprocessed.csv\",index_col = 0)"
   ]
  },
  {
   "cell_type": "code",
   "execution_count": 4,
   "id": "93c5938b",
   "metadata": {},
   "outputs": [
    {
     "data": {
      "text/html": [
       "<div>\n",
       "<style scoped>\n",
       "    .dataframe tbody tr th:only-of-type {\n",
       "        vertical-align: middle;\n",
       "    }\n",
       "\n",
       "    .dataframe tbody tr th {\n",
       "        vertical-align: top;\n",
       "    }\n",
       "\n",
       "    .dataframe thead th {\n",
       "        text-align: right;\n",
       "    }\n",
       "</style>\n",
       "<table border=\"1\" class=\"dataframe\">\n",
       "  <thead>\n",
       "    <tr style=\"text-align: right;\">\n",
       "      <th></th>\n",
       "      <th>Survived</th>\n",
       "      <th>Pclass</th>\n",
       "      <th>Sex</th>\n",
       "      <th>Embarked</th>\n",
       "      <th>ischild</th>\n",
       "      <th>hasCabin</th>\n",
       "      <th>Hasfam</th>\n",
       "    </tr>\n",
       "    <tr>\n",
       "      <th>PassengerId</th>\n",
       "      <th></th>\n",
       "      <th></th>\n",
       "      <th></th>\n",
       "      <th></th>\n",
       "      <th></th>\n",
       "      <th></th>\n",
       "      <th></th>\n",
       "    </tr>\n",
       "  </thead>\n",
       "  <tbody>\n",
       "    <tr>\n",
       "      <th>1</th>\n",
       "      <td>0</td>\n",
       "      <td>3</td>\n",
       "      <td>0</td>\n",
       "      <td>1</td>\n",
       "      <td>0</td>\n",
       "      <td>0</td>\n",
       "      <td>1</td>\n",
       "    </tr>\n",
       "    <tr>\n",
       "      <th>2</th>\n",
       "      <td>1</td>\n",
       "      <td>1</td>\n",
       "      <td>1</td>\n",
       "      <td>1</td>\n",
       "      <td>0</td>\n",
       "      <td>1</td>\n",
       "      <td>1</td>\n",
       "    </tr>\n",
       "    <tr>\n",
       "      <th>3</th>\n",
       "      <td>1</td>\n",
       "      <td>3</td>\n",
       "      <td>1</td>\n",
       "      <td>1</td>\n",
       "      <td>0</td>\n",
       "      <td>0</td>\n",
       "      <td>0</td>\n",
       "    </tr>\n",
       "    <tr>\n",
       "      <th>4</th>\n",
       "      <td>1</td>\n",
       "      <td>1</td>\n",
       "      <td>1</td>\n",
       "      <td>1</td>\n",
       "      <td>0</td>\n",
       "      <td>1</td>\n",
       "      <td>1</td>\n",
       "    </tr>\n",
       "    <tr>\n",
       "      <th>5</th>\n",
       "      <td>0</td>\n",
       "      <td>3</td>\n",
       "      <td>0</td>\n",
       "      <td>1</td>\n",
       "      <td>0</td>\n",
       "      <td>0</td>\n",
       "      <td>0</td>\n",
       "    </tr>\n",
       "  </tbody>\n",
       "</table>\n",
       "</div>"
      ],
      "text/plain": [
       "             Survived  Pclass  Sex  Embarked  ischild  hasCabin  Hasfam\n",
       "PassengerId                                                            \n",
       "1                   0       3    0         1        0         0       1\n",
       "2                   1       1    1         1        0         1       1\n",
       "3                   1       3    1         1        0         0       0\n",
       "4                   1       1    1         1        0         1       1\n",
       "5                   0       3    0         1        0         0       0"
      ]
     },
     "execution_count": 4,
     "metadata": {},
     "output_type": "execute_result"
    }
   ],
   "source": [
    "df.head()"
   ]
  },
  {
   "cell_type": "code",
   "execution_count": 5,
   "id": "9d9209c9",
   "metadata": {},
   "outputs": [],
   "source": [
    "X = df.drop([\"Survived\"],axis=1)"
   ]
  },
  {
   "cell_type": "code",
   "execution_count": 6,
   "id": "0375c9c6",
   "metadata": {},
   "outputs": [],
   "source": [
    "y =df[\"Survived\"]"
   ]
  },
  {
   "cell_type": "code",
   "execution_count": 7,
   "id": "fc66b805",
   "metadata": {},
   "outputs": [
    {
     "data": {
      "text/html": [
       "<div>\n",
       "<style scoped>\n",
       "    .dataframe tbody tr th:only-of-type {\n",
       "        vertical-align: middle;\n",
       "    }\n",
       "\n",
       "    .dataframe tbody tr th {\n",
       "        vertical-align: top;\n",
       "    }\n",
       "\n",
       "    .dataframe thead th {\n",
       "        text-align: right;\n",
       "    }\n",
       "</style>\n",
       "<table border=\"1\" class=\"dataframe\">\n",
       "  <thead>\n",
       "    <tr style=\"text-align: right;\">\n",
       "      <th></th>\n",
       "      <th>Pclass</th>\n",
       "      <th>Sex</th>\n",
       "      <th>Embarked</th>\n",
       "      <th>ischild</th>\n",
       "      <th>hasCabin</th>\n",
       "      <th>Hasfam</th>\n",
       "    </tr>\n",
       "    <tr>\n",
       "      <th>PassengerId</th>\n",
       "      <th></th>\n",
       "      <th></th>\n",
       "      <th></th>\n",
       "      <th></th>\n",
       "      <th></th>\n",
       "      <th></th>\n",
       "    </tr>\n",
       "  </thead>\n",
       "  <tbody>\n",
       "    <tr>\n",
       "      <th>1</th>\n",
       "      <td>3</td>\n",
       "      <td>0</td>\n",
       "      <td>1</td>\n",
       "      <td>0</td>\n",
       "      <td>0</td>\n",
       "      <td>1</td>\n",
       "    </tr>\n",
       "    <tr>\n",
       "      <th>2</th>\n",
       "      <td>1</td>\n",
       "      <td>1</td>\n",
       "      <td>1</td>\n",
       "      <td>0</td>\n",
       "      <td>1</td>\n",
       "      <td>1</td>\n",
       "    </tr>\n",
       "    <tr>\n",
       "      <th>3</th>\n",
       "      <td>3</td>\n",
       "      <td>1</td>\n",
       "      <td>1</td>\n",
       "      <td>0</td>\n",
       "      <td>0</td>\n",
       "      <td>0</td>\n",
       "    </tr>\n",
       "    <tr>\n",
       "      <th>4</th>\n",
       "      <td>1</td>\n",
       "      <td>1</td>\n",
       "      <td>1</td>\n",
       "      <td>0</td>\n",
       "      <td>1</td>\n",
       "      <td>1</td>\n",
       "    </tr>\n",
       "    <tr>\n",
       "      <th>5</th>\n",
       "      <td>3</td>\n",
       "      <td>0</td>\n",
       "      <td>1</td>\n",
       "      <td>0</td>\n",
       "      <td>0</td>\n",
       "      <td>0</td>\n",
       "    </tr>\n",
       "  </tbody>\n",
       "</table>\n",
       "</div>"
      ],
      "text/plain": [
       "             Pclass  Sex  Embarked  ischild  hasCabin  Hasfam\n",
       "PassengerId                                                  \n",
       "1                 3    0         1        0         0       1\n",
       "2                 1    1         1        0         1       1\n",
       "3                 3    1         1        0         0       0\n",
       "4                 1    1         1        0         1       1\n",
       "5                 3    0         1        0         0       0"
      ]
     },
     "execution_count": 7,
     "metadata": {},
     "output_type": "execute_result"
    }
   ],
   "source": [
    "X.head()"
   ]
  },
  {
   "cell_type": "code",
   "execution_count": 8,
   "id": "2c85fcc3",
   "metadata": {},
   "outputs": [
    {
     "data": {
      "text/plain": [
       "PassengerId\n",
       "1    0\n",
       "2    1\n",
       "3    1\n",
       "4    1\n",
       "5    0\n",
       "Name: Survived, dtype: int64"
      ]
     },
     "execution_count": 8,
     "metadata": {},
     "output_type": "execute_result"
    }
   ],
   "source": [
    "y.head()"
   ]
  },
  {
   "cell_type": "code",
   "execution_count": 9,
   "id": "05624f8b",
   "metadata": {},
   "outputs": [],
   "source": [
    "X_train,X_val,y_train,y_val = train_test_split(X,y,test_size=0.1)"
   ]
  },
  {
   "cell_type": "code",
   "execution_count": 10,
   "id": "3fce606f",
   "metadata": {},
   "outputs": [],
   "source": [
    "neigh =  KNeighborsClassifier()\n",
    "lin= LogisticRegression() \n",
    "vect= SVC()\n",
    "tree = DecisionTreeClassifier()"
   ]
  },
  {
   "cell_type": "code",
   "execution_count": 59,
   "id": "48ba10ff",
   "metadata": {},
   "outputs": [],
   "source": [
    "lname=[\"neighbors\",\"linear\",\"vector\",\"tree\"]\n",
    "#lname=[\"neighbors\",\"vector\",\"tree\"]"
   ]
  },
  {
   "cell_type": "code",
   "execution_count": 60,
   "id": "ec958200",
   "metadata": {},
   "outputs": [],
   "source": [
    "lclf= [neigh,lin,vect,tree]\n",
    "#lclf= [neigh,vect,tree]"
   ]
  },
  {
   "cell_type": "code",
   "execution_count": 13,
   "id": "1e708ac9",
   "metadata": {},
   "outputs": [],
   "source": [
    "# 4 grilles d'hyperparamètres"
   ]
  },
  {
   "cell_type": "code",
   "execution_count": 61,
   "id": "c6af2b60",
   "metadata": {},
   "outputs": [],
   "source": [
    "param_list = [{\"n_neighbors\": [2,3,5,7,9], \"weight\": ['uniform', 'distance']},\n",
    "              {\"solver\" : ['newton-cg', 'lbfgs', 'liblinear']},\n",
    "              {\"kernel\":['linear', 'poly', 'rbf', 'sigmoid'],'C': [0.1, 1, 10, 100],'gamma':['scale', 'auto']},\n",
    "              {'criterion' : [\"gini\", \"entropy\"],'splitter' :[\"best\", \"random\"]}]\n"
   ]
  },
  {
   "cell_type": "code",
   "execution_count": null,
   "id": "b4caaf66",
   "metadata": {},
   "outputs": [],
   "source": []
  },
  {
   "cell_type": "code",
   "execution_count": null,
   "id": "93b4b996",
   "metadata": {},
   "outputs": [],
   "source": []
  },
  {
   "cell_type": "code",
   "execution_count": 62,
   "id": "f5a7edb4",
   "metadata": {},
   "outputs": [],
   "source": [
    "gridcvs = {}"
   ]
  },
  {
   "cell_type": "code",
   "execution_count": 63,
   "id": "a010cf0a",
   "metadata": {
    "scrolled": true
   },
   "outputs": [],
   "source": [
    "for Name,Clf,Param in zip(lname,lclf,param_list):\n",
    "    gridcvs[Name] = GridSearchCV(Clf,Param)\n",
    "    #print(Name,Clf,Param)\n",
    "    "
   ]
  },
  {
   "cell_type": "code",
   "execution_count": null,
   "id": "f8a43608",
   "metadata": {},
   "outputs": [],
   "source": []
  },
  {
   "cell_type": "code",
   "execution_count": 64,
   "id": "fdf4fd7c",
   "metadata": {},
   "outputs": [],
   "source": [
    "strat = StratifiedKFold(n_splits=5)"
   ]
  },
  {
   "cell_type": "code",
   "execution_count": 65,
   "id": "6bc73cd6",
   "metadata": {},
   "outputs": [],
   "source": [
    "outerscore = {}"
   ]
  },
  {
   "cell_type": "code",
   "execution_count": 66,
   "id": "d12db5e3",
   "metadata": {},
   "outputs": [
    {
     "name": "stderr",
     "output_type": "stream",
     "text": [
      "C:\\ProgramData\\miniforge3\\envs\\my-env\\lib\\site-packages\\sklearn\\model_selection\\_validation.py:372: FitFailedWarning: \n",
      "5 fits failed out of a total of 5.\n",
      "The score on these train-test partitions for these parameters will be set to nan.\n",
      "If these failures are not expected, you can try to debug them by setting error_score='raise'.\n",
      "\n",
      "Below are more details about the failures:\n",
      "--------------------------------------------------------------------------------\n",
      "5 fits failed with the following error:\n",
      "Traceback (most recent call last):\n",
      "  File \"C:\\ProgramData\\miniforge3\\envs\\my-env\\lib\\site-packages\\sklearn\\model_selection\\_validation.py\", line 680, in _fit_and_score\n",
      "    estimator.fit(X_train, y_train, **fit_params)\n",
      "  File \"C:\\ProgramData\\miniforge3\\envs\\my-env\\lib\\site-packages\\sklearn\\model_selection\\_search.py\", line 891, in fit\n",
      "    self._run_search(evaluate_candidates)\n",
      "  File \"C:\\ProgramData\\miniforge3\\envs\\my-env\\lib\\site-packages\\sklearn\\model_selection\\_search.py\", line 1392, in _run_search\n",
      "    evaluate_candidates(ParameterGrid(self.param_grid))\n",
      "  File \"C:\\ProgramData\\miniforge3\\envs\\my-env\\lib\\site-packages\\sklearn\\model_selection\\_search.py\", line 838, in evaluate_candidates\n",
      "    out = parallel(\n",
      "  File \"C:\\ProgramData\\miniforge3\\envs\\my-env\\lib\\site-packages\\joblib\\parallel.py\", line 1043, in __call__\n",
      "    if self.dispatch_one_batch(iterator):\n",
      "  File \"C:\\ProgramData\\miniforge3\\envs\\my-env\\lib\\site-packages\\joblib\\parallel.py\", line 861, in dispatch_one_batch\n",
      "    self._dispatch(tasks)\n",
      "  File \"C:\\ProgramData\\miniforge3\\envs\\my-env\\lib\\site-packages\\joblib\\parallel.py\", line 779, in _dispatch\n",
      "    job = self._backend.apply_async(batch, callback=cb)\n",
      "  File \"C:\\ProgramData\\miniforge3\\envs\\my-env\\lib\\site-packages\\joblib\\_parallel_backends.py\", line 208, in apply_async\n",
      "    result = ImmediateResult(func)\n",
      "  File \"C:\\ProgramData\\miniforge3\\envs\\my-env\\lib\\site-packages\\joblib\\_parallel_backends.py\", line 572, in __init__\n",
      "    self.results = batch()\n",
      "  File \"C:\\ProgramData\\miniforge3\\envs\\my-env\\lib\\site-packages\\joblib\\parallel.py\", line 262, in __call__\n",
      "    return [func(*args, **kwargs)\n",
      "  File \"C:\\ProgramData\\miniforge3\\envs\\my-env\\lib\\site-packages\\joblib\\parallel.py\", line 262, in <listcomp>\n",
      "    return [func(*args, **kwargs)\n",
      "  File \"C:\\ProgramData\\miniforge3\\envs\\my-env\\lib\\site-packages\\sklearn\\utils\\fixes.py\", line 216, in __call__\n",
      "    return self.function(*args, **kwargs)\n",
      "  File \"C:\\ProgramData\\miniforge3\\envs\\my-env\\lib\\site-packages\\sklearn\\model_selection\\_validation.py\", line 668, in _fit_and_score\n",
      "    estimator = estimator.set_params(**cloned_parameters)\n",
      "  File \"C:\\ProgramData\\miniforge3\\envs\\my-env\\lib\\site-packages\\sklearn\\base.py\", line 245, in set_params\n",
      "    raise ValueError(\n",
      "ValueError: Invalid parameter weight for estimator KNeighborsClassifier(n_neighbors=2). Check the list of available parameters with `estimator.get_params().keys()`.\n",
      "\n",
      "  warnings.warn(some_fits_failed_message, FitFailedWarning)\n"
     ]
    },
    {
     "name": "stdout",
     "output_type": "stream",
     "text": [
      "neighbors: outer accuracy nan +/- nan\n",
      "linear: outer accuracy 78.90 +/- 1.58\n",
      "vector: outer accuracy 81.77 +/- 2.21\n",
      "tree: outer accuracy 81.90 +/- 2.09\n"
     ]
    }
   ],
   "source": [
    "for name,gcv in gridcvs.items():\n",
    "    nested_score = cross_val_score(gcv,X_train,y_train,cv=strat)\n",
    "    outerscore[name] = nested_score\n",
    "    print(f\"{name}: outer accuracy {100 * nested_score.mean():.2f} +/- { 100 * nested_score.std():.2f}\")"
   ]
  },
  {
   "cell_type": "code",
   "execution_count": 73,
   "id": "ed8225f4",
   "metadata": {},
   "outputs": [],
   "source": [
    "#selection du meilleur modèle\n"
   ]
  },
  {
   "cell_type": "code",
   "execution_count": null,
   "id": "93eb4154",
   "metadata": {},
   "outputs": [],
   "source": []
  },
  {
   "cell_type": "code",
   "execution_count": null,
   "id": "f1655d51",
   "metadata": {},
   "outputs": [],
   "source": []
  }
 ],
 "metadata": {
  "kernelspec": {
   "display_name": "Python 3 (ipykernel)",
   "language": "python",
   "name": "python3"
  },
  "language_info": {
   "codemirror_mode": {
    "name": "ipython",
    "version": 3
   },
   "file_extension": ".py",
   "mimetype": "text/x-python",
   "name": "python",
   "nbconvert_exporter": "python",
   "pygments_lexer": "ipython3",
   "version": "3.10.2"
  }
 },
 "nbformat": 4,
 "nbformat_minor": 5
}
