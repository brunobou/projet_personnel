{
 "cells": [
  {
   "cell_type": "code",
   "execution_count": 1,
   "id": "23bb21a4",
   "metadata": {},
   "outputs": [],
   "source": [
    "import pandas as pd\n",
    "import numpy as np\n",
    "import matplotlib.pyplot as plt\n",
    "%matplotlib inline\n",
    "import seaborn as sns"
   ]
  },
  {
   "cell_type": "code",
   "execution_count": 2,
   "id": "c8b54328",
   "metadata": {},
   "outputs": [],
   "source": [
    "from sklearn.model_selection import train_test_split\n",
    "from sklearn.neighbors import KNeighborsClassifier\n",
    "from sklearn.linear_model import LogisticRegression\n",
    "from sklearn.svm import SVC\n",
    "from sklearn.tree import DecisionTreeClassifier\n",
    "from sklearn.model_selection import GridSearchCV,StratifiedKFold\n",
    "from sklearn.model_selection import cross_val_score"
   ]
  },
  {
   "cell_type": "code",
   "execution_count": 3,
   "id": "8fe71d4f",
   "metadata": {},
   "outputs": [],
   "source": [
    "df= pd.read_csv(\"train_preprocessed.csv\",index_col = 0)\n",
    "#df_test = pd.read_csv(\"test_preprocessed.csv\",index_col = 0)"
   ]
  },
  {
   "cell_type": "code",
   "execution_count": 4,
   "id": "93c5938b",
   "metadata": {},
   "outputs": [
    {
     "data": {
      "text/html": [
       "<div>\n",
       "<style scoped>\n",
       "    .dataframe tbody tr th:only-of-type {\n",
       "        vertical-align: middle;\n",
       "    }\n",
       "\n",
       "    .dataframe tbody tr th {\n",
       "        vertical-align: top;\n",
       "    }\n",
       "\n",
       "    .dataframe thead th {\n",
       "        text-align: right;\n",
       "    }\n",
       "</style>\n",
       "<table border=\"1\" class=\"dataframe\">\n",
       "  <thead>\n",
       "    <tr style=\"text-align: right;\">\n",
       "      <th></th>\n",
       "      <th>Survived</th>\n",
       "      <th>Pclass</th>\n",
       "      <th>Sex</th>\n",
       "      <th>Embarked</th>\n",
       "      <th>ischild</th>\n",
       "      <th>hasCabin</th>\n",
       "      <th>Hasfam</th>\n",
       "    </tr>\n",
       "    <tr>\n",
       "      <th>PassengerId</th>\n",
       "      <th></th>\n",
       "      <th></th>\n",
       "      <th></th>\n",
       "      <th></th>\n",
       "      <th></th>\n",
       "      <th></th>\n",
       "      <th></th>\n",
       "    </tr>\n",
       "  </thead>\n",
       "  <tbody>\n",
       "    <tr>\n",
       "      <th>1</th>\n",
       "      <td>0</td>\n",
       "      <td>3</td>\n",
       "      <td>0</td>\n",
       "      <td>1</td>\n",
       "      <td>0</td>\n",
       "      <td>0</td>\n",
       "      <td>1</td>\n",
       "    </tr>\n",
       "    <tr>\n",
       "      <th>2</th>\n",
       "      <td>1</td>\n",
       "      <td>1</td>\n",
       "      <td>1</td>\n",
       "      <td>1</td>\n",
       "      <td>0</td>\n",
       "      <td>1</td>\n",
       "      <td>1</td>\n",
       "    </tr>\n",
       "    <tr>\n",
       "      <th>3</th>\n",
       "      <td>1</td>\n",
       "      <td>3</td>\n",
       "      <td>1</td>\n",
       "      <td>1</td>\n",
       "      <td>0</td>\n",
       "      <td>0</td>\n",
       "      <td>0</td>\n",
       "    </tr>\n",
       "    <tr>\n",
       "      <th>4</th>\n",
       "      <td>1</td>\n",
       "      <td>1</td>\n",
       "      <td>1</td>\n",
       "      <td>1</td>\n",
       "      <td>0</td>\n",
       "      <td>1</td>\n",
       "      <td>1</td>\n",
       "    </tr>\n",
       "    <tr>\n",
       "      <th>5</th>\n",
       "      <td>0</td>\n",
       "      <td>3</td>\n",
       "      <td>0</td>\n",
       "      <td>1</td>\n",
       "      <td>0</td>\n",
       "      <td>0</td>\n",
       "      <td>0</td>\n",
       "    </tr>\n",
       "  </tbody>\n",
       "</table>\n",
       "</div>"
      ],
      "text/plain": [
       "             Survived  Pclass  Sex  Embarked  ischild  hasCabin  Hasfam\n",
       "PassengerId                                                            \n",
       "1                   0       3    0         1        0         0       1\n",
       "2                   1       1    1         1        0         1       1\n",
       "3                   1       3    1         1        0         0       0\n",
       "4                   1       1    1         1        0         1       1\n",
       "5                   0       3    0         1        0         0       0"
      ]
     },
     "execution_count": 4,
     "metadata": {},
     "output_type": "execute_result"
    }
   ],
   "source": [
    "df.head()"
   ]
  },
  {
   "cell_type": "code",
   "execution_count": 5,
   "id": "9d9209c9",
   "metadata": {},
   "outputs": [],
   "source": [
    "X = df.drop([\"Survived\"],axis=1)"
   ]
  },
  {
   "cell_type": "code",
   "execution_count": 6,
   "id": "0375c9c6",
   "metadata": {},
   "outputs": [],
   "source": [
    "y =df[\"Survived\"]"
   ]
  },
  {
   "cell_type": "code",
   "execution_count": 7,
   "id": "fc66b805",
   "metadata": {},
   "outputs": [
    {
     "data": {
      "text/html": [
       "<div>\n",
       "<style scoped>\n",
       "    .dataframe tbody tr th:only-of-type {\n",
       "        vertical-align: middle;\n",
       "    }\n",
       "\n",
       "    .dataframe tbody tr th {\n",
       "        vertical-align: top;\n",
       "    }\n",
       "\n",
       "    .dataframe thead th {\n",
       "        text-align: right;\n",
       "    }\n",
       "</style>\n",
       "<table border=\"1\" class=\"dataframe\">\n",
       "  <thead>\n",
       "    <tr style=\"text-align: right;\">\n",
       "      <th></th>\n",
       "      <th>Pclass</th>\n",
       "      <th>Sex</th>\n",
       "      <th>Embarked</th>\n",
       "      <th>ischild</th>\n",
       "      <th>hasCabin</th>\n",
       "      <th>Hasfam</th>\n",
       "    </tr>\n",
       "    <tr>\n",
       "      <th>PassengerId</th>\n",
       "      <th></th>\n",
       "      <th></th>\n",
       "      <th></th>\n",
       "      <th></th>\n",
       "      <th></th>\n",
       "      <th></th>\n",
       "    </tr>\n",
       "  </thead>\n",
       "  <tbody>\n",
       "    <tr>\n",
       "      <th>1</th>\n",
       "      <td>3</td>\n",
       "      <td>0</td>\n",
       "      <td>1</td>\n",
       "      <td>0</td>\n",
       "      <td>0</td>\n",
       "      <td>1</td>\n",
       "    </tr>\n",
       "    <tr>\n",
       "      <th>2</th>\n",
       "      <td>1</td>\n",
       "      <td>1</td>\n",
       "      <td>1</td>\n",
       "      <td>0</td>\n",
       "      <td>1</td>\n",
       "      <td>1</td>\n",
       "    </tr>\n",
       "    <tr>\n",
       "      <th>3</th>\n",
       "      <td>3</td>\n",
       "      <td>1</td>\n",
       "      <td>1</td>\n",
       "      <td>0</td>\n",
       "      <td>0</td>\n",
       "      <td>0</td>\n",
       "    </tr>\n",
       "    <tr>\n",
       "      <th>4</th>\n",
       "      <td>1</td>\n",
       "      <td>1</td>\n",
       "      <td>1</td>\n",
       "      <td>0</td>\n",
       "      <td>1</td>\n",
       "      <td>1</td>\n",
       "    </tr>\n",
       "    <tr>\n",
       "      <th>5</th>\n",
       "      <td>3</td>\n",
       "      <td>0</td>\n",
       "      <td>1</td>\n",
       "      <td>0</td>\n",
       "      <td>0</td>\n",
       "      <td>0</td>\n",
       "    </tr>\n",
       "  </tbody>\n",
       "</table>\n",
       "</div>"
      ],
      "text/plain": [
       "             Pclass  Sex  Embarked  ischild  hasCabin  Hasfam\n",
       "PassengerId                                                  \n",
       "1                 3    0         1        0         0       1\n",
       "2                 1    1         1        0         1       1\n",
       "3                 3    1         1        0         0       0\n",
       "4                 1    1         1        0         1       1\n",
       "5                 3    0         1        0         0       0"
      ]
     },
     "execution_count": 7,
     "metadata": {},
     "output_type": "execute_result"
    }
   ],
   "source": [
    "X.head()"
   ]
  },
  {
   "cell_type": "code",
   "execution_count": 8,
   "id": "2c85fcc3",
   "metadata": {},
   "outputs": [
    {
     "data": {
      "text/plain": [
       "PassengerId\n",
       "1    0\n",
       "2    1\n",
       "3    1\n",
       "4    1\n",
       "5    0\n",
       "Name: Survived, dtype: int64"
      ]
     },
     "execution_count": 8,
     "metadata": {},
     "output_type": "execute_result"
    }
   ],
   "source": [
    "y.head()"
   ]
  },
  {
   "cell_type": "code",
   "execution_count": 9,
   "id": "05624f8b",
   "metadata": {},
   "outputs": [],
   "source": [
    "X_train,X_val,y_train,y_val = train_test_split(X,y,test_size=0.1)"
   ]
  },
  {
   "cell_type": "code",
   "execution_count": 10,
   "id": "3fce606f",
   "metadata": {},
   "outputs": [],
   "source": [
    "neigh =  KNeighborsClassifier()\n",
    "lin= LogisticRegression() \n",
    "vect= SVC()\n",
    "tree = DecisionTreeClassifier()"
   ]
  },
  {
   "cell_type": "code",
   "execution_count": 74,
   "id": "8a925ffb",
   "metadata": {},
   "outputs": [],
   "source": [
    "#lname=[\"neighbors\",\"linear\",\"vector\",\"tree\"]\n",
    "#lname=[\"neighbors\",\"vector\",\"tree\"]\n",
    "lname=[\"linear\",\"vector\",\"tree\"]"
   ]
  },
  {
   "cell_type": "code",
   "execution_count": 75,
   "id": "30a738ec",
   "metadata": {},
   "outputs": [],
   "source": [
    "lclf= [neigh,lin,vect,tree]\n",
    "#lclf= [neigh,vect,tree]\n",
    "lclf= [lin,vect,tree]"
   ]
  },
  {
   "cell_type": "code",
   "execution_count": 13,
   "id": "1e708ac9",
   "metadata": {},
   "outputs": [],
   "source": [
    "# 4 grilles d'hyperparamètres"
   ]
  },
  {
   "cell_type": "code",
   "execution_count": 76,
   "id": "c6af2b60",
   "metadata": {},
   "outputs": [],
   "source": [
    "param_list = [#{\"n_neighbors\": [2,3,5,7,9], \"weight\": ['uniform', 'distance']},\n",
    "              {\"solver\" : ['newton-cg', 'lbfgs', 'liblinear']},\n",
    "              {\"kernel\":['linear', 'poly', 'rbf', 'sigmoid'],'C': [0.1, 1, 10, 100],'gamma':['scale', 'auto']},\n",
    "              {'criterion' : [\"gini\", \"entropy\"],'splitter' :[\"best\", \"random\"]}]\n"
   ]
  },
  {
   "cell_type": "code",
   "execution_count": null,
   "id": "b4caaf66",
   "metadata": {},
   "outputs": [],
   "source": []
  },
  {
   "cell_type": "code",
   "execution_count": null,
   "id": "93b4b996",
   "metadata": {},
   "outputs": [],
   "source": []
  },
  {
   "cell_type": "code",
   "execution_count": 77,
   "id": "f5a7edb4",
   "metadata": {},
   "outputs": [],
   "source": [
    "gridcvs = {}"
   ]
  },
  {
   "cell_type": "code",
   "execution_count": 78,
   "id": "a010cf0a",
   "metadata": {
    "scrolled": true
   },
   "outputs": [],
   "source": [
    "for Name,Clf,Param in zip(lname,lclf,param_list):\n",
    "    gridcvs[Name] = GridSearchCV(Clf,Param)\n",
    "    #print(Name,Clf,Param)\n",
    "    "
   ]
  },
  {
   "cell_type": "code",
   "execution_count": null,
   "id": "12418da1",
   "metadata": {},
   "outputs": [],
   "source": []
  },
  {
   "cell_type": "code",
   "execution_count": 79,
   "id": "fdf4fd7c",
   "metadata": {},
   "outputs": [],
   "source": [
    "strat = StratifiedKFold(n_splits=5)"
   ]
  },
  {
   "cell_type": "code",
   "execution_count": 80,
   "id": "e8cf9def",
   "metadata": {},
   "outputs": [],
   "source": [
    "outerscore = {}"
   ]
  },
  {
   "cell_type": "code",
   "execution_count": 81,
   "id": "d12db5e3",
   "metadata": {},
   "outputs": [
    {
     "name": "stdout",
     "output_type": "stream",
     "text": [
      "linear: outer accuracy 78.90 +/- 1.58\n",
      "vector: outer accuracy 81.77 +/- 2.21\n",
      "tree: outer accuracy 81.90 +/- 2.09\n"
     ]
    }
   ],
   "source": [
    "for name,gcv in gridcvs.items():\n",
    "    nested_score = cross_val_score(gcv,X_train,y_train,cv=strat)\n",
    "    outerscore[name] = nested_score\n",
    "    print(f\"{name}: outer accuracy {100 * nested_score.mean():.2f} +/- { 100 * nested_score.std():.2f}\")"
   ]
  },
  {
   "cell_type": "code",
   "execution_count": 90,
   "id": "94600788",
   "metadata": {},
   "outputs": [],
   "source": [
    "#selection du meilleur modèle\n",
    "# tree  décision modèle"
   ]
  },
  {
   "cell_type": "code",
   "execution_count": null,
   "id": "93eb4154",
   "metadata": {},
   "outputs": [],
   "source": [
    "#Hyperparamètres"
   ]
  },
  {
   "cell_type": "code",
   "execution_count": 91,
   "id": "56a0fc5f",
   "metadata": {},
   "outputs": [],
   "source": [
    "param_grid = {'criterion' : [\"gini\", \"entropy\"],\n",
    "              'splitter' :[\"best\", \"random\"],\n",
    "              \"max_features\" : [None,\"auto\",\"sqrt\",\"log2\"]}"
   ]
  },
  {
   "cell_type": "code",
   "execution_count": 92,
   "id": "85947923",
   "metadata": {},
   "outputs": [],
   "source": [
    "gridcv = GridSearchCV(estimator=tree,param_grid=param_grid)"
   ]
  },
  {
   "cell_type": "code",
   "execution_count": 93,
   "id": "abcbd1d8",
   "metadata": {},
   "outputs": [
    {
     "data": {
      "text/plain": [
       "GridSearchCV(estimator=DecisionTreeClassifier(),\n",
       "             param_grid={'criterion': ['gini', 'entropy'],\n",
       "                         'max_features': [None, 'auto', 'sqrt', 'log2'],\n",
       "                         'splitter': ['best', 'random']})"
      ]
     },
     "execution_count": 93,
     "metadata": {},
     "output_type": "execute_result"
    }
   ],
   "source": [
    "gridcv.fit(X_train,y_train)"
   ]
  },
  {
   "cell_type": "code",
   "execution_count": 94,
   "id": "09e7816f",
   "metadata": {},
   "outputs": [
    {
     "data": {
      "text/plain": [
       "{'criterion': 'gini', 'max_features': None, 'splitter': 'best'}"
      ]
     },
     "execution_count": 94,
     "metadata": {},
     "output_type": "execute_result"
    }
   ],
   "source": [
    "gridcv.best_params_"
   ]
  },
  {
   "cell_type": "code",
   "execution_count": null,
   "id": "a19e2f90",
   "metadata": {},
   "outputs": [],
   "source": [
    "#vérification"
   ]
  },
  {
   "cell_type": "code",
   "execution_count": 95,
   "id": "ba9999d2",
   "metadata": {},
   "outputs": [],
   "source": [
    "tree2 = DecisionTreeClassifier(criterion=\"gini\",max_features=None,splitter=\"best\")"
   ]
  },
  {
   "cell_type": "code",
   "execution_count": 96,
   "id": "50d57977",
   "metadata": {},
   "outputs": [
    {
     "data": {
      "text/plain": [
       "DecisionTreeClassifier()"
      ]
     },
     "execution_count": 96,
     "metadata": {},
     "output_type": "execute_result"
    }
   ],
   "source": [
    "tree2.fit(X_train,y_train)"
   ]
  },
  {
   "cell_type": "code",
   "execution_count": 97,
   "id": "f1655d51",
   "metadata": {},
   "outputs": [],
   "source": [
    "y_pred= tree2.predict(X_val)"
   ]
  },
  {
   "cell_type": "code",
   "execution_count": 98,
   "id": "906e83dc",
   "metadata": {},
   "outputs": [
    {
     "data": {
      "text/html": [
       "<div>\n",
       "<style scoped>\n",
       "    .dataframe tbody tr th:only-of-type {\n",
       "        vertical-align: middle;\n",
       "    }\n",
       "\n",
       "    .dataframe tbody tr th {\n",
       "        vertical-align: top;\n",
       "    }\n",
       "\n",
       "    .dataframe thead th {\n",
       "        text-align: right;\n",
       "    }\n",
       "</style>\n",
       "<table border=\"1\" class=\"dataframe\">\n",
       "  <thead>\n",
       "    <tr style=\"text-align: right;\">\n",
       "      <th>col_0</th>\n",
       "      <th>0</th>\n",
       "      <th>1</th>\n",
       "    </tr>\n",
       "    <tr>\n",
       "      <th>Survived</th>\n",
       "      <th></th>\n",
       "      <th></th>\n",
       "    </tr>\n",
       "  </thead>\n",
       "  <tbody>\n",
       "    <tr>\n",
       "      <th>0</th>\n",
       "      <td>49</td>\n",
       "      <td>4</td>\n",
       "    </tr>\n",
       "    <tr>\n",
       "      <th>1</th>\n",
       "      <td>18</td>\n",
       "      <td>19</td>\n",
       "    </tr>\n",
       "  </tbody>\n",
       "</table>\n",
       "</div>"
      ],
      "text/plain": [
       "col_0      0   1\n",
       "Survived        \n",
       "0         49   4\n",
       "1         18  19"
      ]
     },
     "execution_count": 98,
     "metadata": {},
     "output_type": "execute_result"
    }
   ],
   "source": [
    "pd.crosstab(y_val,y_pred)"
   ]
  },
  {
   "cell_type": "code",
   "execution_count": 99,
   "id": "91ad1b9e",
   "metadata": {},
   "outputs": [],
   "source": [
    "from sklearn.metrics import classification_report"
   ]
  },
  {
   "cell_type": "code",
   "execution_count": 101,
   "id": "726ec84e",
   "metadata": {},
   "outputs": [
    {
     "name": "stdout",
     "output_type": "stream",
     "text": [
      "              precision    recall  f1-score   support\n",
      "\n",
      "           0       0.73      0.92      0.82        53\n",
      "           1       0.83      0.51      0.63        37\n",
      "\n",
      "    accuracy                           0.76        90\n",
      "   macro avg       0.78      0.72      0.72        90\n",
      "weighted avg       0.77      0.76      0.74        90\n",
      "\n"
     ]
    }
   ],
   "source": [
    "print(classification_report(y_val,y_pred))"
   ]
  },
  {
   "cell_type": "code",
   "execution_count": null,
   "id": "36234883",
   "metadata": {},
   "outputs": [],
   "source": []
  }
 ],
 "metadata": {
  "kernelspec": {
   "display_name": "Python 3 (ipykernel)",
   "language": "python",
   "name": "python3"
  },
  "language_info": {
   "codemirror_mode": {
    "name": "ipython",
    "version": 3
   },
   "file_extension": ".py",
   "mimetype": "text/x-python",
   "name": "python",
   "nbconvert_exporter": "python",
   "pygments_lexer": "ipython3",
   "version": "3.10.2"
  }
 },
 "nbformat": 4,
 "nbformat_minor": 5
}
