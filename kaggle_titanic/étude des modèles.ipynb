{
 "cells": [
  {
   "cell_type": "code",
   "execution_count": 1,
   "id": "23bb21a4",
   "metadata": {},
   "outputs": [],
   "source": [
    "import pandas as pd\n",
    "import numpy as np\n",
    "import matplotlib.pyplot as plt\n",
    "%matplotlib inline\n",
    "import seaborn as sns"
   ]
  },
  {
   "cell_type": "code",
   "execution_count": 2,
   "id": "c8b54328",
   "metadata": {},
   "outputs": [],
   "source": [
    "from sklearn.model_selection import train_test_split\n",
    "from sklearn.neighbors import KNeighborsClassifier\n",
    "from sklearn.linear_model import LogisticRegression\n",
    "from sklearn.svm import SVC\n",
    "from sklearn.tree import DecisionTreeClassifier\n",
    "from sklearn.ensemble import RandomForestClassifier\n",
    "from sklearn.model_selection import GridSearchCV,StratifiedKFold\n",
    "from sklearn.model_selection import cross_val_score"
   ]
  },
  {
   "cell_type": "code",
   "execution_count": 3,
   "id": "8fe71d4f",
   "metadata": {},
   "outputs": [],
   "source": [
    "df= pd.read_csv(\"train_preprocessed.csv\",index_col = 0)\n",
    "#df_test = pd.read_csv(\"test_preprocessed.csv\",index_col = 0)"
   ]
  },
  {
   "cell_type": "code",
   "execution_count": 4,
   "id": "93c5938b",
   "metadata": {},
   "outputs": [
    {
     "data": {
      "text/html": [
       "<div>\n",
       "<style scoped>\n",
       "    .dataframe tbody tr th:only-of-type {\n",
       "        vertical-align: middle;\n",
       "    }\n",
       "\n",
       "    .dataframe tbody tr th {\n",
       "        vertical-align: top;\n",
       "    }\n",
       "\n",
       "    .dataframe thead th {\n",
       "        text-align: right;\n",
       "    }\n",
       "</style>\n",
       "<table border=\"1\" class=\"dataframe\">\n",
       "  <thead>\n",
       "    <tr style=\"text-align: right;\">\n",
       "      <th></th>\n",
       "      <th>Survived</th>\n",
       "      <th>Sex</th>\n",
       "      <th>Embarked</th>\n",
       "      <th>ischild</th>\n",
       "      <th>hasCabin</th>\n",
       "      <th>Hasfam</th>\n",
       "      <th>Pclass_norm</th>\n",
       "    </tr>\n",
       "    <tr>\n",
       "      <th>PassengerId</th>\n",
       "      <th></th>\n",
       "      <th></th>\n",
       "      <th></th>\n",
       "      <th></th>\n",
       "      <th></th>\n",
       "      <th></th>\n",
       "      <th></th>\n",
       "    </tr>\n",
       "  </thead>\n",
       "  <tbody>\n",
       "    <tr>\n",
       "      <th>1</th>\n",
       "      <td>0</td>\n",
       "      <td>0</td>\n",
       "      <td>1</td>\n",
       "      <td>0</td>\n",
       "      <td>0</td>\n",
       "      <td>1</td>\n",
       "      <td>1.0</td>\n",
       "    </tr>\n",
       "    <tr>\n",
       "      <th>2</th>\n",
       "      <td>1</td>\n",
       "      <td>1</td>\n",
       "      <td>1</td>\n",
       "      <td>0</td>\n",
       "      <td>1</td>\n",
       "      <td>1</td>\n",
       "      <td>0.0</td>\n",
       "    </tr>\n",
       "    <tr>\n",
       "      <th>3</th>\n",
       "      <td>1</td>\n",
       "      <td>1</td>\n",
       "      <td>1</td>\n",
       "      <td>0</td>\n",
       "      <td>0</td>\n",
       "      <td>0</td>\n",
       "      <td>1.0</td>\n",
       "    </tr>\n",
       "    <tr>\n",
       "      <th>4</th>\n",
       "      <td>1</td>\n",
       "      <td>1</td>\n",
       "      <td>1</td>\n",
       "      <td>0</td>\n",
       "      <td>1</td>\n",
       "      <td>1</td>\n",
       "      <td>0.0</td>\n",
       "    </tr>\n",
       "    <tr>\n",
       "      <th>5</th>\n",
       "      <td>0</td>\n",
       "      <td>0</td>\n",
       "      <td>1</td>\n",
       "      <td>0</td>\n",
       "      <td>0</td>\n",
       "      <td>0</td>\n",
       "      <td>1.0</td>\n",
       "    </tr>\n",
       "  </tbody>\n",
       "</table>\n",
       "</div>"
      ],
      "text/plain": [
       "             Survived  Sex  Embarked  ischild  hasCabin  Hasfam  Pclass_norm\n",
       "PassengerId                                                                 \n",
       "1                   0    0         1        0         0       1          1.0\n",
       "2                   1    1         1        0         1       1          0.0\n",
       "3                   1    1         1        0         0       0          1.0\n",
       "4                   1    1         1        0         1       1          0.0\n",
       "5                   0    0         1        0         0       0          1.0"
      ]
     },
     "execution_count": 4,
     "metadata": {},
     "output_type": "execute_result"
    }
   ],
   "source": [
    "df.head()"
   ]
  },
  {
   "cell_type": "code",
   "execution_count": 5,
   "id": "9d9209c9",
   "metadata": {},
   "outputs": [],
   "source": [
    "X = df.drop([\"Survived\"],axis=1)"
   ]
  },
  {
   "cell_type": "code",
   "execution_count": 6,
   "id": "0375c9c6",
   "metadata": {},
   "outputs": [],
   "source": [
    "y =df[\"Survived\"]"
   ]
  },
  {
   "cell_type": "code",
   "execution_count": 7,
   "id": "fc66b805",
   "metadata": {},
   "outputs": [
    {
     "data": {
      "text/html": [
       "<div>\n",
       "<style scoped>\n",
       "    .dataframe tbody tr th:only-of-type {\n",
       "        vertical-align: middle;\n",
       "    }\n",
       "\n",
       "    .dataframe tbody tr th {\n",
       "        vertical-align: top;\n",
       "    }\n",
       "\n",
       "    .dataframe thead th {\n",
       "        text-align: right;\n",
       "    }\n",
       "</style>\n",
       "<table border=\"1\" class=\"dataframe\">\n",
       "  <thead>\n",
       "    <tr style=\"text-align: right;\">\n",
       "      <th></th>\n",
       "      <th>Sex</th>\n",
       "      <th>Embarked</th>\n",
       "      <th>ischild</th>\n",
       "      <th>hasCabin</th>\n",
       "      <th>Hasfam</th>\n",
       "      <th>Pclass_norm</th>\n",
       "    </tr>\n",
       "    <tr>\n",
       "      <th>PassengerId</th>\n",
       "      <th></th>\n",
       "      <th></th>\n",
       "      <th></th>\n",
       "      <th></th>\n",
       "      <th></th>\n",
       "      <th></th>\n",
       "    </tr>\n",
       "  </thead>\n",
       "  <tbody>\n",
       "    <tr>\n",
       "      <th>1</th>\n",
       "      <td>0</td>\n",
       "      <td>1</td>\n",
       "      <td>0</td>\n",
       "      <td>0</td>\n",
       "      <td>1</td>\n",
       "      <td>1.0</td>\n",
       "    </tr>\n",
       "    <tr>\n",
       "      <th>2</th>\n",
       "      <td>1</td>\n",
       "      <td>1</td>\n",
       "      <td>0</td>\n",
       "      <td>1</td>\n",
       "      <td>1</td>\n",
       "      <td>0.0</td>\n",
       "    </tr>\n",
       "    <tr>\n",
       "      <th>3</th>\n",
       "      <td>1</td>\n",
       "      <td>1</td>\n",
       "      <td>0</td>\n",
       "      <td>0</td>\n",
       "      <td>0</td>\n",
       "      <td>1.0</td>\n",
       "    </tr>\n",
       "    <tr>\n",
       "      <th>4</th>\n",
       "      <td>1</td>\n",
       "      <td>1</td>\n",
       "      <td>0</td>\n",
       "      <td>1</td>\n",
       "      <td>1</td>\n",
       "      <td>0.0</td>\n",
       "    </tr>\n",
       "    <tr>\n",
       "      <th>5</th>\n",
       "      <td>0</td>\n",
       "      <td>1</td>\n",
       "      <td>0</td>\n",
       "      <td>0</td>\n",
       "      <td>0</td>\n",
       "      <td>1.0</td>\n",
       "    </tr>\n",
       "  </tbody>\n",
       "</table>\n",
       "</div>"
      ],
      "text/plain": [
       "             Sex  Embarked  ischild  hasCabin  Hasfam  Pclass_norm\n",
       "PassengerId                                                       \n",
       "1              0         1        0         0       1          1.0\n",
       "2              1         1        0         1       1          0.0\n",
       "3              1         1        0         0       0          1.0\n",
       "4              1         1        0         1       1          0.0\n",
       "5              0         1        0         0       0          1.0"
      ]
     },
     "execution_count": 7,
     "metadata": {},
     "output_type": "execute_result"
    }
   ],
   "source": [
    "X.head()"
   ]
  },
  {
   "cell_type": "code",
   "execution_count": 8,
   "id": "2c85fcc3",
   "metadata": {},
   "outputs": [
    {
     "data": {
      "text/plain": [
       "PassengerId\n",
       "1    0\n",
       "2    1\n",
       "3    1\n",
       "4    1\n",
       "5    0\n",
       "Name: Survived, dtype: int64"
      ]
     },
     "execution_count": 8,
     "metadata": {},
     "output_type": "execute_result"
    }
   ],
   "source": [
    "y.head()"
   ]
  },
  {
   "cell_type": "code",
   "execution_count": 9,
   "id": "05624f8b",
   "metadata": {},
   "outputs": [],
   "source": [
    "X_train,X_val,y_train,y_val = train_test_split(X,y,test_size=0.1)"
   ]
  },
  {
   "cell_type": "code",
   "execution_count": 10,
   "id": "3fce606f",
   "metadata": {},
   "outputs": [],
   "source": [
    "neigh =  KNeighborsClassifier()\n",
    "lin= LogisticRegression() \n",
    "vect= SVC()\n",
    "tree = DecisionTreeClassifier()\n",
    "rtree = RandomForestClassifier()"
   ]
  },
  {
   "cell_type": "code",
   "execution_count": 11,
   "id": "8a925ffb",
   "metadata": {},
   "outputs": [],
   "source": [
    "#lname=[\"neighbors\",\"linear\",\"vector\",\"tree\"]\n",
    "#lname=[\"neighbors\",\"vector\",\"tree\"]\n",
    "lname=[\"linear\",\"vector\",\"tree\",\"random tree\"]"
   ]
  },
  {
   "cell_type": "code",
   "execution_count": 12,
   "id": "30a738ec",
   "metadata": {},
   "outputs": [],
   "source": [
    "#lclf= [neigh,lin,vect,tree]\n",
    "#lclf= [neigh,vect,tree]\n",
    "lclf= [lin,vect,tree,rtree]"
   ]
  },
  {
   "cell_type": "code",
   "execution_count": 13,
   "id": "1e708ac9",
   "metadata": {},
   "outputs": [],
   "source": [
    "# 4 grilles d'hyperparamètres"
   ]
  },
  {
   "cell_type": "code",
   "execution_count": 14,
   "id": "c6af2b60",
   "metadata": {},
   "outputs": [],
   "source": [
    "param_list = [#{\"n_neighbors\": [2,3,5,7,9], \"weight\": ['uniform', 'distance']},\n",
    "              {\"solver\" : ['newton-cg', 'lbfgs', 'liblinear']},\n",
    "              {\"kernel\":['linear', 'poly', 'rbf', 'sigmoid'],'C': [0.1, 1, 10, 100],'gamma':['scale', 'auto']},\n",
    "              {'criterion' : [\"gini\", \"entropy\"],'splitter' :[\"best\", \"random\"]},\n",
    "              {'criterion' : [\"gini\", \"entropy\"]}\n",
    "                ]\n"
   ]
  },
  {
   "cell_type": "code",
   "execution_count": null,
   "id": "b4caaf66",
   "metadata": {},
   "outputs": [],
   "source": []
  },
  {
   "cell_type": "code",
   "execution_count": null,
   "id": "93b4b996",
   "metadata": {},
   "outputs": [],
   "source": []
  },
  {
   "cell_type": "code",
   "execution_count": 15,
   "id": "f5a7edb4",
   "metadata": {},
   "outputs": [],
   "source": [
    "gridcvs = {}"
   ]
  },
  {
   "cell_type": "code",
   "execution_count": 16,
   "id": "a010cf0a",
   "metadata": {
    "scrolled": true
   },
   "outputs": [],
   "source": [
    "for Name,Clf,Param in zip(lname,lclf,param_list):\n",
    "    gridcvs[Name] = GridSearchCV(Clf,Param)\n",
    "    #print(Name,Clf,Param)\n",
    "    "
   ]
  },
  {
   "cell_type": "code",
   "execution_count": null,
   "id": "12418da1",
   "metadata": {},
   "outputs": [],
   "source": []
  },
  {
   "cell_type": "code",
   "execution_count": 17,
   "id": "fdf4fd7c",
   "metadata": {},
   "outputs": [],
   "source": [
    "strat = StratifiedKFold(n_splits=5)"
   ]
  },
  {
   "cell_type": "code",
   "execution_count": 18,
   "id": "e8cf9def",
   "metadata": {},
   "outputs": [],
   "source": [
    "outerscore = {}"
   ]
  },
  {
   "cell_type": "code",
   "execution_count": 19,
   "id": "d12db5e3",
   "metadata": {},
   "outputs": [
    {
     "name": "stdout",
     "output_type": "stream",
     "text": [
      "linear: outer accuracy 78.15 +/- 2.29\n",
      "vector: outer accuracy 78.90 +/- 1.04\n",
      "tree: outer accuracy 80.65 +/- 2.24\n",
      "random tree: outer accuracy 79.78 +/- 1.43\n"
     ]
    }
   ],
   "source": [
    "for name,gcv in gridcvs.items():\n",
    "    nested_score = cross_val_score(gcv,X_train,y_train,cv=strat)\n",
    "    outerscore[name] = nested_score\n",
    "    print(f\"{name}: outer accuracy {100 * nested_score.mean():.2f} +/- { 100 * nested_score.std():.2f}\")"
   ]
  },
  {
   "cell_type": "code",
   "execution_count": 20,
   "id": "94600788",
   "metadata": {},
   "outputs": [],
   "source": [
    "\n",
    "# tree  décision modèle"
   ]
  },
  {
   "cell_type": "code",
   "execution_count": 21,
   "id": "93eb4154",
   "metadata": {},
   "outputs": [],
   "source": [
    "#Hyperparamètres"
   ]
  },
  {
   "cell_type": "code",
   "execution_count": 22,
   "id": "56a0fc5f",
   "metadata": {},
   "outputs": [],
   "source": [
    "param_grid = {'criterion' : [\"gini\", \"entropy\"],\n",
    "              'splitter' :[\"best\", \"random\"],\n",
    "              \"max_features\" : [None,\"auto\",\"sqrt\",\"log2\"]}"
   ]
  },
  {
   "cell_type": "code",
   "execution_count": 23,
   "id": "85947923",
   "metadata": {},
   "outputs": [],
   "source": [
    "gridcv = GridSearchCV(estimator=tree,param_grid=param_grid)"
   ]
  },
  {
   "cell_type": "code",
   "execution_count": 24,
   "id": "abcbd1d8",
   "metadata": {},
   "outputs": [
    {
     "data": {
      "text/plain": [
       "GridSearchCV(estimator=DecisionTreeClassifier(),\n",
       "             param_grid={'criterion': ['gini', 'entropy'],\n",
       "                         'max_features': [None, 'auto', 'sqrt', 'log2'],\n",
       "                         'splitter': ['best', 'random']})"
      ]
     },
     "execution_count": 24,
     "metadata": {},
     "output_type": "execute_result"
    }
   ],
   "source": [
    "gridcv.fit(X_train,y_train)"
   ]
  },
  {
   "cell_type": "code",
   "execution_count": 25,
   "id": "09e7816f",
   "metadata": {},
   "outputs": [
    {
     "data": {
      "text/plain": [
       "{'criterion': 'gini', 'max_features': None, 'splitter': 'best'}"
      ]
     },
     "execution_count": 25,
     "metadata": {},
     "output_type": "execute_result"
    }
   ],
   "source": [
    "gridcv.best_params_"
   ]
  },
  {
   "cell_type": "code",
   "execution_count": 26,
   "id": "a19e2f90",
   "metadata": {},
   "outputs": [],
   "source": [
    "#vérification"
   ]
  },
  {
   "cell_type": "code",
   "execution_count": 27,
   "id": "ba9999d2",
   "metadata": {},
   "outputs": [],
   "source": [
    "tree2 = DecisionTreeClassifier(criterion=\"gini\",max_features=None,splitter=\"best\")"
   ]
  },
  {
   "cell_type": "code",
   "execution_count": 28,
   "id": "50d57977",
   "metadata": {},
   "outputs": [
    {
     "data": {
      "text/plain": [
       "DecisionTreeClassifier()"
      ]
     },
     "execution_count": 28,
     "metadata": {},
     "output_type": "execute_result"
    }
   ],
   "source": [
    "tree2.fit(X_train,y_train)"
   ]
  },
  {
   "cell_type": "code",
   "execution_count": 29,
   "id": "f1655d51",
   "metadata": {},
   "outputs": [],
   "source": [
    "y_pred= tree2.predict(X_val)"
   ]
  },
  {
   "cell_type": "code",
   "execution_count": 30,
   "id": "906e83dc",
   "metadata": {},
   "outputs": [
    {
     "data": {
      "text/html": [
       "<div>\n",
       "<style scoped>\n",
       "    .dataframe tbody tr th:only-of-type {\n",
       "        vertical-align: middle;\n",
       "    }\n",
       "\n",
       "    .dataframe tbody tr th {\n",
       "        vertical-align: top;\n",
       "    }\n",
       "\n",
       "    .dataframe thead th {\n",
       "        text-align: right;\n",
       "    }\n",
       "</style>\n",
       "<table border=\"1\" class=\"dataframe\">\n",
       "  <thead>\n",
       "    <tr style=\"text-align: right;\">\n",
       "      <th>col_0</th>\n",
       "      <th>0</th>\n",
       "      <th>1</th>\n",
       "    </tr>\n",
       "    <tr>\n",
       "      <th>Survived</th>\n",
       "      <th></th>\n",
       "      <th></th>\n",
       "    </tr>\n",
       "  </thead>\n",
       "  <tbody>\n",
       "    <tr>\n",
       "      <th>0</th>\n",
       "      <td>53</td>\n",
       "      <td>2</td>\n",
       "    </tr>\n",
       "    <tr>\n",
       "      <th>1</th>\n",
       "      <td>14</td>\n",
       "      <td>21</td>\n",
       "    </tr>\n",
       "  </tbody>\n",
       "</table>\n",
       "</div>"
      ],
      "text/plain": [
       "col_0      0   1\n",
       "Survived        \n",
       "0         53   2\n",
       "1         14  21"
      ]
     },
     "execution_count": 30,
     "metadata": {},
     "output_type": "execute_result"
    }
   ],
   "source": [
    "pd.crosstab(y_val,y_pred)"
   ]
  },
  {
   "cell_type": "code",
   "execution_count": 31,
   "id": "91ad1b9e",
   "metadata": {},
   "outputs": [],
   "source": [
    "from sklearn.metrics import classification_report"
   ]
  },
  {
   "cell_type": "code",
   "execution_count": 32,
   "id": "726ec84e",
   "metadata": {},
   "outputs": [
    {
     "name": "stdout",
     "output_type": "stream",
     "text": [
      "              precision    recall  f1-score   support\n",
      "\n",
      "           0       0.79      0.96      0.87        55\n",
      "           1       0.91      0.60      0.72        35\n",
      "\n",
      "    accuracy                           0.82        90\n",
      "   macro avg       0.85      0.78      0.80        90\n",
      "weighted avg       0.84      0.82      0.81        90\n",
      "\n"
     ]
    }
   ],
   "source": [
    "print(classification_report(y_val,y_pred))"
   ]
  },
  {
   "cell_type": "code",
   "execution_count": 33,
   "id": "36234883",
   "metadata": {},
   "outputs": [],
   "source": [
    "importance = tree2.feature_importances_"
   ]
  },
  {
   "cell_type": "code",
   "execution_count": 34,
   "id": "7f354838",
   "metadata": {},
   "outputs": [
    {
     "data": {
      "image/png": "[encoded data removed]",
      "text/plain": [
       "<Figure size 432x288 with 1 Axes>"
      ]
     },
     "metadata": {
      "needs_background": "light"
     },
     "output_type": "display_data"
    }
   ],
   "source": [
    "plt.bar([x for x in range(len(importance))], importance)\n",
    "plt.show()"
   ]
  },
  {
   "cell_type": "code",
   "execution_count": 35,
   "id": "b010fa2d",
   "metadata": {},
   "outputs": [
    {
     "data": {
      "text/html": [
       "<div>\n",
       "<style scoped>\n",
       "    .dataframe tbody tr th:only-of-type {\n",
       "        vertical-align: middle;\n",
       "    }\n",
       "\n",
       "    .dataframe tbody tr th {\n",
       "        vertical-align: top;\n",
       "    }\n",
       "\n",
       "    .dataframe thead th {\n",
       "        text-align: right;\n",
       "    }\n",
       "</style>\n",
       "<table border=\"1\" class=\"dataframe\">\n",
       "  <thead>\n",
       "    <tr style=\"text-align: right;\">\n",
       "      <th></th>\n",
       "      <th>Sex</th>\n",
       "      <th>Embarked</th>\n",
       "      <th>ischild</th>\n",
       "      <th>hasCabin</th>\n",
       "      <th>Hasfam</th>\n",
       "      <th>Pclass_norm</th>\n",
       "    </tr>\n",
       "    <tr>\n",
       "      <th>PassengerId</th>\n",
       "      <th></th>\n",
       "      <th></th>\n",
       "      <th></th>\n",
       "      <th></th>\n",
       "      <th></th>\n",
       "      <th></th>\n",
       "    </tr>\n",
       "  </thead>\n",
       "  <tbody>\n",
       "    <tr>\n",
       "      <th>1</th>\n",
       "      <td>0</td>\n",
       "      <td>1</td>\n",
       "      <td>0</td>\n",
       "      <td>0</td>\n",
       "      <td>1</td>\n",
       "      <td>1.0</td>\n",
       "    </tr>\n",
       "    <tr>\n",
       "      <th>2</th>\n",
       "      <td>1</td>\n",
       "      <td>1</td>\n",
       "      <td>0</td>\n",
       "      <td>1</td>\n",
       "      <td>1</td>\n",
       "      <td>0.0</td>\n",
       "    </tr>\n",
       "    <tr>\n",
       "      <th>3</th>\n",
       "      <td>1</td>\n",
       "      <td>1</td>\n",
       "      <td>0</td>\n",
       "      <td>0</td>\n",
       "      <td>0</td>\n",
       "      <td>1.0</td>\n",
       "    </tr>\n",
       "    <tr>\n",
       "      <th>4</th>\n",
       "      <td>1</td>\n",
       "      <td>1</td>\n",
       "      <td>0</td>\n",
       "      <td>1</td>\n",
       "      <td>1</td>\n",
       "      <td>0.0</td>\n",
       "    </tr>\n",
       "    <tr>\n",
       "      <th>5</th>\n",
       "      <td>0</td>\n",
       "      <td>1</td>\n",
       "      <td>0</td>\n",
       "      <td>0</td>\n",
       "      <td>0</td>\n",
       "      <td>1.0</td>\n",
       "    </tr>\n",
       "  </tbody>\n",
       "</table>\n",
       "</div>"
      ],
      "text/plain": [
       "             Sex  Embarked  ischild  hasCabin  Hasfam  Pclass_norm\n",
       "PassengerId                                                       \n",
       "1              0         1        0         0       1          1.0\n",
       "2              1         1        0         1       1          0.0\n",
       "3              1         1        0         0       0          1.0\n",
       "4              1         1        0         1       1          0.0\n",
       "5              0         1        0         0       0          1.0"
      ]
     },
     "execution_count": 35,
     "metadata": {},
     "output_type": "execute_result"
    }
   ],
   "source": [
    "X.head()"
   ]
  },
  {
   "cell_type": "code",
   "execution_count": 36,
   "id": "6a731892",
   "metadata": {},
   "outputs": [
    {
     "data": {
      "image/png": "[encoded data removed]",
      "text/plain": [
       "<Figure size 432x288 with 1 Axes>"
      ]
     },
     "metadata": {
      "needs_background": "light"
     },
     "output_type": "display_data"
    }
   ],
   "source": [
    "feature_names = list(X.columns.values)\n",
    "forest_importances = pd.Series(importance, index=feature_names)\n",
    "\n",
    "fig, ax = plt.subplots()\n",
    "forest_importances.plot.bar(ax=ax)\n",
    "ax.set_title(\"Feature importances\")\n",
    "ax.set_ylabel(\"feature importance score\")\n",
    "fig.tight_layout()"
   ]
  },
  {
   "cell_type": "code",
   "execution_count": 37,
   "id": "ada4c94f",
   "metadata": {},
   "outputs": [],
   "source": [
    "#random tree model"
   ]
  },
  {
   "cell_type": "code",
   "execution_count": 38,
   "id": "dc0b7039",
   "metadata": {},
   "outputs": [],
   "source": [
    "param_grid_r = {'criterion' : [\"gini\", \"entropy\"],\n",
    "              \"max_features\" : [None,\"sqrt\",\"log2\"],\n",
    "               \"class_weight\" :[\"balanced\", \"balanced_subsample\",None]\n",
    "               }"
   ]
  },
  {
   "cell_type": "code",
   "execution_count": 39,
   "id": "a09869c0",
   "metadata": {},
   "outputs": [],
   "source": [
    "gridcv_r = GridSearchCV(estimator=rtree,param_grid=param_grid_r)"
   ]
  },
  {
   "cell_type": "code",
   "execution_count": 40,
   "id": "8c2b1382",
   "metadata": {},
   "outputs": [
    {
     "data": {
      "text/plain": [
       "GridSearchCV(estimator=RandomForestClassifier(),\n",
       "             param_grid={'class_weight': ['balanced', 'balanced_subsample',\n",
       "                                          None],\n",
       "                         'criterion': ['gini', 'entropy'],\n",
       "                         'max_features': [None, 'sqrt', 'log2']})"
      ]
     },
     "execution_count": 40,
     "metadata": {},
     "output_type": "execute_result"
    }
   ],
   "source": [
    "gridcv_r.fit(X_train,y_train)"
   ]
  },
  {
   "cell_type": "code",
   "execution_count": 41,
   "id": "a20207b5",
   "metadata": {},
   "outputs": [
    {
     "data": {
      "text/plain": [
       "{'class_weight': None, 'criterion': 'gini', 'max_features': 'sqrt'}"
      ]
     },
     "execution_count": 41,
     "metadata": {},
     "output_type": "execute_result"
    }
   ],
   "source": [
    "gridcv_r.best_params_"
   ]
  },
  {
   "cell_type": "code",
   "execution_count": 42,
   "id": "4d2f71ae",
   "metadata": {},
   "outputs": [],
   "source": [
    "#Vérification"
   ]
  },
  {
   "cell_type": "code",
   "execution_count": 43,
   "id": "ed0ff037",
   "metadata": {},
   "outputs": [],
   "source": [
    "rtree2 = RandomForestClassifier(criterion=\"gini\",class_weight=None,max_features=\"sqrt\")"
   ]
  },
  {
   "cell_type": "code",
   "execution_count": 44,
   "id": "a243602a",
   "metadata": {},
   "outputs": [
    {
     "data": {
      "text/plain": [
       "RandomForestClassifier(max_features='sqrt')"
      ]
     },
     "execution_count": 44,
     "metadata": {},
     "output_type": "execute_result"
    }
   ],
   "source": [
    "rtree2.fit(X_train,y_train)"
   ]
  },
  {
   "cell_type": "code",
   "execution_count": 45,
   "id": "f8adf701",
   "metadata": {},
   "outputs": [],
   "source": [
    "y_pred_r= rtree2.predict(X_val)"
   ]
  },
  {
   "cell_type": "code",
   "execution_count": 46,
   "id": "7ae8fb0d",
   "metadata": {},
   "outputs": [
    {
     "data": {
      "text/html": [
       "<div>\n",
       "<style scoped>\n",
       "    .dataframe tbody tr th:only-of-type {\n",
       "        vertical-align: middle;\n",
       "    }\n",
       "\n",
       "    .dataframe tbody tr th {\n",
       "        vertical-align: top;\n",
       "    }\n",
       "\n",
       "    .dataframe thead th {\n",
       "        text-align: right;\n",
       "    }\n",
       "</style>\n",
       "<table border=\"1\" class=\"dataframe\">\n",
       "  <thead>\n",
       "    <tr style=\"text-align: right;\">\n",
       "      <th>col_0</th>\n",
       "      <th>0</th>\n",
       "      <th>1</th>\n",
       "    </tr>\n",
       "    <tr>\n",
       "      <th>Survived</th>\n",
       "      <th></th>\n",
       "      <th></th>\n",
       "    </tr>\n",
       "  </thead>\n",
       "  <tbody>\n",
       "    <tr>\n",
       "      <th>0</th>\n",
       "      <td>53</td>\n",
       "      <td>2</td>\n",
       "    </tr>\n",
       "    <tr>\n",
       "      <th>1</th>\n",
       "      <td>14</td>\n",
       "      <td>21</td>\n",
       "    </tr>\n",
       "  </tbody>\n",
       "</table>\n",
       "</div>"
      ],
      "text/plain": [
       "col_0      0   1\n",
       "Survived        \n",
       "0         53   2\n",
       "1         14  21"
      ]
     },
     "execution_count": 46,
     "metadata": {},
     "output_type": "execute_result"
    }
   ],
   "source": [
    "pd.crosstab(y_val,y_pred_r)"
   ]
  },
  {
   "cell_type": "code",
   "execution_count": 47,
   "id": "e145b0b8",
   "metadata": {},
   "outputs": [
    {
     "name": "stdout",
     "output_type": "stream",
     "text": [
      "              precision    recall  f1-score   support\n",
      "\n",
      "           0       0.79      0.96      0.87        55\n",
      "           1       0.91      0.60      0.72        35\n",
      "\n",
      "    accuracy                           0.82        90\n",
      "   macro avg       0.85      0.78      0.80        90\n",
      "weighted avg       0.84      0.82      0.81        90\n",
      "\n"
     ]
    }
   ],
   "source": [
    "print(classification_report(y_val,y_pred_r))"
   ]
  },
  {
   "cell_type": "code",
   "execution_count": 48,
   "id": "2bb2ef7b",
   "metadata": {},
   "outputs": [],
   "source": [
    "importance_r = rtree2.feature_importances_"
   ]
  },
  {
   "cell_type": "code",
   "execution_count": 49,
   "id": "687e97c7",
   "metadata": {},
   "outputs": [
    {
     "data": {
      "image/png": "[encoded data removed]",
      "text/plain": [
       "<Figure size 432x288 with 1 Axes>"
      ]
     },
     "metadata": {
      "needs_background": "light"
     },
     "output_type": "display_data"
    }
   ],
   "source": [
    "feature_names = list(X.columns.values)\n",
    "forest_importances_rand = pd.Series(importance_r, index=feature_names)\n",
    "\n",
    "fig, ax = plt.subplots()\n",
    "forest_importances_rand.plot.bar(ax=ax)\n",
    "ax.set_title(\"Feature importances\")\n",
    "ax.set_ylabel(\"feature importance score\")\n",
    "fig.tight_layout()"
   ]
  },
  {
   "cell_type": "code",
   "execution_count": null,
   "id": "2de80883",
   "metadata": {},
   "outputs": [],
   "source": []
  }
 ],
 "metadata": {
  "kernelspec": {
   "display_name": "Python 3 (ipykernel)",
   "language": "python",
   "name": "python3"
  },
  "language_info": {
   "codemirror_mode": {
    "name": "ipython",
    "version": 3
   },
   "file_extension": ".py",
   "mimetype": "text/x-python",
   "name": "python",
   "nbconvert_exporter": "python",
   "pygments_lexer": "ipython3",
   "version": "3.10.2"
  }
 },
 "nbformat": 4,
 "nbformat_minor": 5
}
